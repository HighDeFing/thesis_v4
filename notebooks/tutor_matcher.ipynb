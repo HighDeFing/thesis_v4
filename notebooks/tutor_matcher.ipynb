{
 "cells": [
  {
   "cell_type": "code",
   "execution_count": 12,
   "id": "d1389b28",
   "metadata": {},
   "outputs": [],
   "source": [
    "import json\n",
    "import pdfplumber\n",
    "import spacy\n",
    "import pandas as pd\n",
    "import numpy as np\n",
    "import os\n",
    "import unidecode\n",
    "import PyPDF2\n",
    "from tika import parser\n",
    "from spacy.matcher import PhraseMatcher\n",
    "from spacy import displacy\n",
    "from progress_bar.progress_bar import printProgressBar\n",
    "import torch\n",
    "import gc\n",
    "import multiprocessing\n",
    "import sys\n",
    "from flair.data import Sentence\n",
    "from flair.models import SequenceTagger\n",
    "\n",
    "        "
   ]
  },
  {
   "cell_type": "code",
   "execution_count": 13,
   "id": "2f543c26",
   "metadata": {},
   "outputs": [
    {
     "name": "stdout",
     "output_type": "stream",
     "text": [
      "2022-07-30 00:26:29,202 loading file /home/heider/.flair/models/ner-english-large/07301f59bb8cb113803be316267f06ddf9243cdbba92a4c8067ef92442d2c574.554244d3476d97501a766a98078421817b14654496b86f2f7bd139dc502a4f29\n",
      "2022-07-30 00:26:40,807 SequenceTagger predicts: Dictionary with 20 tags: <unk>, O, S-ORG, S-MISC, B-PER, E-PER, S-LOC, B-ORG, E-ORG, I-PER, S-PER, B-MISC, I-MISC, E-MISC, I-ORG, B-LOC, E-LOC, I-LOC, <START>, <STOP>\n"
     ]
    }
   ],
   "source": [
    "tagger = SequenceTagger.load(\"flair/ner-english-large\")"
   ]
  },
  {
   "cell_type": "code",
   "execution_count": null,
   "id": "46fd1dcb",
   "metadata": {},
   "outputs": [],
   "source": []
  },
  {
   "cell_type": "code",
   "execution_count": 14,
   "id": "b05fee9c",
   "metadata": {},
   "outputs": [],
   "source": [
    "nlp_spa = spacy.load('en_core_web_trf')"
   ]
  },
  {
   "cell_type": "code",
   "execution_count": 15,
   "id": "62ffd613",
   "metadata": {},
   "outputs": [],
   "source": [
    "#spacy.prefer_gpu()"
   ]
  },
  {
   "cell_type": "code",
   "execution_count": 16,
   "id": "824df496",
   "metadata": {},
   "outputs": [],
   "source": [
    "nlp_compare = spacy.load('en_core_web_lg')\n",
    "nlp_person = spacy.load('en_core_web_trf')\n",
    "#nlp_spa = spacy.load('en_core_web_sm')\n",
    "#nlp_person = spacy.load('es_core_news_lg')\n",
    "#nlp_spa = spacy.load('en_core_web_sm')\n",
    "#nlp_person = spacy.load('es_core_news_lg')\n",
    "#nlp_compare = spacy.load('en_core_web_lg')\n",
    "#nlp_person = spacy.load('en_core_web_trf')\n",
    "#nlp_person = spacy.load('es_dep_news_trf')"
   ]
  },
  {
   "cell_type": "code",
   "execution_count": 84,
   "id": "1d2557f1",
   "metadata": {},
   "outputs": [],
   "source": [
    "def clean_break_line(docs):\n",
    "    new_docs = docs.replace('\\n',\"\")\n",
    "    return new_docs\n",
    "    \n",
    "def clean_spaces_text(text):\n",
    "    new_text = \" \".join(text.split())\n",
    "    return(new_text)\n",
    "    \n",
    "def clean_points_text(docs):\n",
    "    new_docs = docs.replace('.',\"\")\n",
    "    return new_docs\n",
    "\n",
    "def clean_commas_text(docs):\n",
    "    new_docs = docs.replace(',',\"\")\n",
    "    return new_docs\n",
    "\n",
    "def clean_accents(text):\n",
    "    unaccented_string = unidecode.unidecode(text)\n",
    "    return unaccented_string\n",
    "    #lower_u_string = unaccented_string.lower()\n",
    "    #return lower_u_string\n",
    "\n",
    "def split_authors(text):\n",
    "    return text.split(\";\")\n",
    "\n",
    "def contains_text_list(names, authors):\n",
    "    df_names = []\n",
    "    df_authors = []\n",
    "    df_text = []\n",
    "    df_lower_authors = []\n",
    "    for aut in authors:\n",
    "        for elem in names:\n",
    "            df_names.append(elem)\n",
    "            df_lower_authors.append(clean_accents(aut.lower()))\n",
    "            df_text.append(contains_text(clean_accents(elem.lower()), clean_accents(aut.lower())))\n",
    "            df_authors.append(aut)\n",
    "    df = {'names': df_names,'author': df_authors, 'author_lower': df_lower_authors,'contains': df_text}\n",
    "    df = pd.DataFrame(df)\n",
    "    #print(df)\n",
    "    return df\n",
    "\n",
    "def name_in_title(data_frame, title):\n",
    "    can_tutor = data_frame.copy()\n",
    "    can_tutor['is_in_title'] = can_tutor['tutor_lower'].apply(contains_text, args = title)\n",
    "    \n",
    "    false_values = can_tutor[can_tutor['is_in_title']==False]\n",
    "    return false_values\n",
    "   \n",
    "\n",
    "def contains_text(text1, text2):\n",
    "    text_1 = text1.split(\" \").copy()\n",
    "    text_2 = text2.split(\" \").copy()\n",
    "    \n",
    "    for word_1 in text_1:\n",
    "        if word_1 != None and len(word_1)>3:\n",
    "            for word_2 in text_2:\n",
    "                if word_2!= None and word_1.lower() in word_2.lower():\n",
    "                    return True\n",
    "            \n",
    "    for word_2 in text_2:\n",
    "        if word_2 != None and len(word_2)>3:\n",
    "            for word_1 in text_1:\n",
    "                if word_1!= None and word_2.lower() in word_1.lower():\n",
    "                    return True\n",
    "    return False\n",
    "\n",
    "def pick_candidate_tutor(data_frame, title):\n",
    "    check_multiple = data_frame.copy()\n",
    "    \n",
    "    values = [\"Dios\", \"JOSE GREGORIO HERNANDEZ\"]\n",
    "    values = map(str.lower, values)\n",
    "    \n",
    "    #here we delete dios and JOSE GREGORIO HERNANDEZ and return the first name.\n",
    "    true_values = check_multiple[check_multiple[\"contains\"]==True]\n",
    "    t_names = true_values[\"names\"]\n",
    "    t_names.to_list()\n",
    "    tutor = check_multiple[~check_multiple['names'].isin(t_names.to_list())].copy()\n",
    "    tutor['tutor_lower'] = tutor['names'].str.lower()\n",
    "    tutor = tutor[~tutor['tutor_lower'].isin(values)]\n",
    "    tutor = name_in_title(tutor, title)\n",
    "    tutor = tutor['names'].to_list()[0]\n",
    "    return tutor\n",
    "    \n",
    "\n",
    "def compare_similarity_t(docs, author, threshold = 0.63):\n",
    "    aux_docs = docs.copy()\n",
    "    author = nlp_compare(author)\n",
    "    for name in aux_docs:\n",
    "        name_aux = nlp_compare(name)\n",
    "        if author.similarity(name_aux) >= threshold:\n",
    "            aux_docs.remove(name)\n",
    "        #print(name, \"<->\", author, author.similarity(name_aux))\n",
    "    return aux_docs\n",
    "\n",
    "def compare_similarity(docs, author):\n",
    "    author = nlp_compare(author)\n",
    "    for name in docs:\n",
    "        name_aux = nlp_compare(name)\n",
    "        print(name, \"<->\", author, author.similarity(name_aux))\n",
    "\n",
    "def compare_names(docs, names, threshold = 0.63):\n",
    "    aux = docs.copy()\n",
    "    if len(names) > 1:\n",
    "        for name in names:\n",
    "            aux = compare_similarity_t(aux, name, threshold)\n",
    "        return aux[0]    \n",
    "    else:\n",
    "        aux = compare_similarity_t(aux, names[0], threshold)\n",
    "        return aux[0]\n",
    "    \n",
    "def get_persons(data):\n",
    "    first_data = data\n",
    "    doc = nlp_person(first_data)\n",
    "    get_persons_list = []\n",
    "    for ent in doc.ents:\n",
    "        if ent.label_ == 'PERSON':\n",
    "            get_persons_list.append(ent.text)\n",
    "    return get_persons_list\n",
    "\n",
    "def get_persons_flair(data):\n",
    "    sentence = Sentence(data)\n",
    "    tagger.predict(sentence)\n",
    "    \n",
    "    list_of_names = []\n",
    "    for label in sentence.get_labels('ner'):\n",
    "        # print label value and score\n",
    "        if label.value == \"PER\":\n",
    "            #print(f'the text of label.data_point is: \"{label.data_point.text}\"\\n')\n",
    "            list_of_names.append(label.data_point.text)\n",
    "    return(list_of_names)\n",
    "\n",
    "class Tutor():\n",
    "    def __init__(self, l):\n",
    "        self.j = 0\n",
    "        self.l = l\n",
    "        \n",
    "    def compare_all_names(self, file_source, author, threshold = 0.63):\n",
    "        printProgressBar(self.j, self.l, prefix = 'Progress:', suffix = 'Complete', length = 50)\n",
    "        try:\n",
    "            parsed_pdf = parser.from_file(file_source)\n",
    "            data = parsed_pdf['content']\n",
    "            data = clean_break_line(data)\n",
    "            data = clean_spaces_text(data)\n",
    "            data = clean_points_text(data)\n",
    "            #data = clean_accents_lower(data)\n",
    "            #data[:8000]\n",
    "            docs = get_persons(data[:8000])\n",
    "            docs = list(map(clean_accents, docs)) #clean the accents\n",
    "\n",
    "            authors = split_authors(author)\n",
    "            tutor = compare_names(docs, authors, threshold)\n",
    "            self.j+=1\n",
    "            return tutor\n",
    "        except:\n",
    "            self.j+=1\n",
    "            return \"No tutor\"\n",
    "        \n",
    "    def compare_all_names_flair(self, file_source, author, title):\n",
    "        self.j+=1\n",
    "        printProgressBar(self.j, self.l, prefix = 'Progress:', suffix = 'Complete', length = 50)\n",
    "        try:\n",
    "            parsed_pdf = parser.from_file(file_source)\n",
    "            data = parsed_pdf['content']\n",
    "            data = clean_break_line(data)\n",
    "            data = clean_spaces_text(data)\n",
    "            data = clean_points_text(data)\n",
    "            docs = data[:8000]\n",
    "            docs = clean_accents(docs) #clean the accents\n",
    "\n",
    "            #flair\n",
    "            sentence = Sentence(docs)\n",
    "            tagger.predict(sentence)\n",
    "\n",
    "            list_of_names = []\n",
    "            for label in sentence.get_labels('ner'):\n",
    "                # print label value and score\n",
    "                if label.value == \"PER\":\n",
    "                    #print(f'the text of label.data_point is: \"{label.data_point.text}\"\\n')\n",
    "                    list_of_names.append(label.data_point.text)\n",
    "            #print(list_of_names)\n",
    "            check_multiple = contains_text_list(list_of_names, [author])\n",
    "            can_tutor = pick_candidate_tutor(check_multiple, [title])\n",
    "            return can_tutor\n",
    "        except:\n",
    "            return \"No tutor\"\n",
    "                    \n",
    "            \n",
    "            \n",
    "            \n",
    "        \n",
    "        \n",
    "        \n",
    "    \n",
    "    "
   ]
  },
  {
   "cell_type": "code",
   "execution_count": 85,
   "id": "7010dcda",
   "metadata": {},
   "outputs": [
    {
     "data": {
      "text/html": [
       "<div>\n",
       "<style scoped>\n",
       "    .dataframe tbody tr th:only-of-type {\n",
       "        vertical-align: middle;\n",
       "    }\n",
       "\n",
       "    .dataframe tbody tr th {\n",
       "        vertical-align: top;\n",
       "    }\n",
       "\n",
       "    .dataframe thead th {\n",
       "        text-align: right;\n",
       "    }\n",
       "</style>\n",
       "<table border=\"1\" class=\"dataframe\">\n",
       "  <thead>\n",
       "    <tr style=\"text-align: right;\">\n",
       "      <th></th>\n",
       "      <th>index</th>\n",
       "      <th>thesis_year</th>\n",
       "      <th>thesis_title</th>\n",
       "      <th>thesis_author</th>\n",
       "      <th>size</th>\n",
       "      <th>thesis_link</th>\n",
       "      <th>pdf_link</th>\n",
       "      <th>resumen</th>\n",
       "      <th>path</th>\n",
       "      <th>exist</th>\n",
       "      <th>isPDF</th>\n",
       "      <th>isScan</th>\n",
       "      <th>school_simple</th>\n",
       "      <th>school_complex</th>\n",
       "    </tr>\n",
       "  </thead>\n",
       "  <tbody>\n",
       "    <tr>\n",
       "      <th>0</th>\n",
       "      <td>1</td>\n",
       "      <td>2009</td>\n",
       "      <td>Estudio de sobretensiones por maniobra debido ...</td>\n",
       "      <td>De Gregorio S., Luis T.</td>\n",
       "      <td>6.77 MB</td>\n",
       "      <td>http://saber.ucv.ve/handle/10872/17712</td>\n",
       "      <td>http://saber.ucv.ve/bitstream/10872/17712/1/TE...</td>\n",
       "      <td>NaN</td>\n",
       "      <td>thesis_pdf_all/1.pdf</td>\n",
       "      <td>True</td>\n",
       "      <td>True</td>\n",
       "      <td>False</td>\n",
       "      <td>escuela de ingenieria electrica</td>\n",
       "      <td>Escuela de Ingeniería Eléctrica</td>\n",
       "    </tr>\n",
       "    <tr>\n",
       "      <th>1</th>\n",
       "      <td>249</td>\n",
       "      <td>13-Oct-2011</td>\n",
       "      <td>Análisis y evaluación de la aplicación de tecn...</td>\n",
       "      <td>González P., Héctor V.</td>\n",
       "      <td>2.61 MB</td>\n",
       "      <td>http://saber.ucv.ve/handle/10872/426</td>\n",
       "      <td>http://saber.ucv.ve/bitstream/10872/426/1/TRAB...</td>\n",
       "      <td>NaN</td>\n",
       "      <td>thesis_pdf_all/249.pdf</td>\n",
       "      <td>True</td>\n",
       "      <td>True</td>\n",
       "      <td>False</td>\n",
       "      <td>escuela de ingenieria de petroleo</td>\n",
       "      <td>Escuela de Ingeniería de Petroleo</td>\n",
       "    </tr>\n",
       "    <tr>\n",
       "      <th>2</th>\n",
       "      <td>197</td>\n",
       "      <td>30-Sep-2011</td>\n",
       "      <td>Modelo de participación comunitaria del comité...</td>\n",
       "      <td>Carrillo C., Nancy; Márquez S., Migdalia</td>\n",
       "      <td>280.68 kB</td>\n",
       "      <td>http://saber.ucv.ve/handle/10872/325</td>\n",
       "      <td>http://saber.ucv.ve/bitstream/10872/325/1/MODE...</td>\n",
       "      <td>NaN</td>\n",
       "      <td>thesis_pdf_all/197.pdf</td>\n",
       "      <td>True</td>\n",
       "      <td>True</td>\n",
       "      <td>False</td>\n",
       "      <td>escuela de enfermeria</td>\n",
       "      <td>Escuela de Enfermería</td>\n",
       "    </tr>\n",
       "    <tr>\n",
       "      <th>3</th>\n",
       "      <td>198</td>\n",
       "      <td>30-Sep-2011</td>\n",
       "      <td>Calidad del cuidado brindado por el profesiona...</td>\n",
       "      <td>Casaña, Yurima; Florido, Lisbeth; Nieves, Rosa</td>\n",
       "      <td>481.18 kB</td>\n",
       "      <td>http://saber.ucv.ve/handle/10872/326</td>\n",
       "      <td>http://saber.ucv.ve/bitstream/10872/326/1/tesi...</td>\n",
       "      <td>NaN</td>\n",
       "      <td>thesis_pdf_all/198.pdf</td>\n",
       "      <td>True</td>\n",
       "      <td>True</td>\n",
       "      <td>False</td>\n",
       "      <td>escuela de enfermeria</td>\n",
       "      <td>Escuela de Enfermería</td>\n",
       "    </tr>\n",
       "    <tr>\n",
       "      <th>4</th>\n",
       "      <td>199</td>\n",
       "      <td>30-Sep-2011</td>\n",
       "      <td>Programa de educación para la prevención del v...</td>\n",
       "      <td>Colmenares, Suleimy; Contreras, Rosa Y.; Valer...</td>\n",
       "      <td>483.44 kB</td>\n",
       "      <td>http://saber.ucv.ve/handle/10872/327</td>\n",
       "      <td>http://saber.ucv.ve/bitstream/10872/327/1/TESI...</td>\n",
       "      <td>NaN</td>\n",
       "      <td>thesis_pdf_all/199.pdf</td>\n",
       "      <td>True</td>\n",
       "      <td>True</td>\n",
       "      <td>False</td>\n",
       "      <td>escuela de enfermeria</td>\n",
       "      <td>Escuela de Enfermería</td>\n",
       "    </tr>\n",
       "    <tr>\n",
       "      <th>...</th>\n",
       "      <td>...</td>\n",
       "      <td>...</td>\n",
       "      <td>...</td>\n",
       "      <td>...</td>\n",
       "      <td>...</td>\n",
       "      <td>...</td>\n",
       "      <td>...</td>\n",
       "      <td>...</td>\n",
       "      <td>...</td>\n",
       "      <td>...</td>\n",
       "      <td>...</td>\n",
       "      <td>...</td>\n",
       "      <td>...</td>\n",
       "      <td>...</td>\n",
       "    </tr>\n",
       "    <tr>\n",
       "      <th>7144</th>\n",
       "      <td>7733</td>\n",
       "      <td>30-Jul-2019</td>\n",
       "      <td>Evaluación y selección de sensores en sistemas...</td>\n",
       "      <td>Sandia I., Alexandra C.</td>\n",
       "      <td>1.4 MB</td>\n",
       "      <td>http://saber.ucv.ve/handle/10872/20088</td>\n",
       "      <td>http://saber.ucv.ve/bitstream/10872/20088/1/TE...</td>\n",
       "      <td>NaN</td>\n",
       "      <td>thesis_pdf_all/7733.pdf</td>\n",
       "      <td>True</td>\n",
       "      <td>True</td>\n",
       "      <td>False</td>\n",
       "      <td>escuela de ingenieria electrica</td>\n",
       "      <td>Escuela de Ingeniería Eléctrica</td>\n",
       "    </tr>\n",
       "    <tr>\n",
       "      <th>7145</th>\n",
       "      <td>7734</td>\n",
       "      <td>30-Jul-2019</td>\n",
       "      <td>Diseño de una red industrial MODBUS RTU inalám...</td>\n",
       "      <td>Temprano G., Alejandro J.</td>\n",
       "      <td>1.35 MB</td>\n",
       "      <td>http://saber.ucv.ve/handle/10872/20089</td>\n",
       "      <td>http://saber.ucv.ve/bitstream/10872/20089/1/TE...</td>\n",
       "      <td>NaN</td>\n",
       "      <td>thesis_pdf_all/7734.pdf</td>\n",
       "      <td>True</td>\n",
       "      <td>True</td>\n",
       "      <td>False</td>\n",
       "      <td>escuela de ingenieria electrica</td>\n",
       "      <td>Escuela de Ingeniería Eléctrica</td>\n",
       "    </tr>\n",
       "    <tr>\n",
       "      <th>7146</th>\n",
       "      <td>7735</td>\n",
       "      <td>31-Jul-2019</td>\n",
       "      <td>Estimación de la demanda y energía eléctrica e...</td>\n",
       "      <td>Landaeta R., Ana G.</td>\n",
       "      <td>2.45 MB</td>\n",
       "      <td>http://saber.ucv.ve/handle/10872/20090</td>\n",
       "      <td>http://saber.ucv.ve/bitstream/10872/20090/1/La...</td>\n",
       "      <td>NaN</td>\n",
       "      <td>thesis_pdf_all/7735.pdf</td>\n",
       "      <td>True</td>\n",
       "      <td>True</td>\n",
       "      <td>False</td>\n",
       "      <td>escuela de ingenieria electrica</td>\n",
       "      <td>Escuela de Ingeniería Eléctrica</td>\n",
       "    </tr>\n",
       "    <tr>\n",
       "      <th>7147</th>\n",
       "      <td>7736</td>\n",
       "      <td>31-Jul-2019</td>\n",
       "      <td>Diseño de un sistema de comunicación entre un ...</td>\n",
       "      <td>Borges F., Gabriel A.</td>\n",
       "      <td>4.76 MB</td>\n",
       "      <td>http://saber.ucv.ve/handle/10872/20091</td>\n",
       "      <td>http://saber.ucv.ve/bitstream/10872/20091/1/TE...</td>\n",
       "      <td>NaN</td>\n",
       "      <td>thesis_pdf_all/7736.pdf</td>\n",
       "      <td>True</td>\n",
       "      <td>True</td>\n",
       "      <td>False</td>\n",
       "      <td>escuela de ingenieria electrica</td>\n",
       "      <td>Escuela de Ingeniería Eléctrica</td>\n",
       "    </tr>\n",
       "    <tr>\n",
       "      <th>7148</th>\n",
       "      <td>8211</td>\n",
       "      <td>12-Mar-2021</td>\n",
       "      <td>La industria musical surcoreana, recepción y a...</td>\n",
       "      <td>Utrera Ávila, Joselin Marly</td>\n",
       "      <td>2.33 MB</td>\n",
       "      <td>http://saber.ucv.ve/handle/10872/20974</td>\n",
       "      <td>http://saber.ucv.ve/bitstream/10872/20974/1/TF...</td>\n",
       "      <td>NaN</td>\n",
       "      <td>thesis_pdf_all/8211.pdf</td>\n",
       "      <td>True</td>\n",
       "      <td>True</td>\n",
       "      <td>False</td>\n",
       "      <td>escuela de sociologia</td>\n",
       "      <td>Escuela de Sociología</td>\n",
       "    </tr>\n",
       "  </tbody>\n",
       "</table>\n",
       "<p>7149 rows × 14 columns</p>\n",
       "</div>"
      ],
      "text/plain": [
       "      index  thesis_year                                       thesis_title  \\\n",
       "0         1         2009  Estudio de sobretensiones por maniobra debido ...   \n",
       "1       249  13-Oct-2011  Análisis y evaluación de la aplicación de tecn...   \n",
       "2       197  30-Sep-2011  Modelo de participación comunitaria del comité...   \n",
       "3       198  30-Sep-2011  Calidad del cuidado brindado por el profesiona...   \n",
       "4       199  30-Sep-2011  Programa de educación para la prevención del v...   \n",
       "...     ...          ...                                                ...   \n",
       "7144   7733  30-Jul-2019  Evaluación y selección de sensores en sistemas...   \n",
       "7145   7734  30-Jul-2019  Diseño de una red industrial MODBUS RTU inalám...   \n",
       "7146   7735  31-Jul-2019  Estimación de la demanda y energía eléctrica e...   \n",
       "7147   7736  31-Jul-2019  Diseño de un sistema de comunicación entre un ...   \n",
       "7148   8211  12-Mar-2021  La industria musical surcoreana, recepción y a...   \n",
       "\n",
       "                                          thesis_author       size  \\\n",
       "0                               De Gregorio S., Luis T.    6.77 MB   \n",
       "1                                González P., Héctor V.    2.61 MB   \n",
       "2              Carrillo C., Nancy; Márquez S., Migdalia  280.68 kB   \n",
       "3        Casaña, Yurima; Florido, Lisbeth; Nieves, Rosa  481.18 kB   \n",
       "4     Colmenares, Suleimy; Contreras, Rosa Y.; Valer...  483.44 kB   \n",
       "...                                                 ...        ...   \n",
       "7144                            Sandia I., Alexandra C.     1.4 MB   \n",
       "7145                          Temprano G., Alejandro J.    1.35 MB   \n",
       "7146                                Landaeta R., Ana G.    2.45 MB   \n",
       "7147                              Borges F., Gabriel A.    4.76 MB   \n",
       "7148                        Utrera Ávila, Joselin Marly    2.33 MB   \n",
       "\n",
       "                                 thesis_link  \\\n",
       "0     http://saber.ucv.ve/handle/10872/17712   \n",
       "1       http://saber.ucv.ve/handle/10872/426   \n",
       "2       http://saber.ucv.ve/handle/10872/325   \n",
       "3       http://saber.ucv.ve/handle/10872/326   \n",
       "4       http://saber.ucv.ve/handle/10872/327   \n",
       "...                                      ...   \n",
       "7144  http://saber.ucv.ve/handle/10872/20088   \n",
       "7145  http://saber.ucv.ve/handle/10872/20089   \n",
       "7146  http://saber.ucv.ve/handle/10872/20090   \n",
       "7147  http://saber.ucv.ve/handle/10872/20091   \n",
       "7148  http://saber.ucv.ve/handle/10872/20974   \n",
       "\n",
       "                                               pdf_link  resumen  \\\n",
       "0     http://saber.ucv.ve/bitstream/10872/17712/1/TE...      NaN   \n",
       "1     http://saber.ucv.ve/bitstream/10872/426/1/TRAB...      NaN   \n",
       "2     http://saber.ucv.ve/bitstream/10872/325/1/MODE...      NaN   \n",
       "3     http://saber.ucv.ve/bitstream/10872/326/1/tesi...      NaN   \n",
       "4     http://saber.ucv.ve/bitstream/10872/327/1/TESI...      NaN   \n",
       "...                                                 ...      ...   \n",
       "7144  http://saber.ucv.ve/bitstream/10872/20088/1/TE...      NaN   \n",
       "7145  http://saber.ucv.ve/bitstream/10872/20089/1/TE...      NaN   \n",
       "7146  http://saber.ucv.ve/bitstream/10872/20090/1/La...      NaN   \n",
       "7147  http://saber.ucv.ve/bitstream/10872/20091/1/TE...      NaN   \n",
       "7148  http://saber.ucv.ve/bitstream/10872/20974/1/TF...      NaN   \n",
       "\n",
       "                         path  exist  isPDF  isScan  \\\n",
       "0        thesis_pdf_all/1.pdf   True   True   False   \n",
       "1      thesis_pdf_all/249.pdf   True   True   False   \n",
       "2      thesis_pdf_all/197.pdf   True   True   False   \n",
       "3      thesis_pdf_all/198.pdf   True   True   False   \n",
       "4      thesis_pdf_all/199.pdf   True   True   False   \n",
       "...                       ...    ...    ...     ...   \n",
       "7144  thesis_pdf_all/7733.pdf   True   True   False   \n",
       "7145  thesis_pdf_all/7734.pdf   True   True   False   \n",
       "7146  thesis_pdf_all/7735.pdf   True   True   False   \n",
       "7147  thesis_pdf_all/7736.pdf   True   True   False   \n",
       "7148  thesis_pdf_all/8211.pdf   True   True   False   \n",
       "\n",
       "                          school_simple                     school_complex  \n",
       "0       escuela de ingenieria electrica    Escuela de Ingeniería Eléctrica  \n",
       "1     escuela de ingenieria de petroleo  Escuela de Ingeniería de Petroleo  \n",
       "2                 escuela de enfermeria              Escuela de Enfermería  \n",
       "3                 escuela de enfermeria              Escuela de Enfermería  \n",
       "4                 escuela de enfermeria              Escuela de Enfermería  \n",
       "...                                 ...                                ...  \n",
       "7144    escuela de ingenieria electrica    Escuela de Ingeniería Eléctrica  \n",
       "7145    escuela de ingenieria electrica    Escuela de Ingeniería Eléctrica  \n",
       "7146    escuela de ingenieria electrica    Escuela de Ingeniería Eléctrica  \n",
       "7147    escuela de ingenieria electrica    Escuela de Ingeniería Eléctrica  \n",
       "7148              escuela de sociologia              Escuela de Sociología  \n",
       "\n",
       "[7149 rows x 14 columns]"
      ]
     },
     "execution_count": 85,
     "metadata": {},
     "output_type": "execute_result"
    }
   ],
   "source": [
    "## names\n",
    "df_tesis = pd.read_csv('data/thesis_7149_with_resumen_school_complex.csv')\n",
    "df_tesis"
   ]
  },
  {
   "cell_type": "code",
   "execution_count": 96,
   "id": "18ced14c",
   "metadata": {},
   "outputs": [
    {
     "data": {
      "text/html": [
       "<div>\n",
       "<style scoped>\n",
       "    .dataframe tbody tr th:only-of-type {\n",
       "        vertical-align: middle;\n",
       "    }\n",
       "\n",
       "    .dataframe tbody tr th {\n",
       "        vertical-align: top;\n",
       "    }\n",
       "\n",
       "    .dataframe thead th {\n",
       "        text-align: right;\n",
       "    }\n",
       "</style>\n",
       "<table border=\"1\" class=\"dataframe\">\n",
       "  <thead>\n",
       "    <tr style=\"text-align: right;\">\n",
       "      <th></th>\n",
       "      <th>index</th>\n",
       "      <th>thesis_year</th>\n",
       "      <th>thesis_title</th>\n",
       "      <th>thesis_author</th>\n",
       "      <th>size</th>\n",
       "      <th>thesis_link</th>\n",
       "      <th>pdf_link</th>\n",
       "      <th>resumen</th>\n",
       "      <th>path</th>\n",
       "      <th>exist</th>\n",
       "      <th>isPDF</th>\n",
       "      <th>isScan</th>\n",
       "      <th>school_simple</th>\n",
       "      <th>school_complex</th>\n",
       "    </tr>\n",
       "  </thead>\n",
       "  <tbody>\n",
       "    <tr>\n",
       "      <th>0</th>\n",
       "      <td>1</td>\n",
       "      <td>2009</td>\n",
       "      <td>Estudio de sobretensiones por maniobra debido ...</td>\n",
       "      <td>De Gregorio S., Luis T.</td>\n",
       "      <td>6.77 MB</td>\n",
       "      <td>http://saber.ucv.ve/handle/10872/17712</td>\n",
       "      <td>http://saber.ucv.ve/bitstream/10872/17712/1/TE...</td>\n",
       "      <td>NaN</td>\n",
       "      <td>thesis_pdf_all/1.pdf</td>\n",
       "      <td>True</td>\n",
       "      <td>True</td>\n",
       "      <td>False</td>\n",
       "      <td>escuela de ingenieria electrica</td>\n",
       "      <td>Escuela de Ingeniería Eléctrica</td>\n",
       "    </tr>\n",
       "    <tr>\n",
       "      <th>1</th>\n",
       "      <td>249</td>\n",
       "      <td>13-Oct-2011</td>\n",
       "      <td>Análisis y evaluación de la aplicación de tecn...</td>\n",
       "      <td>González P., Héctor V.</td>\n",
       "      <td>2.61 MB</td>\n",
       "      <td>http://saber.ucv.ve/handle/10872/426</td>\n",
       "      <td>http://saber.ucv.ve/bitstream/10872/426/1/TRAB...</td>\n",
       "      <td>NaN</td>\n",
       "      <td>thesis_pdf_all/249.pdf</td>\n",
       "      <td>True</td>\n",
       "      <td>True</td>\n",
       "      <td>False</td>\n",
       "      <td>escuela de ingenieria de petroleo</td>\n",
       "      <td>Escuela de Ingeniería de Petroleo</td>\n",
       "    </tr>\n",
       "    <tr>\n",
       "      <th>2</th>\n",
       "      <td>197</td>\n",
       "      <td>30-Sep-2011</td>\n",
       "      <td>Modelo de participación comunitaria del comité...</td>\n",
       "      <td>Carrillo C., Nancy; Márquez S., Migdalia</td>\n",
       "      <td>280.68 kB</td>\n",
       "      <td>http://saber.ucv.ve/handle/10872/325</td>\n",
       "      <td>http://saber.ucv.ve/bitstream/10872/325/1/MODE...</td>\n",
       "      <td>NaN</td>\n",
       "      <td>thesis_pdf_all/197.pdf</td>\n",
       "      <td>True</td>\n",
       "      <td>True</td>\n",
       "      <td>False</td>\n",
       "      <td>escuela de enfermeria</td>\n",
       "      <td>Escuela de Enfermería</td>\n",
       "    </tr>\n",
       "    <tr>\n",
       "      <th>3</th>\n",
       "      <td>198</td>\n",
       "      <td>30-Sep-2011</td>\n",
       "      <td>Calidad del cuidado brindado por el profesiona...</td>\n",
       "      <td>Casaña, Yurima; Florido, Lisbeth; Nieves, Rosa</td>\n",
       "      <td>481.18 kB</td>\n",
       "      <td>http://saber.ucv.ve/handle/10872/326</td>\n",
       "      <td>http://saber.ucv.ve/bitstream/10872/326/1/tesi...</td>\n",
       "      <td>NaN</td>\n",
       "      <td>thesis_pdf_all/198.pdf</td>\n",
       "      <td>True</td>\n",
       "      <td>True</td>\n",
       "      <td>False</td>\n",
       "      <td>escuela de enfermeria</td>\n",
       "      <td>Escuela de Enfermería</td>\n",
       "    </tr>\n",
       "    <tr>\n",
       "      <th>4</th>\n",
       "      <td>199</td>\n",
       "      <td>30-Sep-2011</td>\n",
       "      <td>Programa de educación para la prevención del v...</td>\n",
       "      <td>Colmenares, Suleimy; Contreras, Rosa Y.; Valer...</td>\n",
       "      <td>483.44 kB</td>\n",
       "      <td>http://saber.ucv.ve/handle/10872/327</td>\n",
       "      <td>http://saber.ucv.ve/bitstream/10872/327/1/TESI...</td>\n",
       "      <td>NaN</td>\n",
       "      <td>thesis_pdf_all/199.pdf</td>\n",
       "      <td>True</td>\n",
       "      <td>True</td>\n",
       "      <td>False</td>\n",
       "      <td>escuela de enfermeria</td>\n",
       "      <td>Escuela de Enfermería</td>\n",
       "    </tr>\n",
       "    <tr>\n",
       "      <th>...</th>\n",
       "      <td>...</td>\n",
       "      <td>...</td>\n",
       "      <td>...</td>\n",
       "      <td>...</td>\n",
       "      <td>...</td>\n",
       "      <td>...</td>\n",
       "      <td>...</td>\n",
       "      <td>...</td>\n",
       "      <td>...</td>\n",
       "      <td>...</td>\n",
       "      <td>...</td>\n",
       "      <td>...</td>\n",
       "      <td>...</td>\n",
       "      <td>...</td>\n",
       "    </tr>\n",
       "    <tr>\n",
       "      <th>7144</th>\n",
       "      <td>7733</td>\n",
       "      <td>30-Jul-2019</td>\n",
       "      <td>Evaluación y selección de sensores en sistemas...</td>\n",
       "      <td>Sandia I., Alexandra C.</td>\n",
       "      <td>1.4 MB</td>\n",
       "      <td>http://saber.ucv.ve/handle/10872/20088</td>\n",
       "      <td>http://saber.ucv.ve/bitstream/10872/20088/1/TE...</td>\n",
       "      <td>NaN</td>\n",
       "      <td>thesis_pdf_all/7733.pdf</td>\n",
       "      <td>True</td>\n",
       "      <td>True</td>\n",
       "      <td>False</td>\n",
       "      <td>escuela de ingenieria electrica</td>\n",
       "      <td>Escuela de Ingeniería Eléctrica</td>\n",
       "    </tr>\n",
       "    <tr>\n",
       "      <th>7145</th>\n",
       "      <td>7734</td>\n",
       "      <td>30-Jul-2019</td>\n",
       "      <td>Diseño de una red industrial MODBUS RTU inalám...</td>\n",
       "      <td>Temprano G., Alejandro J.</td>\n",
       "      <td>1.35 MB</td>\n",
       "      <td>http://saber.ucv.ve/handle/10872/20089</td>\n",
       "      <td>http://saber.ucv.ve/bitstream/10872/20089/1/TE...</td>\n",
       "      <td>NaN</td>\n",
       "      <td>thesis_pdf_all/7734.pdf</td>\n",
       "      <td>True</td>\n",
       "      <td>True</td>\n",
       "      <td>False</td>\n",
       "      <td>escuela de ingenieria electrica</td>\n",
       "      <td>Escuela de Ingeniería Eléctrica</td>\n",
       "    </tr>\n",
       "    <tr>\n",
       "      <th>7146</th>\n",
       "      <td>7735</td>\n",
       "      <td>31-Jul-2019</td>\n",
       "      <td>Estimación de la demanda y energía eléctrica e...</td>\n",
       "      <td>Landaeta R., Ana G.</td>\n",
       "      <td>2.45 MB</td>\n",
       "      <td>http://saber.ucv.ve/handle/10872/20090</td>\n",
       "      <td>http://saber.ucv.ve/bitstream/10872/20090/1/La...</td>\n",
       "      <td>NaN</td>\n",
       "      <td>thesis_pdf_all/7735.pdf</td>\n",
       "      <td>True</td>\n",
       "      <td>True</td>\n",
       "      <td>False</td>\n",
       "      <td>escuela de ingenieria electrica</td>\n",
       "      <td>Escuela de Ingeniería Eléctrica</td>\n",
       "    </tr>\n",
       "    <tr>\n",
       "      <th>7147</th>\n",
       "      <td>7736</td>\n",
       "      <td>31-Jul-2019</td>\n",
       "      <td>Diseño de un sistema de comunicación entre un ...</td>\n",
       "      <td>Borges F., Gabriel A.</td>\n",
       "      <td>4.76 MB</td>\n",
       "      <td>http://saber.ucv.ve/handle/10872/20091</td>\n",
       "      <td>http://saber.ucv.ve/bitstream/10872/20091/1/TE...</td>\n",
       "      <td>NaN</td>\n",
       "      <td>thesis_pdf_all/7736.pdf</td>\n",
       "      <td>True</td>\n",
       "      <td>True</td>\n",
       "      <td>False</td>\n",
       "      <td>escuela de ingenieria electrica</td>\n",
       "      <td>Escuela de Ingeniería Eléctrica</td>\n",
       "    </tr>\n",
       "    <tr>\n",
       "      <th>7148</th>\n",
       "      <td>8211</td>\n",
       "      <td>12-Mar-2021</td>\n",
       "      <td>La industria musical surcoreana, recepción y a...</td>\n",
       "      <td>Utrera Ávila, Joselin Marly</td>\n",
       "      <td>2.33 MB</td>\n",
       "      <td>http://saber.ucv.ve/handle/10872/20974</td>\n",
       "      <td>http://saber.ucv.ve/bitstream/10872/20974/1/TF...</td>\n",
       "      <td>NaN</td>\n",
       "      <td>thesis_pdf_all/8211.pdf</td>\n",
       "      <td>True</td>\n",
       "      <td>True</td>\n",
       "      <td>False</td>\n",
       "      <td>escuela de sociologia</td>\n",
       "      <td>Escuela de Sociología</td>\n",
       "    </tr>\n",
       "  </tbody>\n",
       "</table>\n",
       "<p>7149 rows × 14 columns</p>\n",
       "</div>"
      ],
      "text/plain": [
       "      index  thesis_year                                       thesis_title  \\\n",
       "0         1         2009  Estudio de sobretensiones por maniobra debido ...   \n",
       "1       249  13-Oct-2011  Análisis y evaluación de la aplicación de tecn...   \n",
       "2       197  30-Sep-2011  Modelo de participación comunitaria del comité...   \n",
       "3       198  30-Sep-2011  Calidad del cuidado brindado por el profesiona...   \n",
       "4       199  30-Sep-2011  Programa de educación para la prevención del v...   \n",
       "...     ...          ...                                                ...   \n",
       "7144   7733  30-Jul-2019  Evaluación y selección de sensores en sistemas...   \n",
       "7145   7734  30-Jul-2019  Diseño de una red industrial MODBUS RTU inalám...   \n",
       "7146   7735  31-Jul-2019  Estimación de la demanda y energía eléctrica e...   \n",
       "7147   7736  31-Jul-2019  Diseño de un sistema de comunicación entre un ...   \n",
       "7148   8211  12-Mar-2021  La industria musical surcoreana, recepción y a...   \n",
       "\n",
       "                                          thesis_author       size  \\\n",
       "0                               De Gregorio S., Luis T.    6.77 MB   \n",
       "1                                González P., Héctor V.    2.61 MB   \n",
       "2              Carrillo C., Nancy; Márquez S., Migdalia  280.68 kB   \n",
       "3        Casaña, Yurima; Florido, Lisbeth; Nieves, Rosa  481.18 kB   \n",
       "4     Colmenares, Suleimy; Contreras, Rosa Y.; Valer...  483.44 kB   \n",
       "...                                                 ...        ...   \n",
       "7144                            Sandia I., Alexandra C.     1.4 MB   \n",
       "7145                          Temprano G., Alejandro J.    1.35 MB   \n",
       "7146                                Landaeta R., Ana G.    2.45 MB   \n",
       "7147                              Borges F., Gabriel A.    4.76 MB   \n",
       "7148                        Utrera Ávila, Joselin Marly    2.33 MB   \n",
       "\n",
       "                                 thesis_link  \\\n",
       "0     http://saber.ucv.ve/handle/10872/17712   \n",
       "1       http://saber.ucv.ve/handle/10872/426   \n",
       "2       http://saber.ucv.ve/handle/10872/325   \n",
       "3       http://saber.ucv.ve/handle/10872/326   \n",
       "4       http://saber.ucv.ve/handle/10872/327   \n",
       "...                                      ...   \n",
       "7144  http://saber.ucv.ve/handle/10872/20088   \n",
       "7145  http://saber.ucv.ve/handle/10872/20089   \n",
       "7146  http://saber.ucv.ve/handle/10872/20090   \n",
       "7147  http://saber.ucv.ve/handle/10872/20091   \n",
       "7148  http://saber.ucv.ve/handle/10872/20974   \n",
       "\n",
       "                                               pdf_link  resumen  \\\n",
       "0     http://saber.ucv.ve/bitstream/10872/17712/1/TE...      NaN   \n",
       "1     http://saber.ucv.ve/bitstream/10872/426/1/TRAB...      NaN   \n",
       "2     http://saber.ucv.ve/bitstream/10872/325/1/MODE...      NaN   \n",
       "3     http://saber.ucv.ve/bitstream/10872/326/1/tesi...      NaN   \n",
       "4     http://saber.ucv.ve/bitstream/10872/327/1/TESI...      NaN   \n",
       "...                                                 ...      ...   \n",
       "7144  http://saber.ucv.ve/bitstream/10872/20088/1/TE...      NaN   \n",
       "7145  http://saber.ucv.ve/bitstream/10872/20089/1/TE...      NaN   \n",
       "7146  http://saber.ucv.ve/bitstream/10872/20090/1/La...      NaN   \n",
       "7147  http://saber.ucv.ve/bitstream/10872/20091/1/TE...      NaN   \n",
       "7148  http://saber.ucv.ve/bitstream/10872/20974/1/TF...      NaN   \n",
       "\n",
       "                         path  exist  isPDF  isScan  \\\n",
       "0        thesis_pdf_all/1.pdf   True   True   False   \n",
       "1      thesis_pdf_all/249.pdf   True   True   False   \n",
       "2      thesis_pdf_all/197.pdf   True   True   False   \n",
       "3      thesis_pdf_all/198.pdf   True   True   False   \n",
       "4      thesis_pdf_all/199.pdf   True   True   False   \n",
       "...                       ...    ...    ...     ...   \n",
       "7144  thesis_pdf_all/7733.pdf   True   True   False   \n",
       "7145  thesis_pdf_all/7734.pdf   True   True   False   \n",
       "7146  thesis_pdf_all/7735.pdf   True   True   False   \n",
       "7147  thesis_pdf_all/7736.pdf   True   True   False   \n",
       "7148  thesis_pdf_all/8211.pdf   True   True   False   \n",
       "\n",
       "                          school_simple                     school_complex  \n",
       "0       escuela de ingenieria electrica    Escuela de Ingeniería Eléctrica  \n",
       "1     escuela de ingenieria de petroleo  Escuela de Ingeniería de Petroleo  \n",
       "2                 escuela de enfermeria              Escuela de Enfermería  \n",
       "3                 escuela de enfermeria              Escuela de Enfermería  \n",
       "4                 escuela de enfermeria              Escuela de Enfermería  \n",
       "...                                 ...                                ...  \n",
       "7144    escuela de ingenieria electrica    Escuela de Ingeniería Eléctrica  \n",
       "7145    escuela de ingenieria electrica    Escuela de Ingeniería Eléctrica  \n",
       "7146    escuela de ingenieria electrica    Escuela de Ingeniería Eléctrica  \n",
       "7147    escuela de ingenieria electrica    Escuela de Ingeniería Eléctrica  \n",
       "7148              escuela de sociologia              Escuela de Sociología  \n",
       "\n",
       "[7149 rows x 14 columns]"
      ]
     },
     "execution_count": 96,
     "metadata": {},
     "output_type": "execute_result"
    }
   ],
   "source": [
    "df_tesis_100 = df_tesis.copy()\n",
    "df_tesis_100"
   ]
  },
  {
   "cell_type": "code",
   "execution_count": 97,
   "id": "08444751",
   "metadata": {},
   "outputs": [
    {
     "data": {
      "text/plain": [
       "7149"
      ]
     },
     "execution_count": 97,
     "metadata": {},
     "output_type": "execute_result"
    }
   ],
   "source": [
    "l = len(df_tesis_100)\n",
    "l"
   ]
  },
  {
   "cell_type": "code",
   "execution_count": null,
   "id": "9ef8f38b",
   "metadata": {},
   "outputs": [
    {
     "name": "stdout",
     "output_type": "stream",
     "text": [
      "Progress: |--------------------------------------------------| 0.1% Complete\r"
     ]
    }
   ],
   "source": [
    "tutores = Tutor(l)\n",
    "l = len(df_tesis_100)\n",
    "compare_fn = np.vectorize(tutores.compare_all_names_flair, otypes=[np.ndarray])\n",
    "values_c = compare_fn('../'+ df_tesis_100['path'], df_tesis_100['thesis_author'], df_tesis_100['thesis_title'])\n",
    "df_tesis_100['thesis_tutor'] = values_c.tolist()"
   ]
  },
  {
   "cell_type": "code",
   "execution_count": null,
   "id": "3c2809ef",
   "metadata": {},
   "outputs": [],
   "source": [
    "df_tesis_100.to_csv(\"./data/thesis_tutor_7149.csv\", index=False)"
   ]
  },
  {
   "cell_type": "code",
   "execution_count": 80,
   "id": "6c03bf42",
   "metadata": {},
   "outputs": [
    {
     "data": {
      "text/plain": [
       "0    Julio Molina\n",
       "Name: thesis_tutor, dtype: object"
      ]
     },
     "execution_count": 80,
     "metadata": {},
     "output_type": "execute_result"
    }
   ],
   "source": [
    "df_tesis_100['thesis_tutor']"
   ]
  },
  {
   "cell_type": "code",
   "execution_count": 11,
   "id": "9a598ebe",
   "metadata": {},
   "outputs": [],
   "source": [
    "df_tesis_100.to_csv(\"./data/thesis_tutor_5.csv\", index=False)"
   ]
  },
  {
   "cell_type": "code",
   "execution_count": 51,
   "id": "81d9bd08",
   "metadata": {},
   "outputs": [
    {
     "data": {
      "text/plain": [
       "\"TRABAJO ESPECIAL DE GRADO ESTUDIO DE SOBRETENSIONES POR MANIOBRA DEBIDO A ENERGIZACIÓN DE BANCOS DE CONDENSADORES Y TRANSFORMADORES EN LÍNEAS DE TRANSMISIÓN DE 115kV Tutor Académico: Ing Julio Molina Presentado ante la Ilustre Universidad Central de Venezuela por el Br De Gregorio S Luis T para optar al titulo de Ingeniero Electricista Caracas 2009 ii CONSTANCIA DE APROBACIÓN Caracas 13 de mayo de 2009 Los abajo firmantes miembros del Jurado designado por el Consejo de Escuela de Ingeniería Eléctrica para evaluar el Trabajo Especial de Grado presentado por el Bachiller Luis T De Gregorio S titulado: “ESTUDIO DE SOBRETENSIONES POR MANIOBRA DEBIDO A ENERGIZACIÓN DE BANCOS DE CONDENSADORES Y TRANSFORMADORES EN LÍNEAS DE TRANSMISIÓN DE 115kV” Consideran que el mismo cumple con los requisitos exigidos por el plan de estudios conducente al Título de Ingeniero Electricista en la mención de Potencia y sin que ello signifique que se hacen solidarios con las ideas expuestas por el autor lo declaran APROBADO y obtuvo la Mención Honorífica iii DEDICATORIA A mi Dios Padre Todo Poderoso que es el principio y fundamento de mi vida y mi firme fortaleza ante todos los retos que se me presentan en ella A ti papá por ser mi inspiración para estudiar la ingeniería por brindarme todo tu amor ayer hoy y siempre ahora que Dios te tiene en el cielo para seguir guiando e iluminando cada paso de mi vida A ti mamá que eres única y una bendición maravillosa de Dios porque me has enseñado a esforzarme para salir adelante y siempre lo das todo para que no me falte nada sobretodo tu inmenso amor A ti futura y primera sobrina María de los Ángeles porque sin duda serás un regalo maravilloso que llene nuestras vidas de inmensa alegría y gozo iv AGRADECIMIENTOS A Dios en primer lugar porque gracias a su infinito amor a su abrazo consolador a su mano firme para levantarme en mis tropiezos me han dado la fortaleza y claridad necesaria que me han permitido llegar hoy a esta etapa de mi vida A mis padres a mi hermano Henry a mi novia María Fernanda y a esas personas especiales que Dios puso y sigue poniendo en mi camino para ayudarme apoyarme y motivarme en todo momento a salir adelante en la búsqueda del logro de mis metas y sueños A mis compañeros y amigos de carrera Ángel González José Benancio Benavides Juan Miguel Otero Víctor Bermúdez y Yanis Sánchez por sus consejos motivación y apoyo brindado en todo momento para superarme a pesar de esas dificultades y situaciones adversas A mi tutor académico Ing Julio Molina por guiarme y ser oportuno en el desarrollo y culminación de éste trabajo de grado a profesores de la facultad por sus enseñanzas a lo largo de la carrera y al personal administrativo de la escuela de eléctrica por su ayuda brindada y servir de guía en esos trámites importantes A la Universidad Central de Venezuela por abrirme las puertas y darme la oportunidad de formarme académicamente en tan reconocida y única casa de estudios…“la casa que vence las sombras” v De Gregorio S Luis T ESTUDIO DE SOBRETENSIONES POR MANIOBRA DEBIDO A ENERGIZACIÓN DE BANCOS DE CONDENSADORES Y TRANSFORMADORES EN LÍNEAS DE TRANSMISIÓN DE 115kV Tutor Académico: Ing Julio Molina Tesis Caracas UCV Facultad de Ingeniería Escuela de Ingeniería Eléctrica Ingeniero Electricista Opción: Potencia Institución: UCV 2009 147h + anexos Palabras Claves: Sobretensiones por maniobra; Bancos de condensadores; Transformadores; Líneas de transmisión; programas ATP y DIgSILENT; Energización Resumen Se realiza un estudio de sobretensiones por maniobra dirigido hacia la simulación determinación y análisis de las perturbaciones posibles en las líneas de transmisión en 115kV comprendidas en la ampliación del sistema de transmisión Palital-Barrancas-Tucupita debido a las maniobras de apertura y cierre de bancos de condensadores energización de transformadores y líneas de transmisión Dicho estudio comprende la descripción de una metodología para la selección de modelos adecuados que representen según el fenómeno transitorio a simular los elementos de interés del sistema eléctrico de potencia bajo estudio Posteriormente de acuerdo a los resultados obtenidos que resalten las condiciones más desfavorables sobre el sistema según las maniobras realizadas y las normas internacionales de referencia empleadas en el presente estudio se describen las conclusiones y recomendaciones pertinentes que eviten esfuerzos adicionales en la normal operación de bancos de condensadores transformadores interruptores y pararrayos dentro de las S/E's Barrancas Tucupita y la actuación indebida de las protecciones en las mismas Por último se realiza la elaboración de un instructivo básico del uso del módulo EMT del programa DIgSILENT Power Factory y se establece una comparación señalando las posibles ventajas y limitaciones de éste con el programa ATP los cuales fueron empleados para llevar a cabo el desarrollo del presente estudio vi ÍNDICE GENERAL CONSTANCIA DE APROBACIÓNii DEDICATORIAiii AGRADECIMIENTOS  iv RESUMEN v ÍNDICE GENERAL vi ÍNDICE DE TABLAS ix ÍNDICE DE FIGURASxiii ÍNDICE DE GRÁFICOSxvi LISTA DE ACRÓNIMOS Y SIGLAS xix LISTA DE ABREVIATURAS  xx INTRODUCCIÓN  1 CAPÍTULO I  5 DESCRIPCIÓN DEL SISTEMA EN ESTUDIO 5 11 Descripción del sistema eléctrico de potencia en estudio  5 CAPÍTULO II  13 GENERALIDADES Y ASPECTOS TEÓRICOS 13 21 Sobretensiones por maniobra  13 211 Espectro de frecuencias en redes eléctricas de potencia  13 22 Estudio de sobretensiones por maniobra 17 23 Maniobra de bancos de condensadores  19 231 Energización de bancos de condensadores  19 vii232 Desenergización de bancos de condensadores 24 24 Maniobra de transformadores  28 241 Corriente de magnetización y de energización “Inrush” 28 242 Sobretensiones causadas por energización de transformadores 32 243 Sobrecorrientes causadas por energización de transformadores 33 25 Maniobra de líneas de transmisión 35 251 Energización de líneas de transmisión  35 CAPÍTULO III  39 ASPECTOS METODOLÓGICOS  39 31 Herramientas de simulación en el estudio de fenómenos electromagnéticos 39 311 Programa de simulación de transitorios electromagnéticos ATP/EMTP  40 312 Programa de simulación DIgSILENT PowerFactory / módulo EMT 41 32 Desarrollo metodológico 44 321 Actualización del sistema eléctrico de potencia en estudio  44 322 Descripción de los tipos de estudio a realizar  61 323 Normas básicas de consideración en el estudio de sobretensiones por maniobra  64 CAPÍTULO IV  69 ESTUDIO DE SOBRETENSIONES POR MANIOBRA  69 41 Energización de bancos de condensadores  69 411 Casos de estudio planteados 70 412 Comparación y análisis de casos planteados 90 42 Desenergización de bancos de condensadores 93 421 Casos de estudio planteados 93 422 Comparación y análisis de resultados de casos planteados 99 43 Energización de transformadores 101 viii431 Casos de estudio planteados 102 44 Energización de líneas de transmisión  113 441 Casos de estudio planteados 114 442 Comparación y análisis de resultados de casos planteados 132 CONCLUSIONES 134 RECOMENDACIONES 141 REFERENCIAS BIBLIOGRÁFICAS 143 BIBLIOGRAFÍA 146 ANEXOS  148 ÍNDICE DE TABLAS Tabla 1 Impedancias asociadas al sistema externo  8 Tabla 2 Características generales de líneas de transmisión  9 Tabla 3 Características técnicas de transformadores  10 Tabla 4 Características generales de cargas presentes en las S/E Tucupita y Barrancas 11 Tabla 5 Características técnicas de bancos de condensadores  11 Tabla 6 Características técnicas de interruptores de potencia 12 Tabla 7 Clasificación de sobretensiones por rangos de frecuencia propuesto por el grupo de trabajo del CIGRE 33-02  14 Tabla 8 Límites de las normas IEC 62271 y ANSI C3706 respecto de las corrientes capacitivas de interruptores en la energización y desenergización de bancos de condensadores  24 Tabla 9 Valores numéricos de relaciones entre corrientes y reactancias del ensayo de vacío para tensiones de 09pu y 10pu [21] 55 Tabla 10 Valores de tensión vs corriente rms a ingresar en el pro\""
      ]
     },
     "execution_count": 51,
     "metadata": {},
     "output_type": "execute_result"
    }
   ],
   "source": [
    "thesis_number = '1'\n",
    "file_source = '../'+'thesis_pdf_all/' + thesis_number + '.pdf'\n",
    "\n",
    "parsed_pdf = parser.from_file(file_source)\n",
    "data = parsed_pdf['content']\n",
    "data = clean_break_line(data)\n",
    "data = clean_spaces_text(data)\n",
    "data = clean_points_text(data)\n",
    "data = clean_commas_text(data)\n",
    "#data = clean_accents_lower(data)\n",
    "data[:8000]"
   ]
  },
  {
   "cell_type": "code",
   "execution_count": 52,
   "id": "a238bf9b",
   "metadata": {},
   "outputs": [
    {
     "data": {
      "text/plain": [
       "['De Gregorio S., Luis T.']"
      ]
     },
     "execution_count": 52,
     "metadata": {},
     "output_type": "execute_result"
    }
   ],
   "source": [
    "author = df_tesis[df_tesis['index'] == int(thesis_number)]\n",
    "author = author['thesis_author']\n",
    "author = author.to_list()\n",
    "author = split_authors(author[0])\n",
    "author"
   ]
  },
  {
   "cell_type": "code",
   "execution_count": 53,
   "id": "6648d1f0",
   "metadata": {},
   "outputs": [
    {
     "data": {
      "text/plain": [
       "['Estudio de sobretensiones por maniobra debido a energización de bancos de condensadores y transformadores en líneas de transmisión de 115kV']"
      ]
     },
     "execution_count": 53,
     "metadata": {},
     "output_type": "execute_result"
    }
   ],
   "source": [
    "title = df_tesis[df_tesis['index'] == int(thesis_number)]\n",
    "title = title['thesis_title'].to_list()\n",
    "title = title\n",
    "title"
   ]
  },
  {
   "cell_type": "code",
   "execution_count": null,
   "id": "9fd23ad0",
   "metadata": {},
   "outputs": [],
   "source": []
  },
  {
   "cell_type": "code",
   "execution_count": 59,
   "id": "218d03fc",
   "metadata": {},
   "outputs": [],
   "source": [
    "sentence = Sentence(data[:8000])"
   ]
  },
  {
   "cell_type": "code",
   "execution_count": 60,
   "id": "392c7d4c",
   "metadata": {},
   "outputs": [],
   "source": [
    "tagger.predict(sentence)"
   ]
  },
  {
   "cell_type": "code",
   "execution_count": 56,
   "id": "28436640",
   "metadata": {},
   "outputs": [
    {
     "name": "stdout",
     "output_type": "stream",
     "text": [
      "The following NER tags are found:\n",
      "Span[28:30]: \"Julio Molina\" → PER (0.9999)\n",
      "Span[33:38]: \"Ilustre Universidad Central de Venezuela\" → ORG (1.0)\n",
      "Span[41:46]: \"De Gregorio S Luis T\" → PER (0.9979)\n",
      "Span[53:54]: \"Caracas\" → LOC (1.0)\n",
      "Span[59:60]: \"Caracas\" → LOC (1.0)\n",
      "Span[74:80]: \"Consejo de Escuela de Ingeniería Eléctrica\" → ORG (1.0)\n",
      "Span[91:96]: \"Luis T De Gregorio S\" → PER (0.9998)\n",
      "Span[173:175]: \"Dios Padre\" → PER (0.8139)\n",
      "Span[222:223]: \"Dios\" → PER (0.9987)\n",
      "Span[249:250]: \"Dios\" → PER (0.9959)\n",
      "Span[280:284]: \"María de los Ángeles\" → PER (0.9999)\n",
      "Span[303:304]: \"Dios\" → PER (0.9997)\n",
      "Span[352:353]: \"Henry\" → PER (0.9256)\n",
      "Span[356:358]: \"María Fernanda\" → PER (1.0)\n",
      "Span[364:365]: \"Dios\" → PER (0.9996)\n",
      "Span[400:402]: \"Ángel González\" → PER (1.0)\n",
      "Span[402:405]: \"José Benancio Benavides\" → PER (1.0)\n",
      "Span[405:408]: \"Juan Miguel Otero\" → PER (1.0)\n",
      "Span[408:410]: \"Víctor Bermúdez\" → PER (1.0)\n",
      "Span[411:413]: \"Yanis Sánchez\" → PER (1.0)\n",
      "Span[437:440]: \"Ing Julio Molina\" → PER (0.9999)\n",
      "Span[492:496]: \"Universidad Central de Venezuela\" → ORG (1.0)\n",
      "Span[523:524]: \"v\" → PER (0.5706)\n",
      "Span[524:528]: \"De Gregorio S Luis\" → PER (0.9854)\n",
      "Span[553:555]: \"Julio Molina\" → PER (0.9948)\n",
      "Span[556:557]: \"Caracas\" → LOC (0.9988)\n",
      "Span[557:561]: \"UCV Facultad de Ingeniería\" → ORG (0.9523)\n",
      "Span[561:565]: \"Escuela de Ingeniería Eléctrica\" → ORG (0.9997)\n",
      "Span[572:573]: \"UCV\" → ORG (1.0)\n",
      "Span[595:596]: \"ATP\" → MISC (1.0)\n",
      "Span[597:598]: \"DIgSILENT\" → MISC (0.9999)\n",
      "Span[635:636]: \"Palital-Barrancas-Tucupita\" → LOC (1.0)\n",
      "Span[749:751]: \"Barrancas Tucupita\" → LOC (0.9999)\n",
      "Span[775:776]: \"EMT\" → MISC (0.5128)\n",
      "Span[778:781]: \"DIgSILENT Power Factory\" → MISC (0.9999)\n",
      "Span[797:798]: \"ATP\" → MISC (0.9999)\n",
      "Span[995:997]: \"DIgSILENT PowerFactory\" → MISC (0.9992)\n",
      "Span[1172:1175]: \"S / E\" → LOC (0.7616)\n",
      "Span[1175:1176]: \"Tucupita\" → LOC (0.9913)\n",
      "Span[1177:1178]: \"Barrancas\" → LOC (0.9999)\n",
      "Span[1222:1224]: \"IEC 62271\" → MISC (0.9998)\n",
      "Span[1225:1227]: \"ANSI C3706\" → MISC (1.0)\n"
     ]
    }
   ],
   "source": [
    "print('The following NER tags are found:')\n",
    "# iterate over entities and print\n",
    "for entity in sentence.get_spans('ner'):\n",
    "    #print(entity.value)\n",
    "    print(entity)"
   ]
  },
  {
   "cell_type": "code",
   "execution_count": 62,
   "id": "c7e2d6a0",
   "metadata": {},
   "outputs": [
    {
     "name": "stdout",
     "output_type": "stream",
     "text": [
      "['Julio Molina', 'De Gregorio S Luis T', 'Luis T De Gregorio S', 'Dios Padre', 'Dios', 'Dios', 'María de los Ángeles', 'Dios', 'Henry', 'María Fernanda', 'Dios', 'Ángel González', 'José Benancio Benavides', 'Juan Miguel Otero', 'Víctor Bermúdez', 'Yanis Sánchez', 'Ing Julio Molina', 'v', 'De Gregorio S Luis', 'Julio Molina']\n"
     ]
    }
   ],
   "source": [
    "list_of_names = []\n",
    "for label in sentence.get_labels('ner'):\n",
    "    # print label value and score\n",
    "    if label.value == \"PER\":\n",
    "        #print(f'the text of label.data_point is: \"{label.data_point.text}\"\\n')\n",
    "        list_of_names.append(label.data_point.text)\n",
    "print(list_of_names)\n",
    "    #print(f'label.value is: \"{label.value}\"')\n",
    "    #print(f'label.score is: \"{label.score}\"')\n",
    "    # access the data point to which label attaches and print its text\n",
    "    #print(f'the text of label.data_point is: \"{label.data_point.text}\"\\n')"
   ]
  },
  {
   "cell_type": "code",
   "execution_count": 36,
   "id": "6eab8523",
   "metadata": {},
   "outputs": [
    {
     "name": "stdout",
     "output_type": "stream",
     "text": [
      "Julio Molina <-> De Gregorio S., Luis T. 0.5524505221316749\n",
      "De Gregorio S Luis T <-> De Gregorio S., Luis T. 0.8766791133385216\n",
      "Luis T De Gregorio S <-> De Gregorio S., Luis T. 0.8766791183001341\n",
      "Dios Padre <-> De Gregorio S., Luis T. 0.43350252091602565\n",
      "Dios <-> De Gregorio S., Luis T. 0.36197559504542337\n",
      "Dios <-> De Gregorio S., Luis T. 0.36197559504542337\n",
      "María de los Ángeles <-> De Gregorio S., Luis T. 0.5852971466988179\n",
      "Dios <-> De Gregorio S., Luis T. 0.36197559504542337\n",
      "Henry <-> De Gregorio S., Luis T. 0.4579960933893402\n",
      "María Fernanda <-> De Gregorio S., Luis T. 0.3351272088552749\n",
      "Dios <-> De Gregorio S., Luis T. 0.36197559504542337\n",
      "Ángel González <-> De Gregorio S., Luis T. 0.24618959322419287\n",
      "José Benancio Benavides <-> De Gregorio S., Luis T. 0.45269990713767955\n",
      "Juan Miguel Otero <-> De Gregorio S., Luis T. 0.5869483456306895\n",
      "Víctor Bermúdez <-> De Gregorio S., Luis T. 0.0\n",
      "Yanis Sánchez <-> De Gregorio S., Luis T. 0.0\n",
      "Ing Julio Molina <-> De Gregorio S., Luis T. 0.5999308949033465\n",
      "v <-> De Gregorio S., Luis T. 0.2327147116103369\n",
      "De Gregorio S Luis <-> De Gregorio S., Luis T. 0.8791130947753313\n",
      "Julio Molina <-> De Gregorio S., Luis T. 0.5524505221316749\n"
     ]
    },
    {
     "name": "stderr",
     "output_type": "stream",
     "text": [
      "/tmp/ipykernel_24894/2974367896.py:98: UserWarning: [W008] Evaluating Doc.similarity based on empty vectors.\n",
      "  print(name, \"<->\", author, author.similarity(name_aux))\n"
     ]
    }
   ],
   "source": [
    "compare_similarity(list_of_names, author[0])"
   ]
  },
  {
   "cell_type": "code",
   "execution_count": 37,
   "id": "75d77f68",
   "metadata": {},
   "outputs": [
    {
     "name": "stderr",
     "output_type": "stream",
     "text": [
      "/tmp/ipykernel_24894/2974367896.py:89: UserWarning: [W008] Evaluating Doc.similarity based on empty vectors.\n",
      "  if author.similarity(name_aux) >= threshold:\n"
     ]
    },
    {
     "data": {
      "text/plain": [
       "'De Gregorio S Luis T'"
      ]
     },
     "execution_count": 37,
     "metadata": {},
     "output_type": "execute_result"
    }
   ],
   "source": [
    "compare_names(list_of_names, author, threshold = 0.43)"
   ]
  },
  {
   "cell_type": "code",
   "execution_count": 38,
   "id": "992519d0",
   "metadata": {},
   "outputs": [
    {
     "name": "stderr",
     "output_type": "stream",
     "text": [
      "/tmp/ipykernel_24894/2974367896.py:77: SettingWithCopyWarning: \n",
      "A value is trying to be set on a copy of a slice from a DataFrame.\n",
      "Try using .loc[row_indexer,col_indexer] = value instead\n",
      "\n",
      "See the caveats in the documentation: https://pandas.pydata.org/pandas-docs/stable/user_guide/indexing.html#returning-a-view-versus-a-copy\n",
      "  tutor['tutor_lower'] = tutor['names'].str.lower().copy()\n"
     ]
    },
    {
     "data": {
      "text/plain": [
       "'Julio Molina'"
      ]
     },
     "execution_count": 38,
     "metadata": {},
     "output_type": "execute_result"
    }
   ],
   "source": [
    "check_multiple = contains_text_list(list_of_names, author)\n",
    "can_tutor = pick_candidate_tutor(check_multiple, title)\n",
    "can_tutor\n"
   ]
  },
  {
   "cell_type": "code",
   "execution_count": 39,
   "id": "e43166b9",
   "metadata": {},
   "outputs": [
    {
     "ename": "TypeError",
     "evalue": "string indices must be integers",
     "output_type": "error",
     "traceback": [
      "\u001b[0;31m---------------------------------------------------------------------------\u001b[0m",
      "\u001b[0;31mTypeError\u001b[0m                                 Traceback (most recent call last)",
      "Input \u001b[0;32mIn [39]\u001b[0m, in \u001b[0;36m<cell line: 1>\u001b[0;34m()\u001b[0m\n\u001b[0;32m----> 1\u001b[0m \u001b[43mcan_tutor\u001b[49m\u001b[43m[\u001b[49m\u001b[38;5;124;43m'\u001b[39;49m\u001b[38;5;124;43mnames\u001b[39;49m\u001b[38;5;124;43m'\u001b[39;49m\u001b[43m]\u001b[49m\u001b[38;5;241m.\u001b[39mto_list()[\u001b[38;5;241m0\u001b[39m]\n",
      "\u001b[0;31mTypeError\u001b[0m: string indices must be integers"
     ]
    }
   ],
   "source": [
    "can_tutor['names'].to_list()[0]"
   ]
  },
  {
   "cell_type": "code",
   "execution_count": 671,
   "id": "56cf5345",
   "metadata": {},
   "outputs": [
    {
     "data": {
      "text/plain": [
       "'Aura Perez'"
      ]
     },
     "execution_count": 671,
     "metadata": {},
     "output_type": "execute_result"
    }
   ],
   "source": [
    "compare_names(can_tutor['names'].to_list(), author, threshold = 0.5)"
   ]
  },
  {
   "cell_type": "code",
   "execution_count": 663,
   "id": "804b7b68",
   "metadata": {},
   "outputs": [
    {
     "data": {
      "text/html": [
       "<div>\n",
       "<style scoped>\n",
       "    .dataframe tbody tr th:only-of-type {\n",
       "        vertical-align: middle;\n",
       "    }\n",
       "\n",
       "    .dataframe tbody tr th {\n",
       "        vertical-align: top;\n",
       "    }\n",
       "\n",
       "    .dataframe thead th {\n",
       "        text-align: right;\n",
       "    }\n",
       "</style>\n",
       "<table border=\"1\" class=\"dataframe\">\n",
       "  <thead>\n",
       "    <tr style=\"text-align: right;\">\n",
       "      <th></th>\n",
       "      <th>names</th>\n",
       "      <th>author</th>\n",
       "      <th>author_lower</th>\n",
       "      <th>contains</th>\n",
       "      <th>tutor_lower</th>\n",
       "      <th>is_in_title</th>\n",
       "    </tr>\n",
       "  </thead>\n",
       "  <tbody>\n",
       "    <tr>\n",
       "      <th>6</th>\n",
       "      <td>Aura Perez</td>\n",
       "      <td>Carrillo C., Nancy</td>\n",
       "      <td>carrillo c., nancy</td>\n",
       "      <td>False</td>\n",
       "      <td>aura perez</td>\n",
       "      <td>False</td>\n",
       "    </tr>\n",
       "    <tr>\n",
       "      <th>7</th>\n",
       "      <td>Jaime Garrido</td>\n",
       "      <td>Carrillo C., Nancy</td>\n",
       "      <td>carrillo c., nancy</td>\n",
       "      <td>False</td>\n",
       "      <td>jaime garrido</td>\n",
       "      <td>False</td>\n",
       "    </tr>\n",
       "    <tr>\n",
       "      <th>10</th>\n",
       "      <td>Mylanyela Rosana</td>\n",
       "      <td>Carrillo C., Nancy</td>\n",
       "      <td>carrillo c., nancy</td>\n",
       "      <td>False</td>\n",
       "      <td>mylanyela rosana</td>\n",
       "      <td>False</td>\n",
       "    </tr>\n",
       "    <tr>\n",
       "      <th>11</th>\n",
       "      <td>Omar</td>\n",
       "      <td>Carrillo C., Nancy</td>\n",
       "      <td>carrillo c., nancy</td>\n",
       "      <td>False</td>\n",
       "      <td>omar</td>\n",
       "      <td>False</td>\n",
       "    </tr>\n",
       "    <tr>\n",
       "      <th>13</th>\n",
       "      <td>Venus</td>\n",
       "      <td>Carrillo C., Nancy</td>\n",
       "      <td>carrillo c., nancy</td>\n",
       "      <td>False</td>\n",
       "      <td>venus</td>\n",
       "      <td>False</td>\n",
       "    </tr>\n",
       "    <tr>\n",
       "      <th>16</th>\n",
       "      <td>Aura Perez</td>\n",
       "      <td>Carrillo C., Nancy</td>\n",
       "      <td>carrillo c., nancy</td>\n",
       "      <td>False</td>\n",
       "      <td>aura perez</td>\n",
       "      <td>False</td>\n",
       "    </tr>\n",
       "    <tr>\n",
       "      <th>17</th>\n",
       "      <td>Jaime Garrido</td>\n",
       "      <td>Carrillo C., Nancy</td>\n",
       "      <td>carrillo c., nancy</td>\n",
       "      <td>False</td>\n",
       "      <td>jaime garrido</td>\n",
       "      <td>False</td>\n",
       "    </tr>\n",
       "    <tr>\n",
       "      <th>22</th>\n",
       "      <td>Aura Perez</td>\n",
       "      <td>Carrillo C., Nancy</td>\n",
       "      <td>carrillo c., nancy</td>\n",
       "      <td>False</td>\n",
       "      <td>aura perez</td>\n",
       "      <td>False</td>\n",
       "    </tr>\n",
       "    <tr>\n",
       "      <th>23</th>\n",
       "      <td>Jaime Garrido</td>\n",
       "      <td>Carrillo C., Nancy</td>\n",
       "      <td>carrillo c., nancy</td>\n",
       "      <td>False</td>\n",
       "      <td>jaime garrido</td>\n",
       "      <td>False</td>\n",
       "    </tr>\n",
       "    <tr>\n",
       "      <th>30</th>\n",
       "      <td>Aura Perez</td>\n",
       "      <td>Márquez S., Migdalia</td>\n",
       "      <td>marquez s., migdalia</td>\n",
       "      <td>False</td>\n",
       "      <td>aura perez</td>\n",
       "      <td>False</td>\n",
       "    </tr>\n",
       "    <tr>\n",
       "      <th>31</th>\n",
       "      <td>Jaime Garrido</td>\n",
       "      <td>Márquez S., Migdalia</td>\n",
       "      <td>marquez s., migdalia</td>\n",
       "      <td>False</td>\n",
       "      <td>jaime garrido</td>\n",
       "      <td>False</td>\n",
       "    </tr>\n",
       "    <tr>\n",
       "      <th>34</th>\n",
       "      <td>Mylanyela Rosana</td>\n",
       "      <td>Márquez S., Migdalia</td>\n",
       "      <td>marquez s., migdalia</td>\n",
       "      <td>False</td>\n",
       "      <td>mylanyela rosana</td>\n",
       "      <td>False</td>\n",
       "    </tr>\n",
       "    <tr>\n",
       "      <th>35</th>\n",
       "      <td>Omar</td>\n",
       "      <td>Márquez S., Migdalia</td>\n",
       "      <td>marquez s., migdalia</td>\n",
       "      <td>False</td>\n",
       "      <td>omar</td>\n",
       "      <td>False</td>\n",
       "    </tr>\n",
       "    <tr>\n",
       "      <th>37</th>\n",
       "      <td>Venus</td>\n",
       "      <td>Márquez S., Migdalia</td>\n",
       "      <td>marquez s., migdalia</td>\n",
       "      <td>False</td>\n",
       "      <td>venus</td>\n",
       "      <td>False</td>\n",
       "    </tr>\n",
       "    <tr>\n",
       "      <th>40</th>\n",
       "      <td>Aura Perez</td>\n",
       "      <td>Márquez S., Migdalia</td>\n",
       "      <td>marquez s., migdalia</td>\n",
       "      <td>False</td>\n",
       "      <td>aura perez</td>\n",
       "      <td>False</td>\n",
       "    </tr>\n",
       "    <tr>\n",
       "      <th>41</th>\n",
       "      <td>Jaime Garrido</td>\n",
       "      <td>Márquez S., Migdalia</td>\n",
       "      <td>marquez s., migdalia</td>\n",
       "      <td>False</td>\n",
       "      <td>jaime garrido</td>\n",
       "      <td>False</td>\n",
       "    </tr>\n",
       "    <tr>\n",
       "      <th>46</th>\n",
       "      <td>Aura Perez</td>\n",
       "      <td>Márquez S., Migdalia</td>\n",
       "      <td>marquez s., migdalia</td>\n",
       "      <td>False</td>\n",
       "      <td>aura perez</td>\n",
       "      <td>False</td>\n",
       "    </tr>\n",
       "    <tr>\n",
       "      <th>47</th>\n",
       "      <td>Jaime Garrido</td>\n",
       "      <td>Márquez S., Migdalia</td>\n",
       "      <td>marquez s., migdalia</td>\n",
       "      <td>False</td>\n",
       "      <td>jaime garrido</td>\n",
       "      <td>False</td>\n",
       "    </tr>\n",
       "  </tbody>\n",
       "</table>\n",
       "</div>"
      ],
      "text/plain": [
       "               names                 author           author_lower  contains  \\\n",
       "6         Aura Perez     Carrillo C., Nancy     carrillo c., nancy     False   \n",
       "7      Jaime Garrido     Carrillo C., Nancy     carrillo c., nancy     False   \n",
       "10  Mylanyela Rosana     Carrillo C., Nancy     carrillo c., nancy     False   \n",
       "11              Omar     Carrillo C., Nancy     carrillo c., nancy     False   \n",
       "13             Venus     Carrillo C., Nancy     carrillo c., nancy     False   \n",
       "16        Aura Perez     Carrillo C., Nancy     carrillo c., nancy     False   \n",
       "17     Jaime Garrido     Carrillo C., Nancy     carrillo c., nancy     False   \n",
       "22        Aura Perez     Carrillo C., Nancy     carrillo c., nancy     False   \n",
       "23     Jaime Garrido     Carrillo C., Nancy     carrillo c., nancy     False   \n",
       "30        Aura Perez   Márquez S., Migdalia   marquez s., migdalia     False   \n",
       "31     Jaime Garrido   Márquez S., Migdalia   marquez s., migdalia     False   \n",
       "34  Mylanyela Rosana   Márquez S., Migdalia   marquez s., migdalia     False   \n",
       "35              Omar   Márquez S., Migdalia   marquez s., migdalia     False   \n",
       "37             Venus   Márquez S., Migdalia   marquez s., migdalia     False   \n",
       "40        Aura Perez   Márquez S., Migdalia   marquez s., migdalia     False   \n",
       "41     Jaime Garrido   Márquez S., Migdalia   marquez s., migdalia     False   \n",
       "46        Aura Perez   Márquez S., Migdalia   marquez s., migdalia     False   \n",
       "47     Jaime Garrido   Márquez S., Migdalia   marquez s., migdalia     False   \n",
       "\n",
       "         tutor_lower  is_in_title  \n",
       "6         aura perez        False  \n",
       "7      jaime garrido        False  \n",
       "10  mylanyela rosana        False  \n",
       "11              omar        False  \n",
       "13             venus        False  \n",
       "16        aura perez        False  \n",
       "17     jaime garrido        False  \n",
       "22        aura perez        False  \n",
       "23     jaime garrido        False  \n",
       "30        aura perez        False  \n",
       "31     jaime garrido        False  \n",
       "34  mylanyela rosana        False  \n",
       "35              omar        False  \n",
       "37             venus        False  \n",
       "40        aura perez        False  \n",
       "41     jaime garrido        False  \n",
       "46        aura perez        False  \n",
       "47     jaime garrido        False  "
      ]
     },
     "execution_count": 663,
     "metadata": {},
     "output_type": "execute_result"
    }
   ],
   "source": [
    "can_tutor['is_in_title'] = can_tutor['tutor_lower'].apply(contains_text, args = title)\n",
    "can_tutor"
   ]
  },
  {
   "cell_type": "code",
   "execution_count": null,
   "id": "c52a1cc9",
   "metadata": {},
   "outputs": [],
   "source": []
  },
  {
   "cell_type": "code",
   "execution_count": 566,
   "id": "1dd9336c",
   "metadata": {},
   "outputs": [
    {
     "data": {
      "text/plain": [
       "False"
      ]
     },
     "execution_count": 566,
     "metadata": {},
     "output_type": "execute_result"
    }
   ],
   "source": [
    "contains_text(\"INGRID PEREZ\", title)"
   ]
  },
  {
   "cell_type": "code",
   "execution_count": 503,
   "id": "ecbdb80d",
   "metadata": {},
   "outputs": [
    {
     "data": {
      "text/plain": [
       "'INGRID PEREZ'"
      ]
     },
     "execution_count": 503,
     "metadata": {},
     "output_type": "execute_result"
    }
   ],
   "source": [
    "compare_names(can_tutor['names'].to_list(), author)"
   ]
  },
  {
   "cell_type": "code",
   "execution_count": 345,
   "id": "b59756ea",
   "metadata": {},
   "outputs": [
    {
     "data": {
      "text/plain": [
       "['', 'Contreras,', 'Rosa', 'Y.']"
      ]
     },
     "execution_count": 345,
     "metadata": {},
     "output_type": "execute_result"
    }
   ],
   "source": [
    "author[1].split(\" \")"
   ]
  },
  {
   "cell_type": "code",
   "execution_count": 346,
   "id": "500dc991",
   "metadata": {},
   "outputs": [
    {
     "data": {
      "text/plain": [
       "['JOSE', 'GREGORIO', 'HERNANDEZ']"
      ]
     },
     "execution_count": 346,
     "metadata": {},
     "output_type": "execute_result"
    }
   ],
   "source": [
    "list_of_names[0].split(\" \")"
   ]
  },
  {
   "cell_type": "code",
   "execution_count": 347,
   "id": "e7566ec1",
   "metadata": {},
   "outputs": [
    {
     "data": {
      "text/plain": [
       "False"
      ]
     },
     "execution_count": 347,
     "metadata": {},
     "output_type": "execute_result"
    }
   ],
   "source": [
    "\n",
    "contains_text(list_of_names[0], author[0])"
   ]
  },
  {
   "cell_type": "code",
   "execution_count": 348,
   "id": "19538c1d",
   "metadata": {},
   "outputs": [],
   "source": [
    "pd.set_option('display.max_rows', None)\n",
    "check_multiple = contains_text_list(list_of_names, author)"
   ]
  },
  {
   "cell_type": "code",
   "execution_count": 349,
   "id": "b1b73e7f",
   "metadata": {},
   "outputs": [],
   "source": [
    "check_multiple_names = check_multiple['names']\n",
    "#check_multiple_names.to_list()"
   ]
  },
  {
   "cell_type": "code",
   "execution_count": 350,
   "id": "1afa183f",
   "metadata": {},
   "outputs": [
    {
     "data": {
      "text/plain": [
       "['Colmenares Suleimy',\n",
       " 'Colmenares Suleimy',\n",
       " 'Colmenares Suleimy',\n",
       " 'Colmenares Suleimy Contreras',\n",
       " 'Colmenares Suleimy Contreras',\n",
       " 'Contreras Rosa Yadira',\n",
       " 'Contreras Rosa Yadira',\n",
       " 'Rosa Yadira',\n",
       " 'Colmenares Suleimy Contreras',\n",
       " 'Rosa Yadira',\n",
       " 'Colmenares Suleimy Contreras',\n",
       " 'Rosa Yadira Valera',\n",
       " 'Valera Carmen Elena',\n",
       " 'Valera Carmen Elena',\n",
       " 'Carmen Valera',\n",
       " 'Valera Carmen Elena',\n",
       " 'Rosa Yadira Valera',\n",
       " 'Carmen Elena']"
      ]
     },
     "execution_count": 350,
     "metadata": {},
     "output_type": "execute_result"
    }
   ],
   "source": [
    "true_values = check_multiple[check_multiple[\"contains\"]==True]\n",
    "t_names = true_values[\"names\"]\n",
    "t_names.to_list()"
   ]
  },
  {
   "cell_type": "code",
   "execution_count": 361,
   "id": "d8b7c07b",
   "metadata": {},
   "outputs": [
    {
     "ename": "NameError",
     "evalue": "name 'lower' is not defined",
     "output_type": "error",
     "traceback": [
      "\u001b[0;31m---------------------------------------------------------------------------\u001b[0m",
      "\u001b[0;31mNameError\u001b[0m                                 Traceback (most recent call last)",
      "Input \u001b[0;32mIn [361]\u001b[0m, in \u001b[0;36m<cell line: 2>\u001b[0;34m()\u001b[0m\n\u001b[1;32m      1\u001b[0m tutor \u001b[38;5;241m=\u001b[39m check_multiple[\u001b[38;5;241m~\u001b[39mcheck_multiple[\u001b[38;5;124m'\u001b[39m\u001b[38;5;124mnames\u001b[39m\u001b[38;5;124m'\u001b[39m]\u001b[38;5;241m.\u001b[39misin(t_names\u001b[38;5;241m.\u001b[39mto_list())]\n\u001b[0;32m----> 2\u001b[0m tutor \u001b[38;5;241m=\u001b[39m tutor[\u001b[43mlower\u001b[49m(tutor[\u001b[38;5;124m\"\u001b[39m\u001b[38;5;124mnames\u001b[39m\u001b[38;5;124m\"\u001b[39m]) \u001b[38;5;241m!=\u001b[39m lower(\u001b[38;5;124m\"\u001b[39m\u001b[38;5;124mJOSE GREGORIO HERNANDEZ\u001b[39m\u001b[38;5;124m\"\u001b[39m)]\n\u001b[1;32m      3\u001b[0m tutor[tutor[\u001b[38;5;124m\"\u001b[39m\u001b[38;5;124mnames\u001b[39m\u001b[38;5;124m\"\u001b[39m] \u001b[38;5;241m!=\u001b[39m \u001b[38;5;124m\"\u001b[39m\u001b[38;5;124mDios\u001b[39m\u001b[38;5;124m\"\u001b[39m]\n",
      "\u001b[0;31mNameError\u001b[0m: name 'lower' is not defined"
     ]
    }
   ],
   "source": [
    "tutor = check_multiple[~check_multiple['names'].isin(t_names.to_list())]\n",
    "tutor = tutor[lower(tutor[\"names\"]) != \"JOSE GREGORIO HERNANDEZ\"]\n",
    "tutor[tutor[\"names\"] != \"Dios\"]"
   ]
  },
  {
   "cell_type": "code",
   "execution_count": 48,
   "id": "e46b81a8",
   "metadata": {},
   "outputs": [
    {
     "data": {
      "text/plain": [
       "['Rosa Yadira Valera',\n",
       " 'Colmenares Suleimy',\n",
       " 'Contreras Rosa Yadira',\n",
       " 'Valera Carmen Elena',\n",
       " 'Rosa Yadira',\n",
       " 'Dios',\n",
       " 'Yadira',\n",
       " 'Valera Carmen Elena Para',\n",
       " 'Rosa Yadira Valera',\n",
       " 'Carmen Elena']"
      ]
     },
     "execution_count": 48,
     "metadata": {},
     "output_type": "execute_result"
    }
   ],
   "source": [
    "first_data = data[:8000]\n",
    "doc = nlp_person(first_data)\n",
    "get_persons = []\n",
    "for ent in doc.ents:\n",
    "    if ent.label_ == 'PERSON':\n",
    "        get_persons.append(ent.text)\n",
    "    \n",
    "get_persons"
   ]
  },
  {
   "cell_type": "code",
   "execution_count": null,
   "id": "13c53c6e",
   "metadata": {},
   "outputs": [],
   "source": []
  },
  {
   "cell_type": "code",
   "execution_count": 49,
   "id": "fc19f517",
   "metadata": {},
   "outputs": [],
   "source": [
    "get_persons = list(map(clean_accents_lower, get_persons))"
   ]
  },
  {
   "cell_type": "code",
   "execution_count": null,
   "id": "afe883fb",
   "metadata": {},
   "outputs": [],
   "source": [
    "\n"
   ]
  },
  {
   "cell_type": "code",
   "execution_count": 57,
   "id": "392168dd",
   "metadata": {},
   "outputs": [
    {
     "data": {
      "text/plain": [
       "4    Colmenares, Suleimy; Contreras, Rosa Y.; Valer...\n",
       "Name: thesis_author, dtype: object"
      ]
     },
     "execution_count": 57,
     "metadata": {},
     "output_type": "execute_result"
    }
   ],
   "source": [
    "## names\n",
    "df_tesis = pd.read_csv('data/thesis_7149_with_resumen_school_complex.csv')\n",
    "authors = df_tesis[df_tesis['index'] == int(thesis_number)]['thesis_author']\n",
    "authors\n",
    "authors"
   ]
  },
  {
   "cell_type": "code",
   "execution_count": 59,
   "id": "e00803a0",
   "metadata": {},
   "outputs": [
    {
     "ename": "ValueError",
     "evalue": "setting an array element with a sequence",
     "output_type": "error",
     "traceback": [
      "\u001b[0;31m---------------------------------------------------------------------------\u001b[0m",
      "\u001b[0;31mValueError\u001b[0m                                Traceback (most recent call last)",
      "Input \u001b[0;32mIn [59]\u001b[0m, in \u001b[0;36m<cell line: 2>\u001b[0;34m()\u001b[0m\n\u001b[1;32m      1\u001b[0m split_fn \u001b[38;5;241m=\u001b[39m np\u001b[38;5;241m.\u001b[39mvectorize(split_authors)\n\u001b[0;32m----> 2\u001b[0m \u001b[43msplit_fn\u001b[49m\u001b[43m(\u001b[49m\u001b[43mauthors\u001b[49m\u001b[43m)\u001b[49m\u001b[38;5;241m.\u001b[39mtolist()\n",
      "File \u001b[0;32m~/Codes/thesis_v4/env/lib/python3.8/site-packages/numpy/lib/function_base.py:2328\u001b[0m, in \u001b[0;36mvectorize.__call__\u001b[0;34m(self, *args, **kwargs)\u001b[0m\n\u001b[1;32m   2325\u001b[0m     vargs \u001b[38;5;241m=\u001b[39m [args[_i] \u001b[38;5;28;01mfor\u001b[39;00m _i \u001b[38;5;129;01min\u001b[39;00m inds]\n\u001b[1;32m   2326\u001b[0m     vargs\u001b[38;5;241m.\u001b[39mextend([kwargs[_n] \u001b[38;5;28;01mfor\u001b[39;00m _n \u001b[38;5;129;01min\u001b[39;00m names])\n\u001b[0;32m-> 2328\u001b[0m \u001b[38;5;28;01mreturn\u001b[39;00m \u001b[38;5;28;43mself\u001b[39;49m\u001b[38;5;241;43m.\u001b[39;49m\u001b[43m_vectorize_call\u001b[49m\u001b[43m(\u001b[49m\u001b[43mfunc\u001b[49m\u001b[38;5;241;43m=\u001b[39;49m\u001b[43mfunc\u001b[49m\u001b[43m,\u001b[49m\u001b[43m \u001b[49m\u001b[43margs\u001b[49m\u001b[38;5;241;43m=\u001b[39;49m\u001b[43mvargs\u001b[49m\u001b[43m)\u001b[49m\n",
      "File \u001b[0;32m~/Codes/thesis_v4/env/lib/python3.8/site-packages/numpy/lib/function_base.py:2414\u001b[0m, in \u001b[0;36mvectorize._vectorize_call\u001b[0;34m(self, func, args)\u001b[0m\n\u001b[1;32m   2411\u001b[0m outputs \u001b[38;5;241m=\u001b[39m ufunc(\u001b[38;5;241m*\u001b[39minputs)\n\u001b[1;32m   2413\u001b[0m \u001b[38;5;28;01mif\u001b[39;00m ufunc\u001b[38;5;241m.\u001b[39mnout \u001b[38;5;241m==\u001b[39m \u001b[38;5;241m1\u001b[39m:\n\u001b[0;32m-> 2414\u001b[0m     res \u001b[38;5;241m=\u001b[39m \u001b[43masanyarray\u001b[49m\u001b[43m(\u001b[49m\u001b[43moutputs\u001b[49m\u001b[43m,\u001b[49m\u001b[43m \u001b[49m\u001b[43mdtype\u001b[49m\u001b[38;5;241;43m=\u001b[39;49m\u001b[43motypes\u001b[49m\u001b[43m[\u001b[49m\u001b[38;5;241;43m0\u001b[39;49m\u001b[43m]\u001b[49m\u001b[43m)\u001b[49m\n\u001b[1;32m   2415\u001b[0m \u001b[38;5;28;01melse\u001b[39;00m:\n\u001b[1;32m   2416\u001b[0m     res \u001b[38;5;241m=\u001b[39m \u001b[38;5;28mtuple\u001b[39m([asanyarray(x, dtype\u001b[38;5;241m=\u001b[39mt)\n\u001b[1;32m   2417\u001b[0m                  \u001b[38;5;28;01mfor\u001b[39;00m x, t \u001b[38;5;129;01min\u001b[39;00m \u001b[38;5;28mzip\u001b[39m(outputs, otypes)])\n",
      "\u001b[0;31mValueError\u001b[0m: setting an array element with a sequence"
     ]
    }
   ],
   "source": [
    "split_fn = np.vectorize(split_authors)\n",
    "split_fn(authors).tolist()"
   ]
  },
  {
   "cell_type": "code",
   "execution_count": 465,
   "id": "5d59f4cb",
   "metadata": {},
   "outputs": [
    {
     "data": {
      "text/plain": [
       "['González P., Héctor V.']"
      ]
     },
     "execution_count": 465,
     "metadata": {},
     "output_type": "execute_result"
    }
   ],
   "source": [
    "split_authors(df_tesis['thesis_author'][1])"
   ]
  },
  {
   "cell_type": "code",
   "execution_count": 466,
   "id": "dabd26c8",
   "metadata": {},
   "outputs": [
    {
     "data": {
      "text/plain": [
       "0                                 De Gregorio S., Luis T.\n",
       "1                                  González P., Héctor V.\n",
       "2                Carrillo C., Nancy; Márquez S., Migdalia\n",
       "3          Casaña, Yurima; Florido, Lisbeth; Nieves, Rosa\n",
       "4       Colmenares, Suleimy; Contreras, Rosa Y.; Valer...\n",
       "                              ...                        \n",
       "7144                              Sandia I., Alexandra C.\n",
       "7145                            Temprano G., Alejandro J.\n",
       "7146                                  Landaeta R., Ana G.\n",
       "7147                                Borges F., Gabriel A.\n",
       "7148                          Utrera Ávila, Joselin Marly\n",
       "Name: thesis_author, Length: 7149, dtype: object"
      ]
     },
     "execution_count": 466,
     "metadata": {},
     "output_type": "execute_result"
    }
   ],
   "source": [
    "df_tesis['thesis_author']"
   ]
  },
  {
   "cell_type": "code",
   "execution_count": 467,
   "id": "11d52084",
   "metadata": {},
   "outputs": [],
   "source": [
    "tutores = Tutor"
   ]
  },
  {
   "cell_type": "code",
   "execution_count": 469,
   "id": "5ea64165",
   "metadata": {},
   "outputs": [],
   "source": [
    "compare_fn = np.vectorize(tutores.compare_all_names)\n",
    "compare_fn()"
   ]
  },
  {
   "cell_type": "code",
   "execution_count": 435,
   "id": "b51a0c0c",
   "metadata": {},
   "outputs": [
    {
     "data": {
      "text/plain": [
       "'Adrian Mogollón Julia; Echezuria Perozo Jorge E; Valero Goncalves Yusmary L'"
      ]
     },
     "execution_count": 435,
     "metadata": {},
     "output_type": "execute_result"
    }
   ],
   "source": [
    "top10_clean[int(thesis_number)-1]"
   ]
  },
  {
   "cell_type": "code",
   "execution_count": 436,
   "id": "f7292ca2",
   "metadata": {},
   "outputs": [
    {
     "data": {
      "text/plain": [
       "['Adrian Mogollon Julia',\n",
       " ' Echezuria Perozo Jorge E',\n",
       " ' Valero Goncalves Yusmary L']"
      ]
     },
     "execution_count": 436,
     "metadata": {},
     "output_type": "execute_result"
    }
   ],
   "source": [
    "names = list(map(clean_accents_lower, split_authors(top10_clean[int(thesis_number)-1])))\n",
    "names "
   ]
  },
  {
   "cell_type": "code",
   "execution_count": 437,
   "id": "0f99e336",
   "metadata": {},
   "outputs": [
    {
     "data": {
      "text/plain": [
       "['Adrian Mogollón Julia',\n",
       " ' Echezuria Perozo Jorge E',\n",
       " ' Valero Goncalves Yusmary L']"
      ]
     },
     "execution_count": 437,
     "metadata": {},
     "output_type": "execute_result"
    }
   ],
   "source": [
    "names = split_authors(top10_clean[int(thesis_number)-1])\n",
    "names"
   ]
  },
  {
   "cell_type": "code",
   "execution_count": 438,
   "id": "e5b1d54d",
   "metadata": {},
   "outputs": [
    {
     "name": "stdout",
     "output_type": "stream",
     "text": [
      "Yusmary TUTOR <-> Adrian Mogollón Julia 0.11692980703110051\n",
      "Angel Moros R. <-> Adrian Mogollón Julia 0.45962000177794815\n",
      "Echezuria <-> Adrian Mogollón Julia 0.0\n",
      "Yusmary <-> Adrian Mogollón Julia 0.0\n",
      "Moros <-> Adrian Mogollón Julia 0.15718233851904745\n",
      "Angel ivDEDICATORIA <-> Adrian Mogollón Julia 0.37152739068934554\n",
      "Mil Gracias <-> Adrian Mogollón Julia 0.26608767915043785\n",
      "Julita <-> Adrian Mogollón Julia 0.0\n",
      "Yusmy <-> Adrian Mogollón Julia 0.0\n",
      "Yusmary vAGRADECIMIENTOS <-> Adrian Mogollón Julia 0.0\n",
      "Carmen Barrios <-> Adrian Mogollón Julia 0.5507273551865355\n",
      "Profesor Angel Moros <-> Adrian Mogollón Julia 0.41511536453209774\n",
      "Aida Damas <-> Adrian Mogollón Julia 0.34371654321983364\n",
      "Angel Moros R. RESUMEN <-> Adrian Mogollón Julia 0.459620014454642\n"
     ]
    },
    {
     "name": "stderr",
     "output_type": "stream",
     "text": [
      "/tmp/ipykernel_5742/1030706800.py:5: UserWarning: [W008] Evaluating Doc.similarity based on empty vectors.\n",
      "  print(name, \"<->\", author, author.similarity(name_aux))\n"
     ]
    }
   ],
   "source": [
    "compare_similarity(get_persons, names[0])"
   ]
  },
  {
   "cell_type": "code",
   "execution_count": 439,
   "id": "10a158a5",
   "metadata": {},
   "outputs": [
    {
     "name": "stderr",
     "output_type": "stream",
     "text": [
      "/tmp/ipykernel_5742/397893262.py:28: UserWarning: [W008] Evaluating Doc.similarity based on empty vectors.\n",
      "  if author.similarity(name_aux) >= threshold:\n"
     ]
    },
    {
     "data": {
      "text/plain": [
       "'Yusmary TUTOR'"
      ]
     },
     "execution_count": 439,
     "metadata": {},
     "output_type": "execute_result"
    }
   ],
   "source": [
    "compare_names(get_persons, names, threshold=.46)"
   ]
  },
  {
   "cell_type": "code",
   "execution_count": 440,
   "id": "ea2984bc",
   "metadata": {},
   "outputs": [],
   "source": [
    "fn_compare_names = np.vectorize(compare_names)"
   ]
  },
  {
   "cell_type": "code",
   "execution_count": null,
   "id": "931d44a8",
   "metadata": {},
   "outputs": [],
   "source": [
    "values_compare = fn_compare_names"
   ]
  },
  {
   "cell_type": "code",
   "execution_count": null,
   "id": "2a446837",
   "metadata": {},
   "outputs": [],
   "source": []
  },
  {
   "cell_type": "code",
   "execution_count": null,
   "id": "f83340c3",
   "metadata": {},
   "outputs": [],
   "source": []
  },
  {
   "cell_type": "code",
   "execution_count": null,
   "id": "862cad61",
   "metadata": {},
   "outputs": [],
   "source": []
  },
  {
   "cell_type": "code",
   "execution_count": 431,
   "id": "387b2012",
   "metadata": {},
   "outputs": [
    {
     "name": "stderr",
     "output_type": "stream",
     "text": [
      "/tmp/ipykernel_5742/397893262.py:28: UserWarning: [W008] Evaluating Doc.similarity based on empty vectors.\n",
      "  if author.similarity(name_aux) >= threshold:\n"
     ]
    },
    {
     "data": {
      "text/plain": [
       "'Yusmary TUTOR'"
      ]
     },
     "execution_count": 431,
     "metadata": {},
     "output_type": "execute_result"
    }
   ],
   "source": [
    "compare_names(get_persons, names)"
   ]
  },
  {
   "cell_type": "code",
   "execution_count": 407,
   "id": "f537f23f",
   "metadata": {},
   "outputs": [
    {
     "name": "stderr",
     "output_type": "stream",
     "text": [
      "/tmp/ipykernel_5742/397893262.py:28: UserWarning: [W008] Evaluating Doc.similarity based on empty vectors.\n",
      "  if author.similarity(name_aux) >= threshold:\n"
     ]
    },
    {
     "data": {
      "text/plain": [
       "'Yusmary TUTOR'"
      ]
     },
     "execution_count": 407,
     "metadata": {},
     "output_type": "execute_result"
    }
   ],
   "source": [
    "compare_names(get_persons, names)"
   ]
  },
  {
   "cell_type": "code",
   "execution_count": null,
   "id": "4fea500e",
   "metadata": {},
   "outputs": [],
   "source": []
  },
  {
   "cell_type": "code",
   "execution_count": 116,
   "id": "60ea5651",
   "metadata": {},
   "outputs": [
    {
     "name": "stderr",
     "output_type": "stream",
     "text": [
      "/tmp/ipykernel_5742/1498625836.py:27: UserWarning: [W008] Evaluating Doc.similarity based on empty vectors.\n",
      "  if author.similarity(name_aux) >= threshold:\n"
     ]
    },
    {
     "data": {
      "text/plain": [
       "['Angel Moros R',\n",
       " 'Yusmary Valero G',\n",
       " 'Yusmy',\n",
       " 'Alejandra Gonzalez',\n",
       " 'Angel Moros',\n",
       " 'Yusmary Valero',\n",
       " 'Angel Moros R RESUMEN']"
      ]
     },
     "execution_count": 116,
     "metadata": {},
     "output_type": "execute_result"
    }
   ],
   "source": [
    "compare_similarity_t(get_persons, names[1])"
   ]
  },
  {
   "cell_type": "code",
   "execution_count": 117,
   "id": "c256d955",
   "metadata": {},
   "outputs": [
    {
     "name": "stdout",
     "output_type": "stream",
     "text": [
      "Angel Moros R <->  Valero Goncalves Yusmary L 0.32039604916347836\n",
      "Yusmary Valero G <->  Valero Goncalves Yusmary L 0.6697135616296339\n",
      "Yusmy <->  Valero Goncalves Yusmary L 0.0\n",
      "Alejandra Gonzalez <->  Valero Goncalves Yusmary L 0.47268456182808843\n",
      "Angel Moros <->  Valero Goncalves Yusmary L 0.25236357407492055\n",
      "Yusmary Valero <->  Valero Goncalves Yusmary L 0.7156886585504478\n",
      "Angel Moros R RESUMEN <->  Valero Goncalves Yusmary L 0.3203960671539872\n"
     ]
    },
    {
     "name": "stderr",
     "output_type": "stream",
     "text": [
      "/tmp/ipykernel_5742/1030706800.py:5: UserWarning: [W008] Evaluating Doc.similarity based on empty vectors.\n",
      "  print(name, \"<->\", author, author.similarity(name_aux))\n"
     ]
    }
   ],
   "source": [
    "compare_similarity(get_persons, names[2])"
   ]
  },
  {
   "cell_type": "code",
   "execution_count": 118,
   "id": "18569dc9",
   "metadata": {},
   "outputs": [
    {
     "data": {
      "text/plain": [
       "['Angel Moros R',\n",
       " 'Yusmy',\n",
       " 'Alejandra Gonzalez',\n",
       " 'Angel Moros',\n",
       " 'Angel Moros R RESUMEN']"
      ]
     },
     "execution_count": 118,
     "metadata": {},
     "output_type": "execute_result"
    }
   ],
   "source": [
    "compare_similarity_t(get_persons, names[2])"
   ]
  },
  {
   "cell_type": "code",
   "execution_count": 40,
   "id": "4c918605",
   "metadata": {},
   "outputs": [],
   "source": [
    "#file_source = '../'+'thesis_pdf_all/1.pdf'\n",
    "\n",
    "#parsed_pdf = parser.from_file(file_source)\n",
    "#data = parsed_pdf['content']\n",
    "\n",
    "#data"
   ]
  },
  {
   "cell_type": "code",
   "execution_count": 42,
   "id": "52dba2dc",
   "metadata": {},
   "outputs": [],
   "source": [
    "#data = data.replace('\\n',\"\")\n",
    "#data = clean_spaces_text(data)\n",
    "#data"
   ]
  },
  {
   "cell_type": "code",
   "execution_count": 43,
   "id": "841454a8",
   "metadata": {},
   "outputs": [],
   "source": [
    "#first_data = data[:600]\n",
    "#first_data"
   ]
  },
  {
   "cell_type": "code",
   "execution_count": 8,
   "id": "653d48b5",
   "metadata": {},
   "outputs": [
    {
     "name": "stdout",
     "output_type": "stream",
     "text": [
      "Margarita camina 0 16 PERSON\n"
     ]
    }
   ],
   "source": [
    "doc = nlp_spa(\"Margarita camina sobre la torta\")\n",
    "\n",
    "for ent in doc.ents:\n",
    "    print(ent.text, ent.start_char, ent.end_char, ent.label_)"
   ]
  },
  {
   "cell_type": "code",
   "execution_count": 9,
   "id": "a5c3c9de",
   "metadata": {},
   "outputs": [
    {
     "name": "stdout",
     "output_type": "stream",
     "text": [
      "Luis T. 288 295 PERSON\n",
      "2009 352 356 DATE\n",
      "CONSTANCIA DE APROBACIÓN 360 384 PERSON\n",
      "13 de mayo de 2009 394 412 DATE\n",
      "Luis T. De Greg 585 600 PERSON\n"
     ]
    }
   ],
   "source": [
    "doc = nlp_spa(first_data)\n",
    "\n",
    "for ent in doc.ents:\n",
    "    print(ent.text, ent.start_char, ent.end_char, ent.label_)"
   ]
  },
  {
   "cell_type": "code",
   "execution_count": 23,
   "id": "d21d2a24",
   "metadata": {},
   "outputs": [],
   "source": [
    "#nlp_spa = spacy.load('en_core_web_sm')\n",
    "#nlp_spa = spacy.load('es_core_news_sm')\n",
    "#nlp_spa = spacy.load('en_core_web_sm')\n",
    "#nlp_person = spacy.load('es_core_news_lg')\n",
    "nlp_compare = spacy.load('en_core_web_lg')\n",
    "nlp_person = spacy.load('en_core_web_trf')\n",
    "#nlp_spa = spacy.load('es_dep_news_trf')"
   ]
  },
  {
   "cell_type": "code",
   "execution_count": 24,
   "id": "28d54f32",
   "metadata": {},
   "outputs": [
    {
     "data": {
      "text/plain": [
       "'UNIVERSIDAD CENTRAL DE VENEZUELAUNIVERSIDAD CENTRAL DE VENEZUELA FACULTAD DE HUMANIDADES Y EDUCACIÓN ESCUELA DE BIBLIOTECOLOGÍA Y ARCHIVOLOGÍA LA PRODUCCIÓN DE CONOCIMIENTO: UN ANÁLISIS MÉTRICO EN EL PROGRAMA DE INVESTIGACIÓN Y DESARROLLO DEL IDEC-FAU-UCV Trabajo de licenciatura presentado como requisito de la Escuela de Bibliotecología y Archivología de la Universidad Central de Venezuela para optar al Título de Licenciadas en Bibliotecología y Licenciado en Archivología PRESENTADO: Adrián M Julia Echezuría P Jorge Valero G Yusmary TUTOR: Prof Dr Ángel Moros R Caracas octubre 2008 ADRIÁN Julia Variabilidad de productores y producción de conocimiento del Programa de Investigación y Desarrollo del IDEC-FAU-UCV / Julia Adrián M Jorge Echezuría P Yusmary Valero G ; Tutor Prof Dr Ángel Moros R— Caracas 2008 x 107 h; il ; 30cm Trabajo de Licenciatura (Bibliotecología y Archivología) – Universidad Central de Venezuela 2008 1 ANALISIS MÉTRICO 2 BIBLIOMETRÍA 3 PRODUCCIÓN DE CONOCIMIENTO 4 PID-IDEC-FAU-UCV I Título II Echezuría Jorge III Valero Yusmary IV Moros Ángel ivDEDICATORIA Hoy a mis cincuenta años he alcanzado una difícil meta que me propuse hace tan solo cinco años Doy gracias a todos mis maestros de vida que me enseñaron a ser perseverante para alcanzar mis sueños Julia de las Nieves Nuevamente a la amistad pues encontré en Ustedes calor familiar y apoyo incondicional en el emprendimiento de este proyecto que me permitió cerrar un ciclo importante de mi vida Mil Gracias por tan sublime y brillante compañía: ¡Julita y Yusmy! Jorge A Dios por acompañarme siempre y ser la luz que guía mi camino A mi núcleo familiar por estar siempre a mi lado apoyándome y guiándome ya que por su esfuerzo dedicación y constancia soy lo que soy A Julia y Jorge por ser mis amigos incondicionales y fuentes de conocimiento por ser tan especiales y permitirme el privilegio de compartir este triunfo con ustedes Yusmary vAGRADECIMIENTOS A todas aquellas personas que de una u otra forma nos expresaron su apoyo para ayudarnos a alcanzar esta meta Al personal del Instituto de Desarrollo Experimental de la Construcción en especial a Alejandra González Maria Elena Hobaica Nelson Rodríguez y Carmen Barrios por su valiosa colaboración A nuestro Tutor Profesor Ángel Moros por brindarnos su conocimiento paciencia y amistad para llevar adelante este trabajo de investigación A los Profesores Aída Damas y José López por su interés disposición sugerencias y apoyo constante A todos los profesores de la Escuela de Bibliotecología y Archivología de la Universidad Central de Venezuela por darnos las herramientas necesarias para nuestra formación profesional A Isabel Bello por brindarnos su colaboración y orientarnos con sus conocimientos A nuestros padres hijos hermanos y a todos nuestros familiares por su absoluto respaldo afecto y guía a lo largo de todo el camino recorrido A los amigos que continuamente nos aportaron ideas e impulsaron para cumplir con este gran logro A quienes hemos olvidado pero que nos han acompañado con sus pensamientos en cada momento A todos mil gracias LA PRODUCCIÓN DE CONOCIMIENTO: UN ANÁLISIS MÉTRICO EN EL PROGRAMA DE INVESTIGACIÓN Y DESARROLLO DEL IDEC-FAU-UCV viCONTENIDO Pág DEDICATORIA ivAGRADECIMIENTOS vRESUMEN ix INTRODUCCIÓN x CAPÍTULO 1 1 EL OBJETO Y METODOLOGÍA DE LA INVESTIGACIÓN 211 Planteamiento del problema 212 Objetivos 5 121 Objetivo General 5 122 Objetivos Específicos 513 Ubicación del problema en el contexto del conocimiento acumulado 614 Justificación 1815 Delimitación 1916 Propuesta metodológica 20 161 Tipo de Investigación 20 162 Diseño 20 163 Universo y muestra de estudio 21 164 Tratamiento de los datos 22NOTAS AL FINAL DEL CAPÍTULO 25 CAPÍTULO 2 2 MARCO TEÓRICO-REFERENCIAL 2721 Productores y Producción de Conocimiento del Instituto de Desarrollo Experimental de la Construcción 2822 La producción de conocimiento y su relación con las ciencias de la información 3223 Instituto de Desarrollo Experimental de la Construcción (IDEC) 33 231 Programa de Investigación y Desarrollo (PID) 34 232 Revista Tecnología y Construcción 3624 Red de Información de la Facultad de Arquitectura y Urbanismo de la UCV 38NOTAS AL FINAL DEL CAPÍTULO 41 LA PRODUCCIÓN DE CONOCIMIENTO: UN ANÁLISIS MÉTRICO EN EL PROGRAMA DE INVESTIGACIÓN Y DESARROLLO DEL IDEC-FAU-UCV vii PágCAPÍTULO 3 3 LA PRODUCCIÓN DE CONOCIMIENTO CIENTÍFICO EN EL IDEC-FAU-UCV 4331 Análisis de la producción de conocimiento científico en el IDEC-FAU-UCV 44 311 Proyectos de investigación 46 312 Artículos científicos 4832 Relación de producción y productores de conocimiento científico en el IDEC-FAU-UCV 49 321 Proyectos de investigación 49 322 Artículos científicos 50 CAPÍTULO 4 4 LOS MAPA DE CONOCIMIENTO Y SU APLICACIÓN EN EL IDEC-FAU-UCV 5341 La construcción de los Mapas de Conocimiento en el IDEC-FAU-UCV 5442 Aplicación de Mapas de Conocimiento al Programa de Investigación y Desarrollo del IDEC-FAU-UCV 58 CONCLUSIONES Y RECOMENDACIONES 61 BIBLIOGRAFÍA CONSULTADA 66 ANEXOS (Incluidos en CD-ROM) ANEXO 1: Listado Personal Adscrito al IDEC ANEXO 2: Término Proyectos/ Término Normalizado ANEXO 3: Término Publicaciones/ Término Normalizado ANEXO 4: Descriptor de la Producción por Área de Investigación ANEXO 5: Término Descontextualizado del Tesauro CID-IDEC-FAU-UCV ANEXO 6: Descriptor de la Producción por Línea y Área de Investigación ANEXO 7: Productores por Área y Línea de Investigación LA PRODUCCIÓN DE CONOCIMIENTO: UN ANÁLISIS MÉTRICO EN EL PROGRAMA DE INVESTIGACIÓN Y DESARROLLO DEL IDEC-FAU-UCV viii ÍNDICE DE TABLAS PágTabla 1: Investigadores por Escalafón por Año 29 Tabla 2: Total de Producción y Productores de Conocimiento Científico del IDEC Período 1985-2007 45 Tabla 3: Total de Proyectos por Área de Investigación Período 2000-2007 47 Tabla 4: Total de Artículos Científicos por Área de Investigación Período 1985-2007 48 ÍNDICE DE GRÁFICOS PágGráfico 1Total de Proyectos por Investigador Período 2000-2007 49Gráfico 2 Total de Artículos por Investigador Período 1985-2007 50 ÍNDICE DE MAPAS PágMapa 1: Mapa de Conocimiento por Descriptores 55Mapa 2: Mapa de Conocimiento: Desarrollo Experimental 56Mapa 3: Mapa de Conocimiento: Requerimientos de Habitabilidad 57Mapa 4: Mapa de Conocimiento: Economía de la Construcción 58Mapa 5: Mapa de Conocimiento: Productores por Línea de Investigación 60 ixLA PRODUCCIÓN DE CONOCIMIENTO: UN ANÁLISIS MÉTRICO EN EL PROGRAMA DE INVESTIGACIÓN Y DESARROLLO DEL IDEC-FAU-UCV Julia Adrián Jorge Echezuria Yusmary Valero Tutor: Ángel Moros R RESUMEN Se analiza la producción de conocimiento en el Programa de Investigación y Desarrollo (PID) del IDEC-FAU-UCV utilizando dos fuentes de información la Memoria y Cuenta (Informe de Gestión) período 2000-2007 y la versión electrónica de la revista Tecnología y Construcción período 1985-2006 El estudio se desarrolla en tres fases: 1) obtención de la información relativa a producción científica de los investigadores del PID-IDEC; 2) registro de productividad; y 3) análisis métrico relacionando variables de producción y productores para elaborar un mecanismo de vigilancia y mapas tecnológicos que consoliden las relaciones interuniversidades nacionales y extranjeras Palabras clave: ANALISIS MÉTRICO BIBLIOMETRÍA PRODUCCIÓN DE CONOCIMIENTO PID-IDEC-FAU-UCV KNOWLEDGE PRODUCTION: A METRIC ANALYSIS IN THE RESEARCH AND DEVELOPMENT PROGRAM OF THE IDEC-FAUC-UCV ABSTRACT The knowledge production in the Research and Development Program of the IDEC-FAUC-UCV was analyzed through two sources of information: the Memory and Account (Management Report) period 2000-2007 and the electronic version of the Tecnología y Construcción Magazine period 1995-2006 The study develops in three phases: 1) Obtainment of information related to the scientific production of PID-IDEC investigators; 2) Registry of productivity; and 3) a metric analysis relating production variables and producers in order to elaborate a mechanism of vigilance and electronic maps capable of consolid'"
      ]
     },
     "execution_count": 24,
     "metadata": {},
     "output_type": "execute_result"
    }
   ],
   "source": [
    "thesis_number = '3'\n",
    "file_source = '../'+'thesis_pdf_all/' + thesis_number + '.pdf'\n",
    "\n",
    "parsed_pdf = parser.from_file(file_source)\n",
    "data = parsed_pdf['content']\n",
    "data = clean_break_line(data)\n",
    "data = clean_spaces_text(data)\n",
    "data = clean_points_text(data)\n",
    "data[:8000]"
   ]
  },
  {
   "cell_type": "code",
   "execution_count": null,
   "id": "5a2e5f7e",
   "metadata": {},
   "outputs": [],
   "source": []
  },
  {
   "cell_type": "code",
   "execution_count": 25,
   "id": "38199a00",
   "metadata": {},
   "outputs": [
    {
     "name": "stdout",
     "output_type": "stream",
     "text": [
      "Adrián M 489 497 PERSON\n",
      "Julia Echezuría 498 513 PERSON\n",
      "Jorge Valero G Yusmary TUTOR 516 544 PERSON\n",
      "Ángel Moros R 554 567 PERSON\n",
      "Yusmary Valero G 754 770 PERSON\n",
      "Universidad Central de Venezuela 893 925 ORG\n",
      "Yusmy 1544 1549 PERSON\n",
      "Jorge 1764 1769 PERSON\n",
      "Alejandra González 2140 2158 PERSON\n",
      "Carmen Barrios 2198 2212 PERSON\n",
      "Ángel Moros 2266 2277 PERSON\n",
      "José López 2410 2420 PERSON\n",
      "Isabel Bello 2664 2676 PERSON\n",
      "Instituto de Desarrollo Experimental de la Construcción ( 3943 4000 ORG\n",
      "Programa de Investigación y Desarrollo ( 4013 4053 ORG\n",
      "1985-2007 5702 5711 DATE\n",
      "2000-2007 5777 5786 DATE\n",
      "1985-2007 5864 5873 DATE\n",
      "2000-2007 5952 5961 DATE\n",
      "1985-2007 6018 6027 DATE\n",
      "Julia Adrián Jorge Echezuria 6465 6493 PERSON\n",
      "Yusmary Valero 6494 6508 PERSON\n",
      "Ángel Moros R RESUMEN 6516 6537 PERSON\n",
      "2000-2007 6734 6743 DATE\n",
      "1985-2006 6817 6826 DATE\n",
      "2 6967 6968 CARDINAL\n",
      "3 6999 7000 CARDINAL\n",
      "two 7513 7516 CARDINAL\n",
      "2000-2007 7591 7600 DATE\n",
      "1995-2006 7677 7686 DATE\n",
      "three 7709 7714 CARDINAL\n",
      "1 7723 7724 CARDINAL\n",
      "2 7816 7817 CARDINAL\n",
      "3 7849 7850 CARDINAL\n"
     ]
    }
   ],
   "source": [
    "first_data = data[:8000]\n",
    "doc = nlp_person(first_data)\n",
    "\n",
    "for ent in doc.ents:\n",
    "    print(ent.text, ent.start_char, ent.end_char, ent.label_)"
   ]
  },
  {
   "cell_type": "code",
   "execution_count": 27,
   "id": "e0f98918",
   "metadata": {},
   "outputs": [
    {
     "data": {
      "text/plain": [
       "['Adrián M',\n",
       " 'Julia Echezuría',\n",
       " 'Jorge Valero G Yusmary TUTOR',\n",
       " 'Ángel Moros R',\n",
       " 'Yusmary Valero G',\n",
       " 'Yusmy',\n",
       " 'Jorge',\n",
       " 'Alejandra González',\n",
       " 'Carmen Barrios',\n",
       " 'Ángel Moros',\n",
       " 'José López',\n",
       " 'Isabel Bello',\n",
       " 'Julia Adrián Jorge Echezuria',\n",
       " 'Yusmary Valero',\n",
       " 'Ángel Moros R RESUMEN']"
      ]
     },
     "execution_count": 27,
     "metadata": {},
     "output_type": "execute_result"
    }
   ],
   "source": [
    "get_persons = []\n",
    "for ent in doc.ents:\n",
    "    if ent.label_ == 'PERSON':\n",
    "        get_persons.append(ent.text)\n",
    "    \n",
    "get_persons"
   ]
  },
  {
   "cell_type": "code",
   "execution_count": null,
   "id": "ed4d7e8f",
   "metadata": {},
   "outputs": [],
   "source": []
  },
  {
   "cell_type": "code",
   "execution_count": 28,
   "id": "52251cb3",
   "metadata": {},
   "outputs": [
    {
     "data": {
      "text/html": [
       "<div>\n",
       "<style scoped>\n",
       "    .dataframe tbody tr th:only-of-type {\n",
       "        vertical-align: middle;\n",
       "    }\n",
       "\n",
       "    .dataframe tbody tr th {\n",
       "        vertical-align: top;\n",
       "    }\n",
       "\n",
       "    .dataframe thead th {\n",
       "        text-align: right;\n",
       "    }\n",
       "</style>\n",
       "<table border=\"1\" class=\"dataframe\">\n",
       "  <thead>\n",
       "    <tr style=\"text-align: right;\">\n",
       "      <th></th>\n",
       "      <th>index</th>\n",
       "      <th>thesis_year</th>\n",
       "      <th>thesis_title</th>\n",
       "      <th>thesis_author</th>\n",
       "      <th>size</th>\n",
       "      <th>thesis_link</th>\n",
       "      <th>pdf_link</th>\n",
       "      <th>resumen</th>\n",
       "      <th>path</th>\n",
       "      <th>exist</th>\n",
       "      <th>isPDF</th>\n",
       "    </tr>\n",
       "  </thead>\n",
       "  <tbody>\n",
       "    <tr>\n",
       "      <th>0</th>\n",
       "      <td>1</td>\n",
       "      <td>2009</td>\n",
       "      <td>Estudio de sobretensiones por maniobra debido ...</td>\n",
       "      <td>De Gregorio S., Luis T.</td>\n",
       "      <td>6.77 MB</td>\n",
       "      <td>http://saber.ucv.ve/handle/10872/17712</td>\n",
       "      <td>http://saber.ucv.ve/bitstream/10872/17712/1/TE...</td>\n",
       "      <td>NaN</td>\n",
       "      <td>thesis_pdf_all/1.pdf</td>\n",
       "      <td>True</td>\n",
       "      <td>True</td>\n",
       "    </tr>\n",
       "    <tr>\n",
       "      <th>1</th>\n",
       "      <td>2</td>\n",
       "      <td>2010</td>\n",
       "      <td>La Economía del Ocio como una alternativa de e...</td>\n",
       "      <td>Rivera, Elizabeth</td>\n",
       "      <td>2 MB</td>\n",
       "      <td>http://saber.ucv.ve/handle/10872/16245</td>\n",
       "      <td>http://saber.ucv.ve/bitstream/10872/16245/1/TG...</td>\n",
       "      <td>NaN</td>\n",
       "      <td>thesis_pdf_all/2.pdf</td>\n",
       "      <td>True</td>\n",
       "      <td>True</td>\n",
       "    </tr>\n",
       "    <tr>\n",
       "      <th>2</th>\n",
       "      <td>3</td>\n",
       "      <td>27-May-2011</td>\n",
       "      <td>La producción de conocimiento : un análisis mé...</td>\n",
       "      <td>Adrian Mogollón, Julia; Echezuria Perozo, Jorg...</td>\n",
       "      <td>995.92 kB</td>\n",
       "      <td>http://saber.ucv.ve/handle/10872/29</td>\n",
       "      <td>http://saber.ucv.ve/bitstream/10872/29/1/TL-EB...</td>\n",
       "      <td>NaN</td>\n",
       "      <td>thesis_pdf_all/3.pdf</td>\n",
       "      <td>True</td>\n",
       "      <td>True</td>\n",
       "    </tr>\n",
       "    <tr>\n",
       "      <th>3</th>\n",
       "      <td>4</td>\n",
       "      <td>27-May-2011</td>\n",
       "      <td>Desarrollo de un algoritmo computacional para ...</td>\n",
       "      <td>D'Amico, Walter F.</td>\n",
       "      <td>506.32 kB</td>\n",
       "      <td>http://saber.ucv.ve/handle/10872/32</td>\n",
       "      <td>http://saber.ucv.ve/bitstream/10872/32/1/Tesis...</td>\n",
       "      <td>NaN</td>\n",
       "      <td>thesis_pdf_all/4.pdf</td>\n",
       "      <td>True</td>\n",
       "      <td>True</td>\n",
       "    </tr>\n",
       "    <tr>\n",
       "      <th>4</th>\n",
       "      <td>5</td>\n",
       "      <td>27-May-2011</td>\n",
       "      <td>Evaluación geofísica integral de los conos alu...</td>\n",
       "      <td>Cragno, Analia V.; Romero, Marcos A.</td>\n",
       "      <td>3.02 MB</td>\n",
       "      <td>http://saber.ucv.ve/handle/10872/31</td>\n",
       "      <td>http://saber.ucv.ve/bitstream/10872/31/1/Evalu...</td>\n",
       "      <td>NaN</td>\n",
       "      <td>thesis_pdf_all/5.pdf</td>\n",
       "      <td>True</td>\n",
       "      <td>True</td>\n",
       "    </tr>\n",
       "    <tr>\n",
       "      <th>...</th>\n",
       "      <td>...</td>\n",
       "      <td>...</td>\n",
       "      <td>...</td>\n",
       "      <td>...</td>\n",
       "      <td>...</td>\n",
       "      <td>...</td>\n",
       "      <td>...</td>\n",
       "      <td>...</td>\n",
       "      <td>...</td>\n",
       "      <td>...</td>\n",
       "      <td>...</td>\n",
       "    </tr>\n",
       "    <tr>\n",
       "      <th>8168</th>\n",
       "      <td>8207</td>\n",
       "      <td>4-Dec-2020</td>\n",
       "      <td>Elaboración de un manual de procedimientos e i...</td>\n",
       "      <td>Armas R., Rodolfo J.</td>\n",
       "      <td>924.37 kB</td>\n",
       "      <td>http://saber.ucv.ve/handle/10872/20906</td>\n",
       "      <td>http://saber.ucv.ve/bitstream/10872/20906/1/TE...</td>\n",
       "      <td>NaN</td>\n",
       "      <td>thesis_pdf_all/8207.pdf</td>\n",
       "      <td>True</td>\n",
       "      <td>True</td>\n",
       "    </tr>\n",
       "    <tr>\n",
       "      <th>8169</th>\n",
       "      <td>8208</td>\n",
       "      <td>8-Mar-2021</td>\n",
       "      <td>Condiciones de vida de los estudiantes de Geoq...</td>\n",
       "      <td>Pérez, Andrea; Pinto, Hendrith</td>\n",
       "      <td>7.21 MB</td>\n",
       "      <td>http://saber.ucv.ve/handle/10872/20969</td>\n",
       "      <td>http://saber.ucv.ve/bitstream/10872/20969/1/CO...</td>\n",
       "      <td>NaN</td>\n",
       "      <td>thesis_pdf_all/8208.pdf</td>\n",
       "      <td>True</td>\n",
       "      <td>True</td>\n",
       "    </tr>\n",
       "    <tr>\n",
       "      <th>8170</th>\n",
       "      <td>8209</td>\n",
       "      <td>8-Mar-2021</td>\n",
       "      <td>Análisis de los elementos pospornográficos de ...</td>\n",
       "      <td>Belandria, Sofía</td>\n",
       "      <td>1.13 MB</td>\n",
       "      <td>http://saber.ucv.ve/handle/10872/20970</td>\n",
       "      <td>http://saber.ucv.ve/bitstream/10872/20970/1/So...</td>\n",
       "      <td>NaN</td>\n",
       "      <td>thesis_pdf_all/8209.pdf</td>\n",
       "      <td>True</td>\n",
       "      <td>True</td>\n",
       "    </tr>\n",
       "    <tr>\n",
       "      <th>8171</th>\n",
       "      <td>8210</td>\n",
       "      <td>11-Mar-2021</td>\n",
       "      <td>La Fecundidad Adolescente en Venezuela vista a...</td>\n",
       "      <td>Simao, Edith Carolina</td>\n",
       "      <td>3.56 MB</td>\n",
       "      <td>http://saber.ucv.ve/handle/10872/20973</td>\n",
       "      <td>http://saber.ucv.ve/bitstream/10872/20973/1/TF...</td>\n",
       "      <td>NaN</td>\n",
       "      <td>thesis_pdf_all/8210.pdf</td>\n",
       "      <td>True</td>\n",
       "      <td>True</td>\n",
       "    </tr>\n",
       "    <tr>\n",
       "      <th>8172</th>\n",
       "      <td>8211</td>\n",
       "      <td>12-Mar-2021</td>\n",
       "      <td>La industria musical surcoreana, recepción y a...</td>\n",
       "      <td>Utrera Ávila, Joselin Marly</td>\n",
       "      <td>2.33 MB</td>\n",
       "      <td>http://saber.ucv.ve/handle/10872/20974</td>\n",
       "      <td>http://saber.ucv.ve/bitstream/10872/20974/1/TF...</td>\n",
       "      <td>NaN</td>\n",
       "      <td>thesis_pdf_all/8211.pdf</td>\n",
       "      <td>True</td>\n",
       "      <td>True</td>\n",
       "    </tr>\n",
       "  </tbody>\n",
       "</table>\n",
       "<p>8173 rows × 11 columns</p>\n",
       "</div>"
      ],
      "text/plain": [
       "      index  thesis_year                                       thesis_title  \\\n",
       "0         1         2009  Estudio de sobretensiones por maniobra debido ...   \n",
       "1         2         2010  La Economía del Ocio como una alternativa de e...   \n",
       "2         3  27-May-2011  La producción de conocimiento : un análisis mé...   \n",
       "3         4  27-May-2011  Desarrollo de un algoritmo computacional para ...   \n",
       "4         5  27-May-2011  Evaluación geofísica integral de los conos alu...   \n",
       "...     ...          ...                                                ...   \n",
       "8168   8207   4-Dec-2020  Elaboración de un manual de procedimientos e i...   \n",
       "8169   8208   8-Mar-2021  Condiciones de vida de los estudiantes de Geoq...   \n",
       "8170   8209   8-Mar-2021  Análisis de los elementos pospornográficos de ...   \n",
       "8171   8210  11-Mar-2021  La Fecundidad Adolescente en Venezuela vista a...   \n",
       "8172   8211  12-Mar-2021  La industria musical surcoreana, recepción y a...   \n",
       "\n",
       "                                          thesis_author       size  \\\n",
       "0                               De Gregorio S., Luis T.    6.77 MB   \n",
       "1                                     Rivera, Elizabeth       2 MB   \n",
       "2     Adrian Mogollón, Julia; Echezuria Perozo, Jorg...  995.92 kB   \n",
       "3                                    D'Amico, Walter F.  506.32 kB   \n",
       "4                  Cragno, Analia V.; Romero, Marcos A.    3.02 MB   \n",
       "...                                                 ...        ...   \n",
       "8168                               Armas R., Rodolfo J.  924.37 kB   \n",
       "8169                     Pérez, Andrea; Pinto, Hendrith    7.21 MB   \n",
       "8170                                   Belandria, Sofía    1.13 MB   \n",
       "8171                              Simao, Edith Carolina    3.56 MB   \n",
       "8172                        Utrera Ávila, Joselin Marly    2.33 MB   \n",
       "\n",
       "                                 thesis_link  \\\n",
       "0     http://saber.ucv.ve/handle/10872/17712   \n",
       "1     http://saber.ucv.ve/handle/10872/16245   \n",
       "2        http://saber.ucv.ve/handle/10872/29   \n",
       "3        http://saber.ucv.ve/handle/10872/32   \n",
       "4        http://saber.ucv.ve/handle/10872/31   \n",
       "...                                      ...   \n",
       "8168  http://saber.ucv.ve/handle/10872/20906   \n",
       "8169  http://saber.ucv.ve/handle/10872/20969   \n",
       "8170  http://saber.ucv.ve/handle/10872/20970   \n",
       "8171  http://saber.ucv.ve/handle/10872/20973   \n",
       "8172  http://saber.ucv.ve/handle/10872/20974   \n",
       "\n",
       "                                               pdf_link  resumen  \\\n",
       "0     http://saber.ucv.ve/bitstream/10872/17712/1/TE...      NaN   \n",
       "1     http://saber.ucv.ve/bitstream/10872/16245/1/TG...      NaN   \n",
       "2     http://saber.ucv.ve/bitstream/10872/29/1/TL-EB...      NaN   \n",
       "3     http://saber.ucv.ve/bitstream/10872/32/1/Tesis...      NaN   \n",
       "4     http://saber.ucv.ve/bitstream/10872/31/1/Evalu...      NaN   \n",
       "...                                                 ...      ...   \n",
       "8168  http://saber.ucv.ve/bitstream/10872/20906/1/TE...      NaN   \n",
       "8169  http://saber.ucv.ve/bitstream/10872/20969/1/CO...      NaN   \n",
       "8170  http://saber.ucv.ve/bitstream/10872/20970/1/So...      NaN   \n",
       "8171  http://saber.ucv.ve/bitstream/10872/20973/1/TF...      NaN   \n",
       "8172  http://saber.ucv.ve/bitstream/10872/20974/1/TF...      NaN   \n",
       "\n",
       "                         path  exist  isPDF  \n",
       "0        thesis_pdf_all/1.pdf   True   True  \n",
       "1        thesis_pdf_all/2.pdf   True   True  \n",
       "2        thesis_pdf_all/3.pdf   True   True  \n",
       "3        thesis_pdf_all/4.pdf   True   True  \n",
       "4        thesis_pdf_all/5.pdf   True   True  \n",
       "...                       ...    ...    ...  \n",
       "8168  thesis_pdf_all/8207.pdf   True   True  \n",
       "8169  thesis_pdf_all/8208.pdf   True   True  \n",
       "8170  thesis_pdf_all/8209.pdf   True   True  \n",
       "8171  thesis_pdf_all/8210.pdf   True   True  \n",
       "8172  thesis_pdf_all/8211.pdf   True   True  \n",
       "\n",
       "[8173 rows x 11 columns]"
      ]
     },
     "execution_count": 28,
     "metadata": {},
     "output_type": "execute_result"
    }
   ],
   "source": [
    "## names\n",
    "df_tesis = pd.read_csv('data/url_thesis_8211_with_pdf_scan.csv')\n",
    "df_tesis"
   ]
  },
  {
   "cell_type": "code",
   "execution_count": 29,
   "id": "c1d988b2",
   "metadata": {},
   "outputs": [
    {
     "data": {
      "text/plain": [
       "['De Gregorio S., Luis T.',\n",
       " 'Rivera, Elizabeth',\n",
       " 'Adrian Mogollón, Julia; Echezuria Perozo, Jorge E.; Valero Goncalves, Yusmary L.',\n",
       " \"D'Amico, Walter F.\",\n",
       " 'Cragno, Analia V.; Romero, Marcos A.',\n",
       " 'Fernández, Fernando J.',\n",
       " 'Echezuria Perozo, Jorge E.; Rondon, María C.; Gutierrez Luna, Melany',\n",
       " 'Silva P., Daniel J.',\n",
       " 'Silva, Carolina del V.',\n",
       " 'Suárez B., Efren J.']"
      ]
     },
     "execution_count": 29,
     "metadata": {},
     "output_type": "execute_result"
    }
   ],
   "source": [
    "top10_authors = df_tesis['thesis_author'][:10]\n",
    "top10_authors = top10_authors.values.tolist()\n",
    "top10_authors"
   ]
  },
  {
   "cell_type": "code",
   "execution_count": 30,
   "id": "d63feb3e",
   "metadata": {},
   "outputs": [
    {
     "data": {
      "text/plain": [
       "'Adrian Mogollón, Julia; Echezuria Perozo, Jorge E.; Valero Goncalves, Yusmary L.'"
      ]
     },
     "execution_count": 30,
     "metadata": {},
     "output_type": "execute_result"
    }
   ],
   "source": [
    "top10_authors[2]"
   ]
  },
  {
   "cell_type": "code",
   "execution_count": 31,
   "id": "2c4cb3a3",
   "metadata": {},
   "outputs": [],
   "source": [
    "vec_points = np.vectorize(clean_points_text) "
   ]
  },
  {
   "cell_type": "code",
   "execution_count": 32,
   "id": "d0a06702",
   "metadata": {},
   "outputs": [],
   "source": [
    "top10_clean = vec_points(top10_authors)\n",
    "top10_clean = top10_clean.tolist()"
   ]
  },
  {
   "cell_type": "code",
   "execution_count": 107,
   "id": "8d64443f",
   "metadata": {},
   "outputs": [],
   "source": [
    "def compare_similarity(docs, author):\n",
    "    author = nlp_compare(author)\n",
    "    for name in docs:\n",
    "        name_aux = nlp_compare(name)\n",
    "        print(name, \"<->\", author, author.similarity(name_aux))"
   ]
  },
  {
   "cell_type": "code",
   "execution_count": 34,
   "id": "5e37f3a4",
   "metadata": {},
   "outputs": [
    {
     "name": "stdout",
     "output_type": "stream",
     "text": [
      "Adrián M <-> Adrian Mogollón Julia; Echezuria Perozo Jorge E; Valero Goncalves Yusmary L 0.33937008053670276\n",
      "Julia Echezuría <-> Adrian Mogollón Julia; Echezuria Perozo Jorge E; Valero Goncalves Yusmary L 0.5670012875522249\n",
      "Jorge Valero G Yusmary TUTOR <-> Adrian Mogollón Julia; Echezuria Perozo Jorge E; Valero Goncalves Yusmary L 0.7070172418471509\n",
      "Ángel Moros R <-> Adrian Mogollón Julia; Echezuria Perozo Jorge E; Valero Goncalves Yusmary L 0.40224459980277893\n",
      "Yusmary Valero G <-> Adrian Mogollón Julia; Echezuria Perozo Jorge E; Valero Goncalves Yusmary L 0.5975819452444061\n",
      "Yusmy <-> Adrian Mogollón Julia; Echezuria Perozo Jorge E; Valero Goncalves Yusmary L 0.0\n",
      "Jorge <-> Adrian Mogollón Julia; Echezuria Perozo Jorge E; Valero Goncalves Yusmary L 0.676725298944286\n",
      "Alejandra González <-> Adrian Mogollón Julia; Echezuria Perozo Jorge E; Valero Goncalves Yusmary L 0.35765417137227434\n",
      "Carmen Barrios <-> Adrian Mogollón Julia; Echezuria Perozo Jorge E; Valero Goncalves Yusmary L 0.4713957279218759\n",
      "Ángel Moros <-> Adrian Mogollón Julia; Echezuria Perozo Jorge E; Valero Goncalves Yusmary L 0.22016572403945514\n",
      "José López <-> Adrian Mogollón Julia; Echezuria Perozo Jorge E; Valero Goncalves Yusmary L 0.38028625262854815\n",
      "Isabel Bello <-> Adrian Mogollón Julia; Echezuria Perozo Jorge E; Valero Goncalves Yusmary L 0.4955279354836701\n",
      "Julia Adrián Jorge Echezuria <-> Adrian Mogollón Julia; Echezuria Perozo Jorge E; Valero Goncalves Yusmary L 0.7333653473379621\n",
      "Yusmary Valero <-> Adrian Mogollón Julia; Echezuria Perozo Jorge E; Valero Goncalves Yusmary L 0.4594296677470178\n",
      "Ángel Moros R RESUMEN <-> Adrian Mogollón Julia; Echezuria Perozo Jorge E; Valero Goncalves Yusmary L 0.4022445757184958\n"
     ]
    },
    {
     "name": "stderr",
     "output_type": "stream",
     "text": [
      "/tmp/ipykernel_5742/1030706800.py:5: UserWarning: [W008] Evaluating Doc.similarity based on empty vectors.\n",
      "  print(name, \"<->\", author, author.similarity(name_aux))\n"
     ]
    }
   ],
   "source": [
    "compare_similarity(get_persons, str(top10_clean[2]))"
   ]
  },
  {
   "cell_type": "code",
   "execution_count": 35,
   "id": "538c6e0b",
   "metadata": {},
   "outputs": [
    {
     "data": {
      "text/plain": [
       "['Adrian Mogollón Julia',\n",
       " ' Echezuria Perozo Jorge E',\n",
       " ' Valero Goncalves Yusmary L']"
      ]
     },
     "execution_count": 35,
     "metadata": {},
     "output_type": "execute_result"
    }
   ],
   "source": [
    "top10_clean[2].split(\";\")"
   ]
  },
  {
   "cell_type": "code",
   "execution_count": null,
   "id": "cdd8982e",
   "metadata": {},
   "outputs": [],
   "source": []
  }
 ],
 "metadata": {
  "kernelspec": {
   "display_name": "env",
   "language": "python",
   "name": "env"
  },
  "language_info": {
   "codemirror_mode": {
    "name": "ipython",
    "version": 3
   },
   "file_extension": ".py",
   "mimetype": "text/x-python",
   "name": "python",
   "nbconvert_exporter": "python",
   "pygments_lexer": "ipython3",
   "version": "3.8.10"
  }
 },
 "nbformat": 4,
 "nbformat_minor": 5
}
