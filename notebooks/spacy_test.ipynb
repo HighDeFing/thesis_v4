{
 "cells": [
  {
   "cell_type": "code",
   "execution_count": 11,
   "id": "5b1fcb42",
   "metadata": {},
   "outputs": [],
   "source": [
    "import spacy\n",
    "from spacy import displacy\n",
    "\n",
    "text = \"\"\"Los abajo firmantes, miembros del Jurado designado por el Consejo de\n",
    "Escuela de Geología, Minas y Geofísica, para evaluar el Trabajo Especial de\n",
    "Grado presentado por la Bachiller Ana L. Paredes M., titulado:\n",
    "\"\"\"\n",
    "\n",
    "nlp = spacy.load('es_core_news_sm')\n",
    "\n",
    "#nlp = spacy.load('es_dep_news_trf')\n",
    "\n",
    "doc = nlp(text)\n"
   ]
  },
  {
   "cell_type": "code",
   "execution_count": 12,
   "id": "3a6036ff",
   "metadata": {},
   "outputs": [
    {
     "name": "stdout",
     "output_type": "stream",
     "text": [
      "Los abajo firmantes, miembros del Jurado designado por el Consejo de\n",
      "Escuela de Geología, Minas y Geofísica, para evaluar el Trabajo Especial de\n",
      "Grado presentado por la Bachiller Ana L. Paredes M., titulado\n"
     ]
    }
   ],
   "source": [
    "oracion1 = list(doc.sents)[0]\n",
    "print(oracion1)"
   ]
  },
  {
   "cell_type": "code",
   "execution_count": 13,
   "id": "6840357c",
   "metadata": {},
   "outputs": [
    {
     "data": {
      "text/plain": [
       "Escuela"
      ]
     },
     "execution_count": 13,
     "metadata": {},
     "output_type": "execute_result"
    }
   ],
   "source": [
    "text1 = oracion1[13]\n",
    "text1"
   ]
  },
  {
   "cell_type": "code",
   "execution_count": 14,
   "id": "bbd6d7f8",
   "metadata": {},
   "outputs": [
    {
     "data": {
      "text/plain": [
       "'ORG'"
      ]
     },
     "execution_count": 14,
     "metadata": {},
     "output_type": "execute_result"
    }
   ],
   "source": [
    "text2 = oracion1[13]\n",
    "text2.ent_type_"
   ]
  },
  {
   "cell_type": "code",
   "execution_count": 15,
   "id": "a3854717",
   "metadata": {},
   "outputs": [
    {
     "data": {
      "text/plain": [
       "'I'"
      ]
     },
     "execution_count": 15,
     "metadata": {},
     "output_type": "execute_result"
    }
   ],
   "source": [
    "text2.ent_iob_"
   ]
  },
  {
   "cell_type": "code",
   "execution_count": 16,
   "id": "51135798",
   "metadata": {},
   "outputs": [
    {
     "data": {
      "text/plain": [
       "'Escuela'"
      ]
     },
     "execution_count": 16,
     "metadata": {},
     "output_type": "execute_result"
    }
   ],
   "source": [
    "text2.lemma_"
   ]
  },
  {
   "cell_type": "code",
   "execution_count": 17,
   "id": "38c9638a",
   "metadata": {},
   "outputs": [
    {
     "name": "stdout",
     "output_type": "stream",
     "text": [
      "Jurado MISC\n",
      "Consejo de\n",
      "Escuela de Geología ORG\n",
      "Minas LOC\n",
      "Geofísica LOC\n",
      "Trabajo Especial de\n",
      "Grado MISC\n",
      "Bachiller ORG\n",
      "Ana L. Paredes M. PER\n"
     ]
    }
   ],
   "source": [
    "for ent in doc.ents:\n",
    "    print (ent.text, ent.label_)"
   ]
  },
  {
   "cell_type": "code",
   "execution_count": 18,
   "id": "82190430",
   "metadata": {},
   "outputs": [
    {
     "data": {
      "text/html": [
       "<span class=\"tex2jax_ignore\"><div class=\"entities\" style=\"line-height: 2.5; direction: ltr\">Los abajo firmantes, miembros del \n",
       "<mark class=\"entity\" style=\"background: #ddd; padding: 0.45em 0.6em; margin: 0 0.25em; line-height: 1; border-radius: 0.35em;\">\n",
       "    Jurado\n",
       "    <span style=\"font-size: 0.8em; font-weight: bold; line-height: 1; border-radius: 0.35em; vertical-align: middle; margin-left: 0.5rem\">MISC</span>\n",
       "</mark>\n",
       " designado por el \n",
       "<mark class=\"entity\" style=\"background: #7aecec; padding: 0.45em 0.6em; margin: 0 0.25em; line-height: 1; border-radius: 0.35em;\">\n",
       "    Consejo de\n",
       "Escuela de Geología\n",
       "    <span style=\"font-size: 0.8em; font-weight: bold; line-height: 1; border-radius: 0.35em; vertical-align: middle; margin-left: 0.5rem\">ORG</span>\n",
       "</mark>\n",
       ", \n",
       "<mark class=\"entity\" style=\"background: #ff9561; padding: 0.45em 0.6em; margin: 0 0.25em; line-height: 1; border-radius: 0.35em;\">\n",
       "    Minas\n",
       "    <span style=\"font-size: 0.8em; font-weight: bold; line-height: 1; border-radius: 0.35em; vertical-align: middle; margin-left: 0.5rem\">LOC</span>\n",
       "</mark>\n",
       " y \n",
       "<mark class=\"entity\" style=\"background: #ff9561; padding: 0.45em 0.6em; margin: 0 0.25em; line-height: 1; border-radius: 0.35em;\">\n",
       "    Geofísica\n",
       "    <span style=\"font-size: 0.8em; font-weight: bold; line-height: 1; border-radius: 0.35em; vertical-align: middle; margin-left: 0.5rem\">LOC</span>\n",
       "</mark>\n",
       ", para evaluar el \n",
       "<mark class=\"entity\" style=\"background: #ddd; padding: 0.45em 0.6em; margin: 0 0.25em; line-height: 1; border-radius: 0.35em;\">\n",
       "    Trabajo Especial de\n",
       "Grado\n",
       "    <span style=\"font-size: 0.8em; font-weight: bold; line-height: 1; border-radius: 0.35em; vertical-align: middle; margin-left: 0.5rem\">MISC</span>\n",
       "</mark>\n",
       " presentado por la \n",
       "<mark class=\"entity\" style=\"background: #7aecec; padding: 0.45em 0.6em; margin: 0 0.25em; line-height: 1; border-radius: 0.35em;\">\n",
       "    Bachiller\n",
       "    <span style=\"font-size: 0.8em; font-weight: bold; line-height: 1; border-radius: 0.35em; vertical-align: middle; margin-left: 0.5rem\">ORG</span>\n",
       "</mark>\n",
       " \n",
       "<mark class=\"entity\" style=\"background: #ddd; padding: 0.45em 0.6em; margin: 0 0.25em; line-height: 1; border-radius: 0.35em;\">\n",
       "    Ana L. Paredes M.\n",
       "    <span style=\"font-size: 0.8em; font-weight: bold; line-height: 1; border-radius: 0.35em; vertical-align: middle; margin-left: 0.5rem\">PER</span>\n",
       "</mark>\n",
       ", titulado:</br></div></span>"
      ],
      "text/plain": [
       "<IPython.core.display.HTML object>"
      ]
     },
     "metadata": {},
     "output_type": "display_data"
    }
   ],
   "source": [
    "displacy.render(doc, style=\"ent\")"
   ]
  },
  {
   "cell_type": "code",
   "execution_count": 19,
   "id": "7b85554d",
   "metadata": {},
   "outputs": [],
   "source": [
    "nlp_1 = spacy.load('es_core_news_sm')"
   ]
  },
  {
   "cell_type": "code",
   "execution_count": 20,
   "id": "8df6739f",
   "metadata": {},
   "outputs": [
    {
     "data": {
      "text/plain": [
       "('ner', <spacy.pipeline.ner.EntityRecognizer at 0x7f8bd1297a50>)"
      ]
     },
     "execution_count": 20,
     "metadata": {},
     "output_type": "execute_result"
    }
   ],
   "source": [
    "nlp_1.remove_pipe('ner')"
   ]
  },
  {
   "cell_type": "code",
   "execution_count": 21,
   "id": "f87dead2",
   "metadata": {},
   "outputs": [],
   "source": [
    "ruler = nlp_1.add_pipe(\"entity_ruler\")"
   ]
  },
  {
   "cell_type": "code",
   "execution_count": 22,
   "id": "456b4342",
   "metadata": {},
   "outputs": [],
   "source": [
    "patterns_1 = [{\"label\": \"ESC\", \"pattern\": [{\"LOWER\":\"escuela de geología, minas y geofísica\"}]}]"
   ]
  },
  {
   "cell_type": "code",
   "execution_count": 23,
   "id": "e8e3844d",
   "metadata": {},
   "outputs": [],
   "source": [
    "ruler.add_patterns(patterns_1)"
   ]
  },
  {
   "cell_type": "code",
   "execution_count": 24,
   "id": "f1dcd3e6",
   "metadata": {},
   "outputs": [],
   "source": [
    "text_1 = \"\"\"Los abajo firmantes, miembros del Jurado designado por el Consejo de\n",
    "escuela de geología, minas y geofísica, para evaluar el Trabajo Especial de\n",
    "Grado presentado por la Bachiller Ana L. Paredes M., titulado:\n",
    "\"\"\"\n",
    "\n",
    "doc_1 = nlp_1(text)"
   ]
  },
  {
   "cell_type": "code",
   "execution_count": 25,
   "id": "5f050d80",
   "metadata": {},
   "outputs": [
    {
     "name": "stdout",
     "output_type": "stream",
     "text": [
      "[]\n"
     ]
    }
   ],
   "source": [
    "print([(ent.text, ent.label_) for ent in doc_1.ents])"
   ]
  },
  {
   "cell_type": "code",
   "execution_count": 26,
   "id": "edc74e55",
   "metadata": {},
   "outputs": [
    {
     "name": "stderr",
     "output_type": "stream",
     "text": [
      "/home/heider/Codes/Thesis_v3/env/lib/python3.8/site-packages/spacy/displacy/__init__.py:200: UserWarning: [W006] No entities to visualize found in Doc object. If this is surprising to you, make sure the Doc was processed using a model that supports named entity recognition, and check the `doc.ents` property manually if necessary.\n",
      "  warnings.warn(Warnings.W006)\n"
     ]
    },
    {
     "data": {
      "text/html": [
       "<span class=\"tex2jax_ignore\"><div class=\"entities\" style=\"line-height: 2.5; direction: ltr\">Los abajo firmantes, miembros del Jurado designado por el Consejo de</br>Escuela de Geología, Minas y Geofísica, para evaluar el Trabajo Especial de</br>Grado presentado por la Bachiller Ana L. Paredes M., titulado:</br></div></span>"
      ],
      "text/plain": [
       "<IPython.core.display.HTML object>"
      ]
     },
     "metadata": {},
     "output_type": "display_data"
    }
   ],
   "source": [
    "displacy.render(doc_1, style=\"ent\")"
   ]
  },
  {
   "cell_type": "code",
   "execution_count": 27,
   "id": "bb4ec05e",
   "metadata": {},
   "outputs": [],
   "source": [
    "nlp2 = spacy.load('es_core_news_sm')"
   ]
  },
  {
   "cell_type": "code",
   "execution_count": null,
   "id": "48d14167",
   "metadata": {},
   "outputs": [],
   "source": []
  },
  {
   "cell_type": "code",
   "execution_count": 28,
   "id": "f3532e12",
   "metadata": {},
   "outputs": [
    {
     "data": {
      "text/plain": [
       "[('tok2vec', <spacy.pipeline.tok2vec.Tok2Vec at 0x7f8bd11992e0>),\n",
       " ('morphologizer',\n",
       "  <spacy.pipeline.morphologizer.Morphologizer at 0x7f8bd1199e20>),\n",
       " ('parser', <spacy.pipeline.dep_parser.DependencyParser at 0x7f8bd139c970>),\n",
       " ('attribute_ruler',\n",
       "  <spacy.pipeline.attributeruler.AttributeRuler at 0x7f8bd0217ac0>),\n",
       " ('lemmatizer',\n",
       "  <spacy.lang.es.lemmatizer.SpanishLemmatizer at 0x7f8bd0221740>),\n",
       " ('ner', <spacy.pipeline.ner.EntityRecognizer at 0x7f8bd1198740>)]"
      ]
     },
     "execution_count": 28,
     "metadata": {},
     "output_type": "execute_result"
    }
   ],
   "source": [
    "nlp2.pipeline"
   ]
  },
  {
   "cell_type": "code",
   "execution_count": 29,
   "id": "943da382",
   "metadata": {},
   "outputs": [
    {
     "data": {
      "text/plain": [
       "('ner', <spacy.pipeline.ner.EntityRecognizer at 0x7f8bd1198740>)"
      ]
     },
     "execution_count": 29,
     "metadata": {},
     "output_type": "execute_result"
    }
   ],
   "source": [
    "nlp2.remove_pipe('ner')"
   ]
  },
  {
   "cell_type": "code",
   "execution_count": 30,
   "id": "ac40b647",
   "metadata": {},
   "outputs": [],
   "source": [
    "ruler = nlp2.add_pipe(\"entity_ruler\")"
   ]
  },
  {
   "cell_type": "code",
   "execution_count": 31,
   "id": "4fc7ec5e",
   "metadata": {},
   "outputs": [],
   "source": [
    "patterns2 = [{\"label\": \"ESC\", \"pattern\": [{\"LOWER\": \"escuela de geología, minas y geofísica\"}]}]"
   ]
  },
  {
   "cell_type": "code",
   "execution_count": 32,
   "id": "5c6b3820",
   "metadata": {},
   "outputs": [],
   "source": [
    "ruler.add_patterns(patterns2)"
   ]
  },
  {
   "cell_type": "code",
   "execution_count": null,
   "id": "cbaee014",
   "metadata": {},
   "outputs": [],
   "source": []
  },
  {
   "cell_type": "code",
   "execution_count": 33,
   "id": "f192ed2a",
   "metadata": {},
   "outputs": [],
   "source": [
    "text2 = \"\"\"Los abajo firmantes, miembros del Jurado designado por el Consejo de\n",
    "escuela de geología, minas y geofísica, para evaluar el Trabajo Especial de\n",
    "Grado presentado por la Bachiller Ana L. Paredes M., titulado:\n",
    "\"\"\"\n",
    "\n",
    "doc2 = nlp2(text2)"
   ]
  },
  {
   "cell_type": "code",
   "execution_count": 34,
   "id": "c179cb1b",
   "metadata": {},
   "outputs": [
    {
     "name": "stderr",
     "output_type": "stream",
     "text": [
      "/home/heider/Codes/Thesis_v3/env/lib/python3.8/site-packages/spacy/displacy/__init__.py:200: UserWarning: [W006] No entities to visualize found in Doc object. If this is surprising to you, make sure the Doc was processed using a model that supports named entity recognition, and check the `doc.ents` property manually if necessary.\n",
      "  warnings.warn(Warnings.W006)\n"
     ]
    },
    {
     "data": {
      "text/html": [
       "<span class=\"tex2jax_ignore\"><div class=\"entities\" style=\"line-height: 2.5; direction: ltr\">Los abajo firmantes, miembros del Jurado designado por el Consejo de</br>escuela de geología, minas y geofísica, para evaluar el Trabajo Especial de</br>Grado presentado por la Bachiller Ana L. Paredes M., titulado:</br></div></span>"
      ],
      "text/plain": [
       "<IPython.core.display.HTML object>"
      ]
     },
     "metadata": {},
     "output_type": "display_data"
    }
   ],
   "source": [
    "displacy.render(doc2, style=\"ent\")"
   ]
  },
  {
   "cell_type": "code",
   "execution_count": 35,
   "id": "501d4cea",
   "metadata": {},
   "outputs": [],
   "source": [
    "text2 = \"\"\"Los abajo firmantes, miembros del Jurado designado por el Consejo de\n",
    "escuela de geología, minas y geofísica, para evaluar el Trabajo Especial de\n",
    "Grado presentado por la Bachiller Ana L. Paredes M., titulado:\n",
    "\"\"\"\n",
    "\n",
    "doc2 = nlp(text2)"
   ]
  },
  {
   "cell_type": "code",
   "execution_count": 36,
   "id": "10cc8e39",
   "metadata": {},
   "outputs": [
    {
     "data": {
      "text/plain": [
       "(Jurado,\n",
       " Consejo,\n",
       " Trabajo Especial de\n",
       " Grado,\n",
       " Bachiller,\n",
       " Ana L. Paredes M.)"
      ]
     },
     "execution_count": 36,
     "metadata": {},
     "output_type": "execute_result"
    }
   ],
   "source": [
    "doc2.ents"
   ]
  },
  {
   "cell_type": "code",
   "execution_count": 37,
   "id": "db697881",
   "metadata": {
    "scrolled": true
   },
   "outputs": [],
   "source": [
    "from spacy.matcher import PhraseMatcher"
   ]
  },
  {
   "cell_type": "code",
   "execution_count": 38,
   "id": "0362c1d4",
   "metadata": {},
   "outputs": [],
   "source": [
    "nlp = spacy.load('es_core_news_sm')"
   ]
  },
  {
   "cell_type": "code",
   "execution_count": 39,
   "id": "f40440ca",
   "metadata": {},
   "outputs": [],
   "source": [
    "matcher = PhraseMatcher(nlp.vocab, attr=\"LOWER\")\n",
    "patterns = [nlp(name) for name in [\"Escuela de Geología, Minas y Geofísica\"]]\n",
    "matcher.add(\"ESC\", patterns)"
   ]
  },
  {
   "cell_type": "code",
   "execution_count": 40,
   "id": "6240de08",
   "metadata": {},
   "outputs": [],
   "source": [
    "matcher = PhraseMatcher(nlp.vocab, attr=\"LOWER\")\n",
    "patterns = list(nlp.tokenizer.pipe([\"Escuela de Geología, Minas y Geofísica\"]))\n",
    "matcher.add(\"ESC\", patterns)"
   ]
  },
  {
   "cell_type": "code",
   "execution_count": 41,
   "id": "eab97718",
   "metadata": {},
   "outputs": [
    {
     "name": "stdout",
     "output_type": "stream",
     "text": [
      "Matched based on lowercase token text: escuela de geología, minas y geofísica\n",
      "Matched based on lowercase token text: escuela de geología, minas y geofísica\n",
      "Matched based on lowercase token text: escuela de geología, minas y geofísica\n"
     ]
    }
   ],
   "source": [
    "text2 = \"\"\"Los abajo firmantes, miembros del Jurado designado por el Consejo de\n",
    "escuela de geología, minas y geofísica, para evaluar el Trabajo Especial de\n",
    "Grado presentado por la Bachiller Ana L. Paredes M., titulado:\n",
    "escuela de geología, minas y geofísica\n",
    "escuela de geología, minas y geofísica\n",
    "\"\"\"\n",
    "\n",
    "doc = nlp(text2)\n",
    "\n",
    "for match_id, start, end in matcher(doc):\n",
    "    print(\"Matched based on lowercase token text:\", doc[start:end])"
   ]
  },
  {
   "cell_type": "code",
   "execution_count": 42,
   "id": "0834bf4e",
   "metadata": {},
   "outputs": [
    {
     "data": {
      "text/plain": [
       "[('tok2vec', <spacy.pipeline.tok2vec.Tok2Vec at 0x7f8bd00363a0>),\n",
       " ('morphologizer',\n",
       "  <spacy.pipeline.morphologizer.Morphologizer at 0x7f8bd0036700>),\n",
       " ('parser', <spacy.pipeline.dep_parser.DependencyParser at 0x7f8bd1297cf0>),\n",
       " ('attribute_ruler',\n",
       "  <spacy.pipeline.attributeruler.AttributeRuler at 0x7f8bcffc4580>),\n",
       " ('lemmatizer',\n",
       "  <spacy.lang.es.lemmatizer.SpanishLemmatizer at 0x7f8bcffc9e40>),\n",
       " ('ner', <spacy.pipeline.ner.EntityRecognizer at 0x7f8bd23aaa50>)]"
      ]
     },
     "execution_count": 42,
     "metadata": {},
     "output_type": "execute_result"
    }
   ],
   "source": [
    "nlp.pipeline"
   ]
  },
  {
   "cell_type": "code",
   "execution_count": 43,
   "id": "7960f08c",
   "metadata": {},
   "outputs": [
    {
     "data": {
      "text/html": [
       "<span class=\"tex2jax_ignore\"><div class=\"entities\" style=\"line-height: 2.5; direction: ltr\">Los abajo firmantes, miembros del \n",
       "<mark class=\"entity\" style=\"background: #ddd; padding: 0.45em 0.6em; margin: 0 0.25em; line-height: 1; border-radius: 0.35em;\">\n",
       "    Jurado\n",
       "    <span style=\"font-size: 0.8em; font-weight: bold; line-height: 1; border-radius: 0.35em; vertical-align: middle; margin-left: 0.5rem\">MISC</span>\n",
       "</mark>\n",
       " designado por el \n",
       "<mark class=\"entity\" style=\"background: #ddd; padding: 0.45em 0.6em; margin: 0 0.25em; line-height: 1; border-radius: 0.35em;\">\n",
       "    Consejo\n",
       "    <span style=\"font-size: 0.8em; font-weight: bold; line-height: 1; border-radius: 0.35em; vertical-align: middle; margin-left: 0.5rem\">MISC</span>\n",
       "</mark>\n",
       " de</br>escuela de geología, minas y geofísica, para evaluar el \n",
       "<mark class=\"entity\" style=\"background: #ddd; padding: 0.45em 0.6em; margin: 0 0.25em; line-height: 1; border-radius: 0.35em;\">\n",
       "    Trabajo Especial de\n",
       "Grado\n",
       "    <span style=\"font-size: 0.8em; font-weight: bold; line-height: 1; border-radius: 0.35em; vertical-align: middle; margin-left: 0.5rem\">MISC</span>\n",
       "</mark>\n",
       " presentado por la \n",
       "<mark class=\"entity\" style=\"background: #7aecec; padding: 0.45em 0.6em; margin: 0 0.25em; line-height: 1; border-radius: 0.35em;\">\n",
       "    Bachiller\n",
       "    <span style=\"font-size: 0.8em; font-weight: bold; line-height: 1; border-radius: 0.35em; vertical-align: middle; margin-left: 0.5rem\">ORG</span>\n",
       "</mark>\n",
       " \n",
       "<mark class=\"entity\" style=\"background: #ddd; padding: 0.45em 0.6em; margin: 0 0.25em; line-height: 1; border-radius: 0.35em;\">\n",
       "    Ana L. Paredes M.\n",
       "    <span style=\"font-size: 0.8em; font-weight: bold; line-height: 1; border-radius: 0.35em; vertical-align: middle; margin-left: 0.5rem\">PER</span>\n",
       "</mark>\n",
       ", titulado:</br>escuela de geología, minas y geofísica</br>escuela de geología, minas y geofísica</br></div></span>"
      ],
      "text/plain": [
       "<IPython.core.display.HTML object>"
      ]
     },
     "metadata": {},
     "output_type": "display_data"
    }
   ],
   "source": [
    "displacy.render(doc, style=\"ent\")"
   ]
  },
  {
   "cell_type": "code",
   "execution_count": 44,
   "id": "e876a6f3",
   "metadata": {},
   "outputs": [],
   "source": [
    "patterns2 = [{\"label\": \"ESC\", \"pattern\":[{\"ORTH\": \"escuela de geología, minas y geofísica\"}]}]"
   ]
  },
  {
   "cell_type": "code",
   "execution_count": 45,
   "id": "9cf2e196",
   "metadata": {},
   "outputs": [],
   "source": [
    "ruler.add_patterns(patterns2)"
   ]
  },
  {
   "cell_type": "code",
   "execution_count": 46,
   "id": "27e34328",
   "metadata": {},
   "outputs": [
    {
     "data": {
      "text/plain": [
       "[('tok2vec', <spacy.pipeline.tok2vec.Tok2Vec at 0x7f8bd00363a0>),\n",
       " ('morphologizer',\n",
       "  <spacy.pipeline.morphologizer.Morphologizer at 0x7f8bd0036700>),\n",
       " ('parser', <spacy.pipeline.dep_parser.DependencyParser at 0x7f8bd1297cf0>),\n",
       " ('attribute_ruler',\n",
       "  <spacy.pipeline.attributeruler.AttributeRuler at 0x7f8bcffc4580>),\n",
       " ('lemmatizer',\n",
       "  <spacy.lang.es.lemmatizer.SpanishLemmatizer at 0x7f8bcffc9e40>),\n",
       " ('ner', <spacy.pipeline.ner.EntityRecognizer at 0x7f8bd23aaa50>)]"
      ]
     },
     "execution_count": 46,
     "metadata": {},
     "output_type": "execute_result"
    }
   ],
   "source": [
    "nlp.pipeline"
   ]
  },
  {
   "cell_type": "code",
   "execution_count": 47,
   "id": "af7c63e2",
   "metadata": {},
   "outputs": [],
   "source": [
    "doc2 = nlp(text2)"
   ]
  },
  {
   "cell_type": "code",
   "execution_count": 48,
   "id": "72cfc657",
   "metadata": {},
   "outputs": [
    {
     "data": {
      "text/html": [
       "<span class=\"tex2jax_ignore\"><div class=\"entities\" style=\"line-height: 2.5; direction: ltr\">Los abajo firmantes, miembros del \n",
       "<mark class=\"entity\" style=\"background: #ddd; padding: 0.45em 0.6em; margin: 0 0.25em; line-height: 1; border-radius: 0.35em;\">\n",
       "    Jurado\n",
       "    <span style=\"font-size: 0.8em; font-weight: bold; line-height: 1; border-radius: 0.35em; vertical-align: middle; margin-left: 0.5rem\">MISC</span>\n",
       "</mark>\n",
       " designado por el \n",
       "<mark class=\"entity\" style=\"background: #ddd; padding: 0.45em 0.6em; margin: 0 0.25em; line-height: 1; border-radius: 0.35em;\">\n",
       "    Consejo\n",
       "    <span style=\"font-size: 0.8em; font-weight: bold; line-height: 1; border-radius: 0.35em; vertical-align: middle; margin-left: 0.5rem\">MISC</span>\n",
       "</mark>\n",
       " de</br>escuela de geología, minas y geofísica, para evaluar el \n",
       "<mark class=\"entity\" style=\"background: #ddd; padding: 0.45em 0.6em; margin: 0 0.25em; line-height: 1; border-radius: 0.35em;\">\n",
       "    Trabajo Especial de\n",
       "Grado\n",
       "    <span style=\"font-size: 0.8em; font-weight: bold; line-height: 1; border-radius: 0.35em; vertical-align: middle; margin-left: 0.5rem\">MISC</span>\n",
       "</mark>\n",
       " presentado por la \n",
       "<mark class=\"entity\" style=\"background: #7aecec; padding: 0.45em 0.6em; margin: 0 0.25em; line-height: 1; border-radius: 0.35em;\">\n",
       "    Bachiller\n",
       "    <span style=\"font-size: 0.8em; font-weight: bold; line-height: 1; border-radius: 0.35em; vertical-align: middle; margin-left: 0.5rem\">ORG</span>\n",
       "</mark>\n",
       " \n",
       "<mark class=\"entity\" style=\"background: #ddd; padding: 0.45em 0.6em; margin: 0 0.25em; line-height: 1; border-radius: 0.35em;\">\n",
       "    Ana L. Paredes M.\n",
       "    <span style=\"font-size: 0.8em; font-weight: bold; line-height: 1; border-radius: 0.35em; vertical-align: middle; margin-left: 0.5rem\">PER</span>\n",
       "</mark>\n",
       ", titulado:</br>escuela de geología, minas y geofísica</br>escuela de geología, minas y geofísica</br></div></span>"
      ],
      "text/plain": [
       "<IPython.core.display.HTML object>"
      ]
     },
     "metadata": {},
     "output_type": "display_data"
    }
   ],
   "source": [
    "displacy.render(doc2, style=\"ent\")"
   ]
  },
  {
   "cell_type": "code",
   "execution_count": 49,
   "id": "3553bc97",
   "metadata": {},
   "outputs": [],
   "source": [
    "text2 = \"\"\"Los abajo firmantes, miembros del Jurado designado por el Consejo de\n",
    "escuela de geología, minas y geofísica, para evaluar el Trabajo Especial de\n",
    "Grado presentado por la Bachiller Ana L. Paredes M., titulado:\n",
    "\"\"\""
   ]
  },
  {
   "cell_type": "code",
   "execution_count": 50,
   "id": "35ed27b9",
   "metadata": {},
   "outputs": [],
   "source": [
    "doc3 = nlp(text2)"
   ]
  },
  {
   "cell_type": "code",
   "execution_count": 51,
   "id": "0dd04b43",
   "metadata": {},
   "outputs": [
    {
     "data": {
      "text/plain": [
       "(Jurado,\n",
       " Consejo,\n",
       " Trabajo Especial de\n",
       " Grado,\n",
       " Bachiller,\n",
       " Ana L. Paredes M.)"
      ]
     },
     "execution_count": 51,
     "metadata": {},
     "output_type": "execute_result"
    }
   ],
   "source": [
    "doc3.ents"
   ]
  },
  {
   "cell_type": "code",
   "execution_count": 52,
   "id": "1a6b6998",
   "metadata": {},
   "outputs": [],
   "source": [
    "patterns2 = [{\"label\": \"ESC\", \"pattern\":[{\"ORTH\": \"escuela de geología, minas y geofísica\"}]}]"
   ]
  },
  {
   "cell_type": "code",
   "execution_count": 53,
   "id": "2588ea61",
   "metadata": {},
   "outputs": [],
   "source": [
    "nlp2 = spacy.load('es_core_news_sm')"
   ]
  },
  {
   "cell_type": "code",
   "execution_count": 54,
   "id": "e6166e84",
   "metadata": {},
   "outputs": [
    {
     "data": {
      "text/plain": [
       "('ner', <spacy.pipeline.ner.EntityRecognizer at 0x7f8bd1297f90>)"
      ]
     },
     "execution_count": 54,
     "metadata": {},
     "output_type": "execute_result"
    }
   ],
   "source": [
    "nlp2.remove_pipe('ner')"
   ]
  },
  {
   "cell_type": "code",
   "execution_count": 55,
   "id": "91b1b8be",
   "metadata": {},
   "outputs": [],
   "source": [
    "ruler = nlp2.add_pipe(\"entity_ruler\")"
   ]
  },
  {
   "cell_type": "code",
   "execution_count": 56,
   "id": "2f9a96e6",
   "metadata": {},
   "outputs": [],
   "source": [
    "ruler.add_patterns(patterns2)"
   ]
  },
  {
   "cell_type": "code",
   "execution_count": 57,
   "id": "c29253fc",
   "metadata": {},
   "outputs": [],
   "source": [
    "doc3 = nlp2(text2)"
   ]
  },
  {
   "cell_type": "code",
   "execution_count": 58,
   "id": "fd2121f0",
   "metadata": {},
   "outputs": [
    {
     "data": {
      "text/plain": [
       "()"
      ]
     },
     "execution_count": 58,
     "metadata": {},
     "output_type": "execute_result"
    }
   ],
   "source": [
    "doc3.ents"
   ]
  },
  {
   "cell_type": "code",
   "execution_count": 59,
   "id": "85b7cab7",
   "metadata": {},
   "outputs": [
    {
     "name": "stdout",
     "output_type": "stream",
     "text": [
      "['Los', 'abajo', 'firmantes', ',', 'miembros', 'del', 'Jurado', 'designado', 'por', 'el', 'Consejo', 'de', '\\n', 'escuela', 'de', 'geología', ',', 'minas', 'y', 'geofísica', ',', 'para', 'evaluar', 'el', 'Trabajo', 'Especial', 'de', '\\n', 'Grado', 'presentado', 'por', 'la', 'Bachiller', 'Ana', 'L.', 'Paredes', 'M.', ',', 'titulado', ':', '\\n']\n"
     ]
    }
   ],
   "source": [
    "print([token.text for token in doc3])"
   ]
  },
  {
   "cell_type": "code",
   "execution_count": 60,
   "id": "1e7ee8a1",
   "metadata": {},
   "outputs": [],
   "source": [
    "import json"
   ]
  },
  {
   "cell_type": "code",
   "execution_count": 61,
   "id": "ac931f64",
   "metadata": {},
   "outputs": [
    {
     "name": "stdout",
     "output_type": "stream",
     "text": [
      "[['Escuela de Ingeniería Civil', 'Escuela de Ingeniería Eléctrica', 'Escuela de Geología, Minas y Geofísica', 'Escuela de Ingeniería Química', 'Escuela de Ingeniería de Petroleo', 'Escuela de Ingeniería Mecanica', 'Escuela de Ingeniería Metalúrgica y Ciencias de los Materiales'], ['Escuela de Agronomía'], ['Escuela de Arquitectura'], ['Escuela de Biología', 'Escuela de Computación', 'Escuela de Física', 'Escuela de Geoquímica', 'Escuela de Matemática', 'Escuela de Química'], ['Escuela de Administración y Contaduría', 'Escuela de Antropología', 'Escuela de Estadística y Ciencias Actuariales', 'Escuela de Economía', 'Escuela de Estudios Internacionales', 'Escuela de Sociología', 'Escuela de Trabajo Social'], ['Escuela de Derecho', 'Escuela de Estudios Políticos y Administrativo'], ['Escuela de Ciencias Veterinarias'], ['Escuela de Farmacia'], ['Escuela de Artes', 'Escuela de Bibliotecología y Archivología', 'Escuela de Comunicación Social', 'Escuela de Educación', 'Escuela de Filosofía', 'Escuela de Geografía', 'Escuela de Historia', 'Escuela de Idiomas Modernos', 'Escuela de Letras', 'Escuela de Psicología'], ['Escuela de Bioanálisis', 'Escuela de Enfermería', 'Escuela José M. Vargas', 'Escuela Luis Razetti', 'Escuela de Nutrición y Dietética', 'Escuela de Salud Pública'], ['Escuela de Odontología']]\n"
     ]
    }
   ],
   "source": [
    "file = open(\"data/escuelas.json\", \"r\")\n",
    "file = json.load(file)\n",
    "\n",
    "a = []\n",
    "for facultad in file:\n",
    "    a.append(facultad['escuela'])\n",
    "    #print(facultad['escuela'])\n",
    "print(a)\n"
   ]
  },
  {
   "cell_type": "code",
   "execution_count": 62,
   "id": "8bf59121",
   "metadata": {},
   "outputs": [
    {
     "data": {
      "text/plain": [
       "['Escuela de Ingeniería Civil',\n",
       " 'Escuela de Ingeniería Eléctrica',\n",
       " 'Escuela de Geología, Minas y Geofísica',\n",
       " 'Escuela de Ingeniería Química',\n",
       " 'Escuela de Ingeniería de Petroleo',\n",
       " 'Escuela de Ingeniería Mecanica',\n",
       " 'Escuela de Ingeniería Metalúrgica y Ciencias de los Materiales',\n",
       " 'Escuela de Agronomía',\n",
       " 'Escuela de Arquitectura',\n",
       " 'Escuela de Biología',\n",
       " 'Escuela de Computación',\n",
       " 'Escuela de Física',\n",
       " 'Escuela de Geoquímica',\n",
       " 'Escuela de Matemática',\n",
       " 'Escuela de Química',\n",
       " 'Escuela de Administración y Contaduría',\n",
       " 'Escuela de Antropología',\n",
       " 'Escuela de Estadística y Ciencias Actuariales',\n",
       " 'Escuela de Economía',\n",
       " 'Escuela de Estudios Internacionales',\n",
       " 'Escuela de Sociología',\n",
       " 'Escuela de Trabajo Social',\n",
       " 'Escuela de Derecho',\n",
       " 'Escuela de Estudios Políticos y Administrativo',\n",
       " 'Escuela de Ciencias Veterinarias',\n",
       " 'Escuela de Farmacia',\n",
       " 'Escuela de Artes',\n",
       " 'Escuela de Bibliotecología y Archivología',\n",
       " 'Escuela de Comunicación Social',\n",
       " 'Escuela de Educación',\n",
       " 'Escuela de Filosofía',\n",
       " 'Escuela de Geografía',\n",
       " 'Escuela de Historia',\n",
       " 'Escuela de Idiomas Modernos',\n",
       " 'Escuela de Letras',\n",
       " 'Escuela de Psicología',\n",
       " 'Escuela de Bioanálisis',\n",
       " 'Escuela de Enfermería',\n",
       " 'Escuela José M. Vargas',\n",
       " 'Escuela Luis Razetti',\n",
       " 'Escuela de Nutrición y Dietética',\n",
       " 'Escuela de Salud Pública',\n",
       " 'Escuela de Odontología']"
      ]
     },
     "execution_count": 62,
     "metadata": {},
     "output_type": "execute_result"
    }
   ],
   "source": [
    "escuelas = [item for sublist in a for item in sublist]\n",
    "escuelas"
   ]
  },
  {
   "cell_type": "code",
   "execution_count": 63,
   "id": "888415db",
   "metadata": {},
   "outputs": [],
   "source": [
    "def create_pattern(word, label):\n",
    "    return({\"label\": label, \"pattern\": word})"
   ]
  },
  {
   "cell_type": "code",
   "execution_count": 64,
   "id": "eda4f635",
   "metadata": {},
   "outputs": [],
   "source": [
    "def create_patterns(list_words, label):\n",
    "    patterns = []\n",
    "    for i in list_words:\n",
    "        patterns.append(create_pattern(i, label))\n",
    "    return patterns\n",
    "        "
   ]
  },
  {
   "cell_type": "code",
   "execution_count": 65,
   "id": "982a3fac",
   "metadata": {},
   "outputs": [],
   "source": [
    "nlp = spacy.load('es_core_news_sm')"
   ]
  },
  {
   "cell_type": "code",
   "execution_count": 66,
   "id": "726cf4b1",
   "metadata": {},
   "outputs": [],
   "source": [
    "matcher = PhraseMatcher(nlp.vocab, attr=\"LOWER\")\n",
    "patterns = [nlp(name) for name in escuelas]\n",
    "matcher.add(\"ESC\", patterns)"
   ]
  },
  {
   "cell_type": "code",
   "execution_count": 72,
   "id": "75f9a8ff",
   "metadata": {},
   "outputs": [
    {
     "name": "stdout",
     "output_type": "stream",
     "text": [
      "Matched based on lowercase token text: Escuela de Ingeniería Química\n"
     ]
    }
   ],
   "source": [
    "text2 = \"\"\"Los abajo firmantes, miembros del jurado designado por el consejo de Escuela de Ingeniería Química, para evaluar el Trabajo Especial de grado presentado por el\n",
    "Bachiller Fernando J. Fernández M., titulado:\"\"\"\n",
    "\n",
    "\n",
    "doc = nlp(text2)\n",
    "\n",
    "for match_id, start, end in matcher(doc):\n",
    "    print(\"Matched based on lowercase token text:\", doc[start:end])"
   ]
  },
  {
   "cell_type": "code",
   "execution_count": 73,
   "id": "1f305b91",
   "metadata": {},
   "outputs": [
    {
     "data": {
      "text/plain": [
       "1"
      ]
     },
     "execution_count": 73,
     "metadata": {},
     "output_type": "execute_result"
    }
   ],
   "source": [
    "len(matcher(doc))"
   ]
  },
  {
   "cell_type": "code",
   "execution_count": 69,
   "id": "c69d1158",
   "metadata": {},
   "outputs": [
    {
     "data": {
      "text/html": [
       "<span class=\"tex2jax_ignore\"><div class=\"entities\" style=\"line-height: 2.5; direction: ltr\">Los abajo firmantes, miembros del jurado designado por el consejo de \n",
       "<mark class=\"entity\" style=\"background: #7aecec; padding: 0.45em 0.6em; margin: 0 0.25em; line-height: 1; border-radius: 0.35em;\">\n",
       "    Escuela de\n",
       "    <span style=\"font-size: 0.8em; font-weight: bold; line-height: 1; border-radius: 0.35em; vertical-align: middle; margin-left: 0.5rem\">ORG</span>\n",
       "</mark>\n",
       " \n",
       "<mark class=\"entity\" style=\"background: #ddd; padding: 0.45em 0.6em; margin: 0 0.25em; line-height: 1; border-radius: 0.35em;\">\n",
       "    Ingeniería Química\n",
       "    <span style=\"font-size: 0.8em; font-weight: bold; line-height: 1; border-radius: 0.35em; vertical-align: middle; margin-left: 0.5rem\">PER</span>\n",
       "</mark>\n",
       ", para evaluar el \n",
       "<mark class=\"entity\" style=\"background: #ddd; padding: 0.45em 0.6em; margin: 0 0.25em; line-height: 1; border-radius: 0.35em;\">\n",
       "    Trabajo Especial\n",
       "    <span style=\"font-size: 0.8em; font-weight: bold; line-height: 1; border-radius: 0.35em; vertical-align: middle; margin-left: 0.5rem\">MISC</span>\n",
       "</mark>\n",
       " de grado presentado por el</br>\n",
       "<mark class=\"entity\" style=\"background: #ddd; padding: 0.45em 0.6em; margin: 0 0.25em; line-height: 1; border-radius: 0.35em;\">\n",
       "    Bachiller Fernando J. Fernández M.\n",
       "    <span style=\"font-size: 0.8em; font-weight: bold; line-height: 1; border-radius: 0.35em; vertical-align: middle; margin-left: 0.5rem\">PER</span>\n",
       "</mark>\n",
       ", titulado:</div></span>"
      ],
      "text/plain": [
       "<IPython.core.display.HTML object>"
      ]
     },
     "metadata": {},
     "output_type": "display_data"
    }
   ],
   "source": [
    "displacy.render(doc, style=\"ent\")"
   ]
  },
  {
   "cell_type": "code",
   "execution_count": 145,
   "id": "5596b981",
   "metadata": {},
   "outputs": [
    {
     "name": "stdout",
     "output_type": "stream",
     "text": [
      "[{'label': 'ESC', 'pattern': 'Escuela de Ingeniería Civil'}, {'label': 'ESC', 'pattern': 'Escuela de Ingeniería Electrica'}, {'label': 'ESC', 'pattern': 'Escuela de Geología, Minas y Geofísica'}, {'label': 'ESC', 'pattern': 'Escuela de Química'}, {'label': 'ESC', 'pattern': 'Escuela de Petroleo'}, {'label': 'ESC', 'pattern': 'Escuela de Mecanica'}, {'label': 'ESC', 'pattern': 'Escuela de Ingeniería Metalúrgica y Ciencias de los Materiales'}]\n"
     ]
    }
   ],
   "source": [
    "print(create_patterns(['Escuela de Ingeniería Civil', 'Escuela de Ingeniería Electrica', 'Escuela de Geología, Minas y Geofísica', 'Escuela de Química', 'Escuela de Petroleo', 'Escuela de Mecanica', 'Escuela de Ingeniería Metalúrgica y Ciencias de los Materiales'], \"ESC\"))"
   ]
  },
  {
   "cell_type": "code",
   "execution_count": 143,
   "id": "6c3b844d",
   "metadata": {},
   "outputs": [
    {
     "data": {
      "text/html": [
       "<div>\n",
       "<style scoped>\n",
       "    .dataframe tbody tr th:only-of-type {\n",
       "        vertical-align: middle;\n",
       "    }\n",
       "\n",
       "    .dataframe tbody tr th {\n",
       "        vertical-align: top;\n",
       "    }\n",
       "\n",
       "    .dataframe thead th {\n",
       "        text-align: right;\n",
       "    }\n",
       "</style>\n",
       "<table border=\"1\" class=\"dataframe\">\n",
       "  <thead>\n",
       "    <tr style=\"text-align: right;\">\n",
       "      <th></th>\n",
       "      <th>index</th>\n",
       "      <th>thesis_year</th>\n",
       "      <th>thesis_title</th>\n",
       "      <th>thesis_author</th>\n",
       "      <th>size</th>\n",
       "      <th>thesis_link</th>\n",
       "      <th>pdf_link</th>\n",
       "      <th>path</th>\n",
       "      <th>isScan</th>\n",
       "    </tr>\n",
       "  </thead>\n",
       "  <tbody>\n",
       "    <tr>\n",
       "      <th>0</th>\n",
       "      <td>167</td>\n",
       "      <td>30-Sep-2011</td>\n",
       "      <td>Creación de grupos de apoyo para promover educ...</td>\n",
       "      <td>Centeno, Miriam; Hurtado, Nancy; Padrón, Dilcia</td>\n",
       "      <td>1.03 MB</td>\n",
       "      <td>http://saber.ucv.ve/handle/10872/361</td>\n",
       "      <td>http://saber.ucv.ve/bitstream/10872/361/1/Tesi...</td>\n",
       "      <td>thesis_pdf/167.pdf</td>\n",
       "      <td>False</td>\n",
       "    </tr>\n",
       "    <tr>\n",
       "      <th>1</th>\n",
       "      <td>171</td>\n",
       "      <td>30-Sep-2011</td>\n",
       "      <td>Propuesta de un modelo de participación de enf...</td>\n",
       "      <td>Evans, Margarita; Mejías, Liliana; Ruíz, Inora</td>\n",
       "      <td>1.05 MB</td>\n",
       "      <td>http://saber.ucv.ve/handle/10872/332</td>\n",
       "      <td>http://saber.ucv.ve/bitstream/10872/332/1/PROP...</td>\n",
       "      <td>thesis_pdf/171.pdf</td>\n",
       "      <td>False</td>\n",
       "    </tr>\n",
       "    <tr>\n",
       "      <th>2</th>\n",
       "      <td>76</td>\n",
       "      <td>13-Jun-2011</td>\n",
       "      <td>Estudio y evaluación del proceso de alquilació...</td>\n",
       "      <td>Espinoza N., Ruth; Ricci Z., Rita</td>\n",
       "      <td>1.06 MB</td>\n",
       "      <td>http://saber.ucv.ve/handle/10872/125</td>\n",
       "      <td>http://saber.ucv.ve/bitstream/10872/125/1/tesi...</td>\n",
       "      <td>thesis_pdf/76.pdf</td>\n",
       "      <td>False</td>\n",
       "    </tr>\n",
       "    <tr>\n",
       "      <th>3</th>\n",
       "      <td>189</td>\n",
       "      <td>30-Sep-2011</td>\n",
       "      <td>Liderazgo de la enfermera supervisora y la mot...</td>\n",
       "      <td>Alcalá, Miraldy; López, Nelly</td>\n",
       "      <td>1.07 MB</td>\n",
       "      <td>http://saber.ucv.ve/handle/10872/321</td>\n",
       "      <td>http://saber.ucv.ve/bitstream/10872/321/1/Tesi...</td>\n",
       "      <td>thesis_pdf/189.pdf</td>\n",
       "      <td>False</td>\n",
       "    </tr>\n",
       "    <tr>\n",
       "      <th>4</th>\n",
       "      <td>110</td>\n",
       "      <td>22-Jun-2011</td>\n",
       "      <td>Evaluación de las propiedades mecánicas de sis...</td>\n",
       "      <td>Martín C., José J.</td>\n",
       "      <td>1.09 MB</td>\n",
       "      <td>http://saber.ucv.ve/handle/10872/192</td>\n",
       "      <td>http://saber.ucv.ve/bitstream/10872/192/1/EVAL...</td>\n",
       "      <td>thesis_pdf/110.pdf</td>\n",
       "      <td>False</td>\n",
       "    </tr>\n",
       "    <tr>\n",
       "      <th>...</th>\n",
       "      <td>...</td>\n",
       "      <td>...</td>\n",
       "      <td>...</td>\n",
       "      <td>...</td>\n",
       "      <td>...</td>\n",
       "      <td>...</td>\n",
       "      <td>...</td>\n",
       "      <td>...</td>\n",
       "      <td>...</td>\n",
       "    </tr>\n",
       "    <tr>\n",
       "      <th>195</th>\n",
       "      <td>149</td>\n",
       "      <td>28-Jun-2011</td>\n",
       "      <td>Simulación de reactores de producción de polie...</td>\n",
       "      <td>Fusco G., Giovanna M.</td>\n",
       "      <td>973.61 kB</td>\n",
       "      <td>http://saber.ucv.ve/handle/10872/309</td>\n",
       "      <td>http://saber.ucv.ve/bitstream/10872/309/1/T.E....</td>\n",
       "      <td>thesis_pdf/149.pdf</td>\n",
       "      <td>False</td>\n",
       "    </tr>\n",
       "    <tr>\n",
       "      <th>196</th>\n",
       "      <td>80</td>\n",
       "      <td>15-Jun-2011</td>\n",
       "      <td>Modificación de la sección de despojamiento de...</td>\n",
       "      <td>Guevara U., Gabriela</td>\n",
       "      <td>980.79 kB</td>\n",
       "      <td>http://saber.ucv.ve/handle/10872/139</td>\n",
       "      <td>http://saber.ucv.ve/bitstream/10872/139/1/Tesi...</td>\n",
       "      <td>thesis_pdf/80.pdf</td>\n",
       "      <td>False</td>\n",
       "    </tr>\n",
       "    <tr>\n",
       "      <th>197</th>\n",
       "      <td>105</td>\n",
       "      <td>22-Jun-2011</td>\n",
       "      <td>Determinación del perfil de carga óptimo para ...</td>\n",
       "      <td>Niño S., Denis B.</td>\n",
       "      <td>982.67 kB</td>\n",
       "      <td>http://saber.ucv.ve/handle/10872/198</td>\n",
       "      <td>http://saber.ucv.ve/bitstream/10872/198/1/TEG.pdf</td>\n",
       "      <td>thesis_pdf/105.pdf</td>\n",
       "      <td>False</td>\n",
       "    </tr>\n",
       "    <tr>\n",
       "      <th>198</th>\n",
       "      <td>143</td>\n",
       "      <td>23-Jun-2011</td>\n",
       "      <td>Influencia de la relación de fases en el desem...</td>\n",
       "      <td>Riccelli De P., Roberto D.; Zghun T., Angela M.</td>\n",
       "      <td>989.02 kB</td>\n",
       "      <td>http://saber.ucv.ve/handle/10872/220</td>\n",
       "      <td>http://saber.ucv.ve/bitstream/10872/220/1/Extr...</td>\n",
       "      <td>thesis_pdf/143.pdf</td>\n",
       "      <td>False</td>\n",
       "    </tr>\n",
       "    <tr>\n",
       "      <th>199</th>\n",
       "      <td>7</td>\n",
       "      <td>27-May-2011</td>\n",
       "      <td>La producción de conocimiento : un análisis mé...</td>\n",
       "      <td>Adrian Mogollón, Julia; Echezuria Perozo, Jorg...</td>\n",
       "      <td>995.92 kB</td>\n",
       "      <td>http://saber.ucv.ve/handle/10872/29</td>\n",
       "      <td>http://saber.ucv.ve/bitstream/10872/29/1/TL-EB...</td>\n",
       "      <td>thesis_pdf/7.pdf</td>\n",
       "      <td>False</td>\n",
       "    </tr>\n",
       "  </tbody>\n",
       "</table>\n",
       "<p>200 rows × 9 columns</p>\n",
       "</div>"
      ],
      "text/plain": [
       "     index  thesis_year                                       thesis_title  \\\n",
       "0      167  30-Sep-2011  Creación de grupos de apoyo para promover educ...   \n",
       "1      171  30-Sep-2011  Propuesta de un modelo de participación de enf...   \n",
       "2       76  13-Jun-2011  Estudio y evaluación del proceso de alquilació...   \n",
       "3      189  30-Sep-2011  Liderazgo de la enfermera supervisora y la mot...   \n",
       "4      110  22-Jun-2011  Evaluación de las propiedades mecánicas de sis...   \n",
       "..     ...          ...                                                ...   \n",
       "195    149  28-Jun-2011  Simulación de reactores de producción de polie...   \n",
       "196     80  15-Jun-2011  Modificación de la sección de despojamiento de...   \n",
       "197    105  22-Jun-2011  Determinación del perfil de carga óptimo para ...   \n",
       "198    143  23-Jun-2011  Influencia de la relación de fases en el desem...   \n",
       "199      7  27-May-2011  La producción de conocimiento : un análisis mé...   \n",
       "\n",
       "                                         thesis_author       size  \\\n",
       "0      Centeno, Miriam; Hurtado, Nancy; Padrón, Dilcia    1.03 MB   \n",
       "1       Evans, Margarita; Mejías, Liliana; Ruíz, Inora    1.05 MB   \n",
       "2                    Espinoza N., Ruth; Ricci Z., Rita    1.06 MB   \n",
       "3                        Alcalá, Miraldy; López, Nelly    1.07 MB   \n",
       "4                                   Martín C., José J.    1.09 MB   \n",
       "..                                                 ...        ...   \n",
       "195                              Fusco G., Giovanna M.  973.61 kB   \n",
       "196                               Guevara U., Gabriela  980.79 kB   \n",
       "197                                  Niño S., Denis B.  982.67 kB   \n",
       "198    Riccelli De P., Roberto D.; Zghun T., Angela M.  989.02 kB   \n",
       "199  Adrian Mogollón, Julia; Echezuria Perozo, Jorg...  995.92 kB   \n",
       "\n",
       "                              thesis_link  \\\n",
       "0    http://saber.ucv.ve/handle/10872/361   \n",
       "1    http://saber.ucv.ve/handle/10872/332   \n",
       "2    http://saber.ucv.ve/handle/10872/125   \n",
       "3    http://saber.ucv.ve/handle/10872/321   \n",
       "4    http://saber.ucv.ve/handle/10872/192   \n",
       "..                                    ...   \n",
       "195  http://saber.ucv.ve/handle/10872/309   \n",
       "196  http://saber.ucv.ve/handle/10872/139   \n",
       "197  http://saber.ucv.ve/handle/10872/198   \n",
       "198  http://saber.ucv.ve/handle/10872/220   \n",
       "199   http://saber.ucv.ve/handle/10872/29   \n",
       "\n",
       "                                              pdf_link                path  \\\n",
       "0    http://saber.ucv.ve/bitstream/10872/361/1/Tesi...  thesis_pdf/167.pdf   \n",
       "1    http://saber.ucv.ve/bitstream/10872/332/1/PROP...  thesis_pdf/171.pdf   \n",
       "2    http://saber.ucv.ve/bitstream/10872/125/1/tesi...   thesis_pdf/76.pdf   \n",
       "3    http://saber.ucv.ve/bitstream/10872/321/1/Tesi...  thesis_pdf/189.pdf   \n",
       "4    http://saber.ucv.ve/bitstream/10872/192/1/EVAL...  thesis_pdf/110.pdf   \n",
       "..                                                 ...                 ...   \n",
       "195  http://saber.ucv.ve/bitstream/10872/309/1/T.E....  thesis_pdf/149.pdf   \n",
       "196  http://saber.ucv.ve/bitstream/10872/139/1/Tesi...   thesis_pdf/80.pdf   \n",
       "197  http://saber.ucv.ve/bitstream/10872/198/1/TEG.pdf  thesis_pdf/105.pdf   \n",
       "198  http://saber.ucv.ve/bitstream/10872/220/1/Extr...  thesis_pdf/143.pdf   \n",
       "199  http://saber.ucv.ve/bitstream/10872/29/1/TL-EB...    thesis_pdf/7.pdf   \n",
       "\n",
       "     isScan  \n",
       "0     False  \n",
       "1     False  \n",
       "2     False  \n",
       "3     False  \n",
       "4     False  \n",
       "..      ...  \n",
       "195   False  \n",
       "196   False  \n",
       "197   False  \n",
       "198   False  \n",
       "199   False  \n",
       "\n",
       "[200 rows x 9 columns]"
      ]
     },
     "execution_count": 143,
     "metadata": {},
     "output_type": "execute_result"
    }
   ],
   "source": [
    "import pandas as pd\n",
    "import numpy as np\n",
    "import os\n",
    "\n",
    "csv_source = \"data/url_thesis_200_with_scan.csv\"\n",
    "df = pd.read_csv(csv_source)\n",
    "df"
   ]
  },
  {
   "cell_type": "code",
   "execution_count": 144,
   "id": "c9e9c9ae",
   "metadata": {},
   "outputs": [],
   "source": [
    "df = df[df['isScan']==False]"
   ]
  },
  {
   "cell_type": "code",
   "execution_count": 145,
   "id": "ce8078ec",
   "metadata": {},
   "outputs": [],
   "source": [
    "df = df.sort_values('isScan', ascending=False)"
   ]
  },
  {
   "cell_type": "code",
   "execution_count": 146,
   "id": "28ef40bf",
   "metadata": {},
   "outputs": [
    {
     "data": {
      "text/html": [
       "<div>\n",
       "<style scoped>\n",
       "    .dataframe tbody tr th:only-of-type {\n",
       "        vertical-align: middle;\n",
       "    }\n",
       "\n",
       "    .dataframe tbody tr th {\n",
       "        vertical-align: top;\n",
       "    }\n",
       "\n",
       "    .dataframe thead th {\n",
       "        text-align: right;\n",
       "    }\n",
       "</style>\n",
       "<table border=\"1\" class=\"dataframe\">\n",
       "  <thead>\n",
       "    <tr style=\"text-align: right;\">\n",
       "      <th></th>\n",
       "      <th>index</th>\n",
       "      <th>thesis_year</th>\n",
       "      <th>thesis_title</th>\n",
       "      <th>thesis_author</th>\n",
       "      <th>size</th>\n",
       "      <th>thesis_link</th>\n",
       "      <th>pdf_link</th>\n",
       "      <th>path</th>\n",
       "      <th>isScan</th>\n",
       "    </tr>\n",
       "  </thead>\n",
       "  <tbody>\n",
       "    <tr>\n",
       "      <th>0</th>\n",
       "      <td>167</td>\n",
       "      <td>30-Sep-2011</td>\n",
       "      <td>Creación de grupos de apoyo para promover educ...</td>\n",
       "      <td>Centeno, Miriam; Hurtado, Nancy; Padrón, Dilcia</td>\n",
       "      <td>1.03 MB</td>\n",
       "      <td>http://saber.ucv.ve/handle/10872/361</td>\n",
       "      <td>http://saber.ucv.ve/bitstream/10872/361/1/Tesi...</td>\n",
       "      <td>thesis_pdf/167.pdf</td>\n",
       "      <td>False</td>\n",
       "    </tr>\n",
       "    <tr>\n",
       "      <th>137</th>\n",
       "      <td>141</td>\n",
       "      <td>23-Jun-2011</td>\n",
       "      <td>Evaluación de una alternativa tecnológica para...</td>\n",
       "      <td>Quintero G., Jenny G.; Velasco C., Nazareth de J.</td>\n",
       "      <td>5.15 MB</td>\n",
       "      <td>http://saber.ucv.ve/handle/10872/214</td>\n",
       "      <td>http://saber.ucv.ve/bitstream/10872/214/1/TESI...</td>\n",
       "      <td>thesis_pdf/141.pdf</td>\n",
       "      <td>False</td>\n",
       "    </tr>\n",
       "    <tr>\n",
       "      <th>127</th>\n",
       "      <td>53</td>\n",
       "      <td>3-Jun-2011</td>\n",
       "      <td>Síntesis y caracterización de catalizadores me...</td>\n",
       "      <td>Cano C., Kallinka; Teixeira Mendonca, María L.</td>\n",
       "      <td>4.8 MB</td>\n",
       "      <td>http://saber.ucv.ve/handle/10872/100</td>\n",
       "      <td>http://saber.ucv.ve/bitstream/10872/100/1/Trab...</td>\n",
       "      <td>thesis_pdf/53.pdf</td>\n",
       "      <td>False</td>\n",
       "    </tr>\n",
       "    <tr>\n",
       "      <th>128</th>\n",
       "      <td>91</td>\n",
       "      <td>15-Jun-2011</td>\n",
       "      <td>Mejoramiento del proceso de construcción de po...</td>\n",
       "      <td>Expósito R., Juan L.; Novoa D., Joel A.</td>\n",
       "      <td>4.83 MB</td>\n",
       "      <td>http://saber.ucv.ve/handle/10872/127</td>\n",
       "      <td>http://saber.ucv.ve/bitstream/10872/127/1/TESI...</td>\n",
       "      <td>thesis_pdf/91.pdf</td>\n",
       "      <td>False</td>\n",
       "    </tr>\n",
       "    <tr>\n",
       "      <th>129</th>\n",
       "      <td>127</td>\n",
       "      <td>23-Jun-2011</td>\n",
       "      <td>Estudio del mantenimiento de los equipos críti...</td>\n",
       "      <td>Rodríguez L., Miguel A.</td>\n",
       "      <td>4.85 MB</td>\n",
       "      <td>http://saber.ucv.ve/handle/10872/224</td>\n",
       "      <td>http://saber.ucv.ve/bitstream/10872/224/1/Tesi...</td>\n",
       "      <td>thesis_pdf/127.pdf</td>\n",
       "      <td>False</td>\n",
       "    </tr>\n",
       "    <tr>\n",
       "      <th>130</th>\n",
       "      <td>108</td>\n",
       "      <td>22-Jun-2011</td>\n",
       "      <td>Estudio y diseño de esquemas de completación p...</td>\n",
       "      <td>Peñaranda C., Juan M.; Trejo I., Ely D.</td>\n",
       "      <td>4.87 MB</td>\n",
       "      <td>http://saber.ucv.ve/handle/10872/203</td>\n",
       "      <td>http://saber.ucv.ve/bitstream/10872/203/1/TESI...</td>\n",
       "      <td>thesis_pdf/108.pdf</td>\n",
       "      <td>False</td>\n",
       "    </tr>\n",
       "    <tr>\n",
       "      <th>132</th>\n",
       "      <td>181</td>\n",
       "      <td>30-Sep-2011</td>\n",
       "      <td>Propuesta  de un programa educativo para la pr...</td>\n",
       "      <td>Amanaú, Aura; Cabarca, Yomaira; Ramírez, Justina</td>\n",
       "      <td>421.94 kB</td>\n",
       "      <td>http://saber.ucv.ve/handle/10872/351</td>\n",
       "      <td>http://saber.ucv.ve/bitstream/10872/351/1/Prop...</td>\n",
       "      <td>thesis_pdf/181.pdf</td>\n",
       "      <td>False</td>\n",
       "    </tr>\n",
       "    <tr>\n",
       "      <th>133</th>\n",
       "      <td>184</td>\n",
       "      <td>30-Sep-2011</td>\n",
       "      <td>Intervención de la enfermera(o) en la prevenci...</td>\n",
       "      <td>GRANADOS, Trinidad; GARCÍA, Irilis; PACHECO, A...</td>\n",
       "      <td>434.68 kB</td>\n",
       "      <td>http://saber.ucv.ve/handle/10872/342</td>\n",
       "      <td>http://saber.ucv.ve/bitstream/10872/342/1/PACH...</td>\n",
       "      <td>thesis_pdf/184.pdf</td>\n",
       "      <td>False</td>\n",
       "    </tr>\n",
       "    <tr>\n",
       "      <th>134</th>\n",
       "      <td>193</td>\n",
       "      <td>30-Sep-2011</td>\n",
       "      <td>Valoración de enfermería en los factores predi...</td>\n",
       "      <td>Tovar, Ana T.; Martínez, Mila; Ríos, Nancy</td>\n",
       "      <td>454.61 kB</td>\n",
       "      <td>http://saber.ucv.ve/handle/10872/347</td>\n",
       "      <td>http://saber.ucv.ve/bitstream/10872/347/1/Micr...</td>\n",
       "      <td>thesis_pdf/193.pdf</td>\n",
       "      <td>False</td>\n",
       "    </tr>\n",
       "    <tr>\n",
       "      <th>135</th>\n",
       "      <td>178</td>\n",
       "      <td>30-Sep-2011</td>\n",
       "      <td>Propuesta de un sistema algorítmico en la prev...</td>\n",
       "      <td>Muñoz, Isbelia</td>\n",
       "      <td>460.22 kB</td>\n",
       "      <td>http://saber.ucv.ve/handle/10872/345</td>\n",
       "      <td>http://saber.ucv.ve/bitstream/10872/345/1/TESI...</td>\n",
       "      <td>thesis_pdf/178.pdf</td>\n",
       "      <td>False</td>\n",
       "    </tr>\n",
       "    <tr>\n",
       "      <th>136</th>\n",
       "      <td>198</td>\n",
       "      <td>30-Sep-2011</td>\n",
       "      <td>Calidad del cuidado brindado por el profesiona...</td>\n",
       "      <td>Casaña, Yurima; Florido, Lisbeth; Nieves, Rosa</td>\n",
       "      <td>481.18 kB</td>\n",
       "      <td>http://saber.ucv.ve/handle/10872/326</td>\n",
       "      <td>http://saber.ucv.ve/bitstream/10872/326/1/tesi...</td>\n",
       "      <td>thesis_pdf/198.pdf</td>\n",
       "      <td>False</td>\n",
       "    </tr>\n",
       "    <tr>\n",
       "      <th>138</th>\n",
       "      <td>115</td>\n",
       "      <td>22-Jun-2011</td>\n",
       "      <td>Estudio para el mejoramiento de productividad ...</td>\n",
       "      <td>Marques S., David A.; Rondón A., María A.</td>\n",
       "      <td>5.25 MB</td>\n",
       "      <td>http://saber.ucv.ve/handle/10872/190</td>\n",
       "      <td>http://saber.ucv.ve/bitstream/10872/190/1/Text...</td>\n",
       "      <td>thesis_pdf/115.pdf</td>\n",
       "      <td>False</td>\n",
       "    </tr>\n",
       "    <tr>\n",
       "      <th>125</th>\n",
       "      <td>122</td>\n",
       "      <td>23-Jun-2011</td>\n",
       "      <td>Modelaje geofísico integrado de la región cent...</td>\n",
       "      <td>Reyes, Janckarlos</td>\n",
       "      <td>4.6 MB</td>\n",
       "      <td>http://saber.ucv.ve/handle/10872/219</td>\n",
       "      <td>http://saber.ucv.ve/bitstream/10872/219/1/TEG_...</td>\n",
       "      <td>thesis_pdf/122.pdf</td>\n",
       "      <td>False</td>\n",
       "    </tr>\n",
       "    <tr>\n",
       "      <th>139</th>\n",
       "      <td>41</td>\n",
       "      <td>3-Jun-2011</td>\n",
       "      <td>Análisis y evaluación técnica de la implantaci...</td>\n",
       "      <td>Castillo S., Bladimir J.</td>\n",
       "      <td>5.83 MB</td>\n",
       "      <td>http://saber.ucv.ve/handle/10872/107</td>\n",
       "      <td>http://saber.ucv.ve/bitstream/10872/107/1/Trab...</td>\n",
       "      <td>thesis_pdf/41.pdf</td>\n",
       "      <td>False</td>\n",
       "    </tr>\n",
       "    <tr>\n",
       "      <th>140</th>\n",
       "      <td>5</td>\n",
       "      <td>27-May-2011</td>\n",
       "      <td>Desarrollo de un algoritmo computacional para ...</td>\n",
       "      <td>D'Amico, Walter F.</td>\n",
       "      <td>506.32 kB</td>\n",
       "      <td>http://saber.ucv.ve/handle/10872/32</td>\n",
       "      <td>http://saber.ucv.ve/bitstream/10872/32/1/Tesis...</td>\n",
       "      <td>thesis_pdf/5.pdf</td>\n",
       "      <td>False</td>\n",
       "    </tr>\n",
       "    <tr>\n",
       "      <th>142</th>\n",
       "      <td>194</td>\n",
       "      <td>30-Sep-2011</td>\n",
       "      <td>Programa de autocuidado dirigido a los pacient...</td>\n",
       "      <td>Chacón, Celia; Granado, María; Marcano, Yusnelys</td>\n",
       "      <td>539.76 kB</td>\n",
       "      <td>http://saber.ucv.ve/handle/10872/362</td>\n",
       "      <td>http://saber.ucv.ve/bitstream/10872/362/1/CAP%...</td>\n",
       "      <td>thesis_pdf/194.pdf</td>\n",
       "      <td>False</td>\n",
       "    </tr>\n",
       "    <tr>\n",
       "      <th>143</th>\n",
       "      <td>21</td>\n",
       "      <td>31-May-2011</td>\n",
       "      <td>Aplicabilidad de áridos reciclados para fabric...</td>\n",
       "      <td>Abreu L., René J.</td>\n",
       "      <td>552.32 kB</td>\n",
       "      <td>http://saber.ucv.ve/handle/10872/56</td>\n",
       "      <td>http://saber.ucv.ve/bitstream/10872/56/1/Traba...</td>\n",
       "      <td>thesis_pdf/21.pdf</td>\n",
       "      <td>False</td>\n",
       "    </tr>\n",
       "    <tr>\n",
       "      <th>144</th>\n",
       "      <td>172</td>\n",
       "      <td>30-Sep-2011</td>\n",
       "      <td>Alteraciones músculo-esqueléticas en la enferm...</td>\n",
       "      <td>BRICEÑO, GRETHY; FAGUNDEZ, ERIKA; QUINTERO, DEICY</td>\n",
       "      <td>553.69 kB</td>\n",
       "      <td>http://saber.ucv.ve/handle/10872/357</td>\n",
       "      <td>http://saber.ucv.ve/bitstream/10872/357/1/TEG_...</td>\n",
       "      <td>thesis_pdf/172.pdf</td>\n",
       "      <td>False</td>\n",
       "    </tr>\n",
       "    <tr>\n",
       "      <th>145</th>\n",
       "      <td>13</td>\n",
       "      <td>31-May-2011</td>\n",
       "      <td>Propuesta de un sistema de administración de i...</td>\n",
       "      <td>Sánchez M., José R.</td>\n",
       "      <td>562.96 kB</td>\n",
       "      <td>http://saber.ucv.ve/handle/10872/45</td>\n",
       "      <td>http://saber.ucv.ve/bitstream/10872/45/1/TRABA...</td>\n",
       "      <td>thesis_pdf/13.pdf</td>\n",
       "      <td>False</td>\n",
       "    </tr>\n",
       "    <tr>\n",
       "      <th>146</th>\n",
       "      <td>160</td>\n",
       "      <td>30-Sep-2011</td>\n",
       "      <td>Condiciones de salubridad y cuidados humanos d...</td>\n",
       "      <td>Bermúdez, Yvis; Valenzuela, Sergia; Vásquez, E...</td>\n",
       "      <td>571.6 kB</td>\n",
       "      <td>http://saber.ucv.ve/handle/10872/354</td>\n",
       "      <td>http://saber.ucv.ve/bitstream/10872/354/1/Tesi...</td>\n",
       "      <td>thesis_pdf/160.pdf</td>\n",
       "      <td>False</td>\n",
       "    </tr>\n",
       "  </tbody>\n",
       "</table>\n",
       "</div>"
      ],
      "text/plain": [
       "     index  thesis_year                                       thesis_title  \\\n",
       "0      167  30-Sep-2011  Creación de grupos de apoyo para promover educ...   \n",
       "137    141  23-Jun-2011  Evaluación de una alternativa tecnológica para...   \n",
       "127     53   3-Jun-2011  Síntesis y caracterización de catalizadores me...   \n",
       "128     91  15-Jun-2011  Mejoramiento del proceso de construcción de po...   \n",
       "129    127  23-Jun-2011  Estudio del mantenimiento de los equipos críti...   \n",
       "130    108  22-Jun-2011  Estudio y diseño de esquemas de completación p...   \n",
       "132    181  30-Sep-2011  Propuesta  de un programa educativo para la pr...   \n",
       "133    184  30-Sep-2011  Intervención de la enfermera(o) en la prevenci...   \n",
       "134    193  30-Sep-2011  Valoración de enfermería en los factores predi...   \n",
       "135    178  30-Sep-2011  Propuesta de un sistema algorítmico en la prev...   \n",
       "136    198  30-Sep-2011  Calidad del cuidado brindado por el profesiona...   \n",
       "138    115  22-Jun-2011  Estudio para el mejoramiento de productividad ...   \n",
       "125    122  23-Jun-2011  Modelaje geofísico integrado de la región cent...   \n",
       "139     41   3-Jun-2011  Análisis y evaluación técnica de la implantaci...   \n",
       "140      5  27-May-2011  Desarrollo de un algoritmo computacional para ...   \n",
       "142    194  30-Sep-2011  Programa de autocuidado dirigido a los pacient...   \n",
       "143     21  31-May-2011  Aplicabilidad de áridos reciclados para fabric...   \n",
       "144    172  30-Sep-2011  Alteraciones músculo-esqueléticas en la enferm...   \n",
       "145     13  31-May-2011  Propuesta de un sistema de administración de i...   \n",
       "146    160  30-Sep-2011  Condiciones de salubridad y cuidados humanos d...   \n",
       "\n",
       "                                         thesis_author       size  \\\n",
       "0      Centeno, Miriam; Hurtado, Nancy; Padrón, Dilcia    1.03 MB   \n",
       "137  Quintero G., Jenny G.; Velasco C., Nazareth de J.    5.15 MB   \n",
       "127     Cano C., Kallinka; Teixeira Mendonca, María L.     4.8 MB   \n",
       "128            Expósito R., Juan L.; Novoa D., Joel A.    4.83 MB   \n",
       "129                            Rodríguez L., Miguel A.    4.85 MB   \n",
       "130            Peñaranda C., Juan M.; Trejo I., Ely D.    4.87 MB   \n",
       "132   Amanaú, Aura; Cabarca, Yomaira; Ramírez, Justina  421.94 kB   \n",
       "133  GRANADOS, Trinidad; GARCÍA, Irilis; PACHECO, A...  434.68 kB   \n",
       "134         Tovar, Ana T.; Martínez, Mila; Ríos, Nancy  454.61 kB   \n",
       "135                                     Muñoz, Isbelia  460.22 kB   \n",
       "136     Casaña, Yurima; Florido, Lisbeth; Nieves, Rosa  481.18 kB   \n",
       "138          Marques S., David A.; Rondón A., María A.    5.25 MB   \n",
       "125                                  Reyes, Janckarlos     4.6 MB   \n",
       "139                           Castillo S., Bladimir J.    5.83 MB   \n",
       "140                                 D'Amico, Walter F.  506.32 kB   \n",
       "142   Chacón, Celia; Granado, María; Marcano, Yusnelys  539.76 kB   \n",
       "143                                  Abreu L., René J.  552.32 kB   \n",
       "144  BRICEÑO, GRETHY; FAGUNDEZ, ERIKA; QUINTERO, DEICY  553.69 kB   \n",
       "145                                Sánchez M., José R.  562.96 kB   \n",
       "146  Bermúdez, Yvis; Valenzuela, Sergia; Vásquez, E...   571.6 kB   \n",
       "\n",
       "                              thesis_link  \\\n",
       "0    http://saber.ucv.ve/handle/10872/361   \n",
       "137  http://saber.ucv.ve/handle/10872/214   \n",
       "127  http://saber.ucv.ve/handle/10872/100   \n",
       "128  http://saber.ucv.ve/handle/10872/127   \n",
       "129  http://saber.ucv.ve/handle/10872/224   \n",
       "130  http://saber.ucv.ve/handle/10872/203   \n",
       "132  http://saber.ucv.ve/handle/10872/351   \n",
       "133  http://saber.ucv.ve/handle/10872/342   \n",
       "134  http://saber.ucv.ve/handle/10872/347   \n",
       "135  http://saber.ucv.ve/handle/10872/345   \n",
       "136  http://saber.ucv.ve/handle/10872/326   \n",
       "138  http://saber.ucv.ve/handle/10872/190   \n",
       "125  http://saber.ucv.ve/handle/10872/219   \n",
       "139  http://saber.ucv.ve/handle/10872/107   \n",
       "140   http://saber.ucv.ve/handle/10872/32   \n",
       "142  http://saber.ucv.ve/handle/10872/362   \n",
       "143   http://saber.ucv.ve/handle/10872/56   \n",
       "144  http://saber.ucv.ve/handle/10872/357   \n",
       "145   http://saber.ucv.ve/handle/10872/45   \n",
       "146  http://saber.ucv.ve/handle/10872/354   \n",
       "\n",
       "                                              pdf_link                path  \\\n",
       "0    http://saber.ucv.ve/bitstream/10872/361/1/Tesi...  thesis_pdf/167.pdf   \n",
       "137  http://saber.ucv.ve/bitstream/10872/214/1/TESI...  thesis_pdf/141.pdf   \n",
       "127  http://saber.ucv.ve/bitstream/10872/100/1/Trab...   thesis_pdf/53.pdf   \n",
       "128  http://saber.ucv.ve/bitstream/10872/127/1/TESI...   thesis_pdf/91.pdf   \n",
       "129  http://saber.ucv.ve/bitstream/10872/224/1/Tesi...  thesis_pdf/127.pdf   \n",
       "130  http://saber.ucv.ve/bitstream/10872/203/1/TESI...  thesis_pdf/108.pdf   \n",
       "132  http://saber.ucv.ve/bitstream/10872/351/1/Prop...  thesis_pdf/181.pdf   \n",
       "133  http://saber.ucv.ve/bitstream/10872/342/1/PACH...  thesis_pdf/184.pdf   \n",
       "134  http://saber.ucv.ve/bitstream/10872/347/1/Micr...  thesis_pdf/193.pdf   \n",
       "135  http://saber.ucv.ve/bitstream/10872/345/1/TESI...  thesis_pdf/178.pdf   \n",
       "136  http://saber.ucv.ve/bitstream/10872/326/1/tesi...  thesis_pdf/198.pdf   \n",
       "138  http://saber.ucv.ve/bitstream/10872/190/1/Text...  thesis_pdf/115.pdf   \n",
       "125  http://saber.ucv.ve/bitstream/10872/219/1/TEG_...  thesis_pdf/122.pdf   \n",
       "139  http://saber.ucv.ve/bitstream/10872/107/1/Trab...   thesis_pdf/41.pdf   \n",
       "140  http://saber.ucv.ve/bitstream/10872/32/1/Tesis...    thesis_pdf/5.pdf   \n",
       "142  http://saber.ucv.ve/bitstream/10872/362/1/CAP%...  thesis_pdf/194.pdf   \n",
       "143  http://saber.ucv.ve/bitstream/10872/56/1/Traba...   thesis_pdf/21.pdf   \n",
       "144  http://saber.ucv.ve/bitstream/10872/357/1/TEG_...  thesis_pdf/172.pdf   \n",
       "145  http://saber.ucv.ve/bitstream/10872/45/1/TRABA...   thesis_pdf/13.pdf   \n",
       "146  http://saber.ucv.ve/bitstream/10872/354/1/Tesi...  thesis_pdf/160.pdf   \n",
       "\n",
       "     isScan  \n",
       "0     False  \n",
       "137   False  \n",
       "127   False  \n",
       "128   False  \n",
       "129   False  \n",
       "130   False  \n",
       "132   False  \n",
       "133   False  \n",
       "134   False  \n",
       "135   False  \n",
       "136   False  \n",
       "138   False  \n",
       "125   False  \n",
       "139   False  \n",
       "140   False  \n",
       "142   False  \n",
       "143   False  \n",
       "144   False  \n",
       "145   False  \n",
       "146   False  "
      ]
     },
     "execution_count": 146,
     "metadata": {},
     "output_type": "execute_result"
    }
   ],
   "source": [
    "df.head(20)"
   ]
  },
  {
   "cell_type": "code",
   "execution_count": 349,
   "id": "21ad6689",
   "metadata": {},
   "outputs": [
    {
     "name": "stdout",
     "output_type": "stream",
     "text": [
      "UNIVERSIDAD CENTRAL DE VENEZUELA \n",
      "FACULTAD DE MEDICINA \n",
      "ESCUELA DE ENFERMER˝A \n",
      " \n",
      " \n",
      " \n",
      " \n",
      " \n",
      " \n",
      " \n",
      " \n",
      " \n",
      " \n",
      " \n",
      " \n",
      " \n",
      " \n",
      "ATENCI(cid:211)N DE ENFERMER˝A EN PACIENTES CON VIH-SIDA  \n",
      "EN LA UNIDAD CL˝NICA DE MEDICINA DEL HOSPITAL (cid:147)Dr. RA(cid:218)L \n",
      "LEONI OTERO(cid:148) SAN FELIX (cid:150) ESTADO BOLIVAR EN EL TERCER \n",
      "TRIMESTRE DEL A(cid:209)O 2005 \n",
      "(Trabajo de Grado presentado como requisito parcial para optar  \n",
      "por el t(cid:237)tulo de Licenciado en Enfermer(cid:237)a) \n",
      " \n",
      " \n",
      " \n",
      " \n",
      " \n",
      " \n",
      " \n",
      " \n",
      " \n",
      " \n",
      " \n",
      "Autoras: \n",
      "T.S.U. Becker Elis \n",
      "T.S.U. Rosas Alida \n",
      "T.S.U. Zorrilla Maritza \n",
      "Tutor: Prof. Santiago Guerrero \n",
      "Fecha: Diciembre 2005 \n",
      " \n",
      "Caracas, Noviembre del 2005 \n",
      " \n"
     ]
    }
   ],
   "source": [
    "import pdfplumber\n",
    "with pdfplumber.open(r'../thesis_pdf/182.pdf') as pdf:\n",
    "    first_page = pdf.pages[0]\n",
    "    print(first_page.extract_text())"
   ]
  },
  {
   "cell_type": "code",
   "execution_count": 350,
   "id": "3e11c037",
   "metadata": {},
   "outputs": [
    {
     "data": {
      "text/plain": [
       "'UNIVERSIDAD CENTRAL DE VENEZUELA \\nFACULTAD DE MEDICINA \\nESCUELA DE ENFERMER˝A \\n \\n \\n \\n \\n \\n \\n \\n \\n \\n \\n \\n \\n \\n \\nATENCI(cid:211)N DE ENFERMER˝A EN PACIENTES CON VIH-SIDA  \\nEN LA UNIDAD CL˝NICA DE MEDICINA DEL HOSPITAL (cid:147)Dr. RA(cid:218)L \\nLEONI OTERO(cid:148) SAN FELIX (cid:150) ESTADO BOLIVAR EN EL TERCER \\nTRIMESTRE DEL A(cid:209)O 2005 \\n(Trabajo de Grado presentado como requisito parcial para optar  \\npor el t(cid:237)tulo de Licenciado en Enfermer(cid:237)a) \\n \\n \\n \\n \\n \\n \\n \\n \\n \\n \\n \\nAutoras: \\nT.S.U. Becker Elis \\nT.S.U. Rosas Alida \\nT.S.U. Zorrilla Maritza \\nTutor: Prof. Santiago Guerrero \\nFecha: Diciembre 2005 \\n \\nCaracas, Noviembre del 2005 \\n '"
      ]
     },
     "execution_count": 350,
     "metadata": {},
     "output_type": "execute_result"
    }
   ],
   "source": [
    "text_first = first_page.extract_text()\n",
    "text_first"
   ]
  },
  {
   "cell_type": "code",
   "execution_count": 361,
   "id": "d9a92b2c",
   "metadata": {},
   "outputs": [],
   "source": [
    "text_first = \"Escuela de Economia 'Caracas, Junio de 2002 \\n \\n \\nLos abajo firmantes Escuela de Economia, miembros del Jurado designado por el Consejo de Escuela \\nde Ingeniería Química, Escuela de Ingenieria Quimica Escuela de Ingenieria Quimica Escuela de Ingenieria Quimica para evaluar el Trabajo Especial de Grado presentado por \\nlas Bachilleres Kallinka Cano C. y María Lucía Teixeira M. \\n \\n \\n“Síntesis y caracterización de catalizadores metálicos con diferentes \\nsoportes para las reacciones de hidrogenación de aromáticos” \\n \\n \\nConsideran  que  el  mismo  cumple  con  los  requisitos  exigidos  por  el  plan  de \\nestudios conducente al Título de Ingeniero Químico, y sin que ello signifique que \\nse  hacen  solidarios  con  las  ideas  expuestas  por  los  autores,  lo  declaran \\nAPROBADO. \\n \\n \\n \\n \\n  _________________________                           _________________________ \\n             Prof. Luis García                                              Prof.  Johnny Vásquez \\n                   Jurado                                                                    Jurado \\n \\n \\n \\n \\n  _________________________                           _________________________ \\n          Prof. Josefina Trujillo                                            Prof. Samir Marzuka \\n                     Tutor                                                                     Tutor \\n '\""
   ]
  },
  {
   "cell_type": "code",
   "execution_count": 362,
   "id": "7c669d7b",
   "metadata": {},
   "outputs": [
    {
     "name": "stdout",
     "output_type": "stream",
     "text": [
      "Matched based on lowercase token text: Escuela de Economia\n",
      "Matched based on lowercase token text: Escuela de Economia\n",
      "Matched based on lowercase token text: Escuela de Ingenieria Quimica\n",
      "Matched based on lowercase token text: Escuela de Ingenieria Quimica\n",
      "Matched based on lowercase token text: Escuela de Ingenieria Quimica\n"
     ]
    }
   ],
   "source": [
    "doc = nlp(text_first)\n",
    "\n",
    "for match_id, start, end in matcher(doc):\n",
    "    print(\"Matched based on lowercase token text:\", doc[start:end])"
   ]
  },
  {
   "cell_type": "code",
   "execution_count": 363,
   "id": "04fc729a",
   "metadata": {},
   "outputs": [
    {
     "data": {
      "text/plain": [
       "\"Escuela de Economia 'Caracas, Junio de 2002 \\n \\n \\nLos abajo firmantes Escuela de Economia, miembros del Jurado designado por el Consejo de Escuela \\nde Ingeniería Química, Escuela de Ingenieria Quimica Escuela de Ingenieria Quimica Escuela de Ingenieria Quimica para evaluar el Trabajo Especial de Grado presentado por \\nlas Bachilleres Kallinka Cano C. y María Lucía Teixeira M. \\n \\n \\n“Síntesis y caracterización de catalizadores metálicos con diferentes \\nsoportes para las reacciones de hidrogenación de aromáticos” \\n \\n \\nConsideran  que  el  mismo  cumple  con  los  requisitos  exigidos  por  el  plan  de \\nestudios conducente al Título de Ingeniero Químico, y sin que ello signifique que \\nse  hacen  solidarios  con  las  ideas  expuestas  por  los  autores,  lo  declaran \\nAPROBADO. \\n \\n \\n \\n \\n  _________________________                           _________________________ \\n             Prof. Luis García                                              Prof.  Johnny Vásquez \\n                   Jurado                                                                    Jurado \\n \\n \\n \\n \\n  _________________________                           _________________________ \\n          Prof. Josefina Trujillo                                            Prof. Samir Marzuka \\n                     Tutor                                                                     Tutor \\n '\""
      ]
     },
     "execution_count": 363,
     "metadata": {},
     "output_type": "execute_result"
    }
   ],
   "source": [
    "text_first"
   ]
  },
  {
   "cell_type": "code",
   "execution_count": 364,
   "id": "4a70c023",
   "metadata": {},
   "outputs": [
    {
     "data": {
      "text/plain": [
       "'Escuela de Economia \\'Caracas, Junio de 2002 Los abajo firmantes Escuela de Economia, miembros del Jurado designado por el Consejo de Escuela de Ingenieria Quimica, Escuela de Ingenieria Quimica Escuela de Ingenieria Quimica Escuela de Ingenieria Quimica para evaluar el Trabajo Especial de Grado presentado por las Bachilleres Kallinka Cano C. y Maria Lucia Teixeira M. \"Sintesis y caracterizacion de catalizadores metalicos con diferentes soportes para las reacciones de hidrogenacion de aromaticos\" Consideran que el mismo cumple con los requisitos exigidos por el plan de estudios conducente al Titulo de Ingeniero Quimico, y sin que ello signifique que se hacen solidarios con las ideas expuestas por los autores, lo declaran APROBADO. _________________________ _________________________ Prof. Luis Garcia Prof. Johnny Vasquez Jurado Jurado _________________________ _________________________ Prof. Josefina Trujillo Prof. Samir Marzuka Tutor Tutor \\''"
      ]
     },
     "execution_count": 364,
     "metadata": {},
     "output_type": "execute_result"
    }
   ],
   "source": [
    "import unidecode\n",
    "accented_string = text_first\n",
    "unaccented_string = unidecode.unidecode(accented_string)\n",
    "#unaccented_string\n",
    "unaccented_string = \" \".join(unaccented_string.split())\n",
    "unaccented_string"
   ]
  },
  {
   "cell_type": "code",
   "execution_count": 365,
   "id": "a48d8ac9",
   "metadata": {},
   "outputs": [
    {
     "data": {
      "text/plain": [
       "['Escuela de Ingenieria Civil',\n",
       " 'Escuela de Ingenieria Electrica',\n",
       " 'Escuela de Geologia, Minas y Geofisica',\n",
       " 'Escuela de Ingenieria Quimica',\n",
       " 'Escuela de Ingenieria de Petroleo',\n",
       " 'Escuela de Ingenieria Mecanica',\n",
       " 'Escuela de Ingenieria Metalurgica y Ciencias de los Materiales',\n",
       " 'Escuela de Agronomia',\n",
       " 'Escuela de Arquitectura',\n",
       " 'Escuela de Biologia',\n",
       " 'Escuela de Computacion',\n",
       " 'Escuela de Fisica',\n",
       " 'Escuela de Geoquimica',\n",
       " 'Escuela de Matematica',\n",
       " 'Escuela de Quimica',\n",
       " 'Escuela de Administracion y Contaduria',\n",
       " 'Escuela de Antropologia',\n",
       " 'Escuela de Estadistica y Ciencias Actuariales',\n",
       " 'Escuela de Economia',\n",
       " 'Escuela de Estudios Internacionales',\n",
       " 'Escuela de Sociologia',\n",
       " 'Escuela de Trabajo Social',\n",
       " 'Escuela de Derecho',\n",
       " 'Escuela de Estudios Politicos y Administrativo',\n",
       " 'Escuela de Ciencias Veterinarias',\n",
       " 'Escuela de Farmacia',\n",
       " 'Escuela de Artes',\n",
       " 'Escuela de Bibliotecologia y Archivologia',\n",
       " 'Escuela de Comunicacion Social',\n",
       " 'Escuela de Educacion',\n",
       " 'Escuela de Filosofia',\n",
       " 'Escuela de Geografia',\n",
       " 'Escuela de Historia',\n",
       " 'Escuela de Idiomas Modernos',\n",
       " 'Escuela de Letras',\n",
       " 'Escuela de Psicologia',\n",
       " 'Escuela de Bioanalisis',\n",
       " 'Escuela de Enfermeria',\n",
       " 'Escuela Jose M. Vargas',\n",
       " 'Escuela Luis Razetti',\n",
       " 'Escuela de Nutricion y Dietetica',\n",
       " 'Escuela de Salud Publica',\n",
       " 'Escuela de Odontologia']"
      ]
     },
     "execution_count": 365,
     "metadata": {},
     "output_type": "execute_result"
    }
   ],
   "source": [
    "unaccented_schools = []\n",
    "for sch in escuelas:\n",
    "    unaccented_schools.append(unidecode.unidecode(sch))\n",
    "unaccented_schools "
   ]
  },
  {
   "cell_type": "code",
   "execution_count": 366,
   "id": "301f4baf",
   "metadata": {},
   "outputs": [],
   "source": [
    "nlp = spacy.load('es_core_news_sm')"
   ]
  },
  {
   "cell_type": "code",
   "execution_count": 367,
   "id": "8ba3a779",
   "metadata": {},
   "outputs": [],
   "source": [
    "matcher = PhraseMatcher(nlp.vocab, attr=\"LOWER\")\n",
    "patterns = [nlp(name) for name in unaccented_schools]\n",
    "matcher.add(\"ESC\", patterns)"
   ]
  },
  {
   "cell_type": "code",
   "execution_count": 368,
   "id": "2bca1011",
   "metadata": {},
   "outputs": [
    {
     "name": "stdout",
     "output_type": "stream",
     "text": [
      "Matched based on lowercase token text: Escuela de Economia 0 3\n",
      "ESC\n",
      "Matched based on lowercase token text: Escuela de Economia 12 15\n",
      "ESC\n",
      "Matched based on lowercase token text: Escuela de Ingenieria Quimica 24 28\n",
      "ESC\n",
      "Matched based on lowercase token text: Escuela de Ingenieria Quimica 29 33\n",
      "ESC\n",
      "Matched based on lowercase token text: Escuela de Ingenieria Quimica 33 37\n",
      "ESC\n",
      "Matched based on lowercase token text: Escuela de Ingenieria Quimica 37 41\n",
      "ESC\n"
     ]
    }
   ],
   "source": [
    "doc = nlp(unaccented_string)\n",
    "\n",
    "for match_id, start, end in matcher(doc):\n",
    "    print(\"Matched based on lowercase token text:\", doc[start:end], start, end)\n",
    "    print(nlp.vocab.strings[match_id])"
   ]
  },
  {
   "cell_type": "code",
   "execution_count": 311,
   "id": "8d947ae1",
   "metadata": {},
   "outputs": [
    {
     "data": {
      "text/html": [
       "<div>\n",
       "<style scoped>\n",
       "    .dataframe tbody tr th:only-of-type {\n",
       "        vertical-align: middle;\n",
       "    }\n",
       "\n",
       "    .dataframe tbody tr th {\n",
       "        vertical-align: top;\n",
       "    }\n",
       "\n",
       "    .dataframe thead th {\n",
       "        text-align: right;\n",
       "    }\n",
       "</style>\n",
       "<table border=\"1\" class=\"dataframe\">\n",
       "  <thead>\n",
       "    <tr style=\"text-align: right;\">\n",
       "      <th></th>\n",
       "      <th>index</th>\n",
       "      <th>thesis_year</th>\n",
       "      <th>thesis_title</th>\n",
       "      <th>thesis_author</th>\n",
       "      <th>size</th>\n",
       "      <th>thesis_link</th>\n",
       "      <th>pdf_link</th>\n",
       "      <th>path</th>\n",
       "      <th>isScan</th>\n",
       "    </tr>\n",
       "  </thead>\n",
       "  <tbody>\n",
       "    <tr>\n",
       "      <th>0</th>\n",
       "      <td>167</td>\n",
       "      <td>30-Sep-2011</td>\n",
       "      <td>Creación de grupos de apoyo para promover educ...</td>\n",
       "      <td>Centeno, Miriam; Hurtado, Nancy; Padrón, Dilcia</td>\n",
       "      <td>1.03 MB</td>\n",
       "      <td>http://saber.ucv.ve/handle/10872/361</td>\n",
       "      <td>http://saber.ucv.ve/bitstream/10872/361/1/Tesi...</td>\n",
       "      <td>thesis_pdf/167.pdf</td>\n",
       "      <td>False</td>\n",
       "    </tr>\n",
       "    <tr>\n",
       "      <th>137</th>\n",
       "      <td>141</td>\n",
       "      <td>23-Jun-2011</td>\n",
       "      <td>Evaluación de una alternativa tecnológica para...</td>\n",
       "      <td>Quintero G., Jenny G.; Velasco C., Nazareth de J.</td>\n",
       "      <td>5.15 MB</td>\n",
       "      <td>http://saber.ucv.ve/handle/10872/214</td>\n",
       "      <td>http://saber.ucv.ve/bitstream/10872/214/1/TESI...</td>\n",
       "      <td>thesis_pdf/141.pdf</td>\n",
       "      <td>False</td>\n",
       "    </tr>\n",
       "    <tr>\n",
       "      <th>127</th>\n",
       "      <td>53</td>\n",
       "      <td>3-Jun-2011</td>\n",
       "      <td>Síntesis y caracterización de catalizadores me...</td>\n",
       "      <td>Cano C., Kallinka; Teixeira Mendonca, María L.</td>\n",
       "      <td>4.8 MB</td>\n",
       "      <td>http://saber.ucv.ve/handle/10872/100</td>\n",
       "      <td>http://saber.ucv.ve/bitstream/10872/100/1/Trab...</td>\n",
       "      <td>thesis_pdf/53.pdf</td>\n",
       "      <td>False</td>\n",
       "    </tr>\n",
       "    <tr>\n",
       "      <th>128</th>\n",
       "      <td>91</td>\n",
       "      <td>15-Jun-2011</td>\n",
       "      <td>Mejoramiento del proceso de construcción de po...</td>\n",
       "      <td>Expósito R., Juan L.; Novoa D., Joel A.</td>\n",
       "      <td>4.83 MB</td>\n",
       "      <td>http://saber.ucv.ve/handle/10872/127</td>\n",
       "      <td>http://saber.ucv.ve/bitstream/10872/127/1/TESI...</td>\n",
       "      <td>thesis_pdf/91.pdf</td>\n",
       "      <td>False</td>\n",
       "    </tr>\n",
       "    <tr>\n",
       "      <th>129</th>\n",
       "      <td>127</td>\n",
       "      <td>23-Jun-2011</td>\n",
       "      <td>Estudio del mantenimiento de los equipos críti...</td>\n",
       "      <td>Rodríguez L., Miguel A.</td>\n",
       "      <td>4.85 MB</td>\n",
       "      <td>http://saber.ucv.ve/handle/10872/224</td>\n",
       "      <td>http://saber.ucv.ve/bitstream/10872/224/1/Tesi...</td>\n",
       "      <td>thesis_pdf/127.pdf</td>\n",
       "      <td>False</td>\n",
       "    </tr>\n",
       "    <tr>\n",
       "      <th>...</th>\n",
       "      <td>...</td>\n",
       "      <td>...</td>\n",
       "      <td>...</td>\n",
       "      <td>...</td>\n",
       "      <td>...</td>\n",
       "      <td>...</td>\n",
       "      <td>...</td>\n",
       "      <td>...</td>\n",
       "      <td>...</td>\n",
       "    </tr>\n",
       "    <tr>\n",
       "      <th>67</th>\n",
       "      <td>119</td>\n",
       "      <td>22-Jun-2011</td>\n",
       "      <td>Evaluación del modelo de mezcla y predicción d...</td>\n",
       "      <td>Lobo P., Raúl A.</td>\n",
       "      <td>2.77 MB</td>\n",
       "      <td>http://saber.ucv.ve/handle/10872/187</td>\n",
       "      <td>http://saber.ucv.ve/bitstream/10872/187/1/TRAB...</td>\n",
       "      <td>thesis_pdf/119.pdf</td>\n",
       "      <td>False</td>\n",
       "    </tr>\n",
       "    <tr>\n",
       "      <th>68</th>\n",
       "      <td>74</td>\n",
       "      <td>7-Jun-2011</td>\n",
       "      <td>Micro-abrasion de nitruro de titanio (TiN) dep...</td>\n",
       "      <td>Castro T., Angela C.</td>\n",
       "      <td>2.89 MB</td>\n",
       "      <td>http://saber.ucv.ve/handle/10872/109</td>\n",
       "      <td>http://saber.ucv.ve/bitstream/10872/109/1/Tesi...</td>\n",
       "      <td>thesis_pdf/74.pdf</td>\n",
       "      <td>False</td>\n",
       "    </tr>\n",
       "    <tr>\n",
       "      <th>69</th>\n",
       "      <td>18</td>\n",
       "      <td>31-May-2011</td>\n",
       "      <td>Caracterización de revoques formados utilizand...</td>\n",
       "      <td>Silva C., Silvia M.</td>\n",
       "      <td>2.98 MB</td>\n",
       "      <td>http://saber.ucv.ve/handle/10872/47</td>\n",
       "      <td>http://saber.ucv.ve/bitstream/10872/47/1/Carac...</td>\n",
       "      <td>thesis_pdf/18.pdf</td>\n",
       "      <td>False</td>\n",
       "    </tr>\n",
       "    <tr>\n",
       "      <th>70</th>\n",
       "      <td>163</td>\n",
       "      <td>30-Sep-2011</td>\n",
       "      <td>Cambios clínicos de los pacientes que reciben ...</td>\n",
       "      <td>Contreras, Rudhit; Valecillo, Nelba</td>\n",
       "      <td>201.65 kB</td>\n",
       "      <td>http://saber.ucv.ve/handle/10872/328</td>\n",
       "      <td>http://saber.ucv.ve/bitstream/10872/328/1/CAMB...</td>\n",
       "      <td>thesis_pdf/163.pdf</td>\n",
       "      <td>False</td>\n",
       "    </tr>\n",
       "    <tr>\n",
       "      <th>199</th>\n",
       "      <td>7</td>\n",
       "      <td>27-May-2011</td>\n",
       "      <td>La producción de conocimiento : un análisis mé...</td>\n",
       "      <td>Adrian Mogollón, Julia; Echezuria Perozo, Jorg...</td>\n",
       "      <td>995.92 kB</td>\n",
       "      <td>http://saber.ucv.ve/handle/10872/29</td>\n",
       "      <td>http://saber.ucv.ve/bitstream/10872/29/1/TL-EB...</td>\n",
       "      <td>thesis_pdf/7.pdf</td>\n",
       "      <td>False</td>\n",
       "    </tr>\n",
       "  </tbody>\n",
       "</table>\n",
       "<p>190 rows × 9 columns</p>\n",
       "</div>"
      ],
      "text/plain": [
       "     index  thesis_year                                       thesis_title  \\\n",
       "0      167  30-Sep-2011  Creación de grupos de apoyo para promover educ...   \n",
       "137    141  23-Jun-2011  Evaluación de una alternativa tecnológica para...   \n",
       "127     53   3-Jun-2011  Síntesis y caracterización de catalizadores me...   \n",
       "128     91  15-Jun-2011  Mejoramiento del proceso de construcción de po...   \n",
       "129    127  23-Jun-2011  Estudio del mantenimiento de los equipos críti...   \n",
       "..     ...          ...                                                ...   \n",
       "67     119  22-Jun-2011  Evaluación del modelo de mezcla y predicción d...   \n",
       "68      74   7-Jun-2011  Micro-abrasion de nitruro de titanio (TiN) dep...   \n",
       "69      18  31-May-2011  Caracterización de revoques formados utilizand...   \n",
       "70     163  30-Sep-2011  Cambios clínicos de los pacientes que reciben ...   \n",
       "199      7  27-May-2011  La producción de conocimiento : un análisis mé...   \n",
       "\n",
       "                                         thesis_author       size  \\\n",
       "0      Centeno, Miriam; Hurtado, Nancy; Padrón, Dilcia    1.03 MB   \n",
       "137  Quintero G., Jenny G.; Velasco C., Nazareth de J.    5.15 MB   \n",
       "127     Cano C., Kallinka; Teixeira Mendonca, María L.     4.8 MB   \n",
       "128            Expósito R., Juan L.; Novoa D., Joel A.    4.83 MB   \n",
       "129                            Rodríguez L., Miguel A.    4.85 MB   \n",
       "..                                                 ...        ...   \n",
       "67                                    Lobo P., Raúl A.    2.77 MB   \n",
       "68                                Castro T., Angela C.    2.89 MB   \n",
       "69                                 Silva C., Silvia M.    2.98 MB   \n",
       "70                 Contreras, Rudhit; Valecillo, Nelba  201.65 kB   \n",
       "199  Adrian Mogollón, Julia; Echezuria Perozo, Jorg...  995.92 kB   \n",
       "\n",
       "                              thesis_link  \\\n",
       "0    http://saber.ucv.ve/handle/10872/361   \n",
       "137  http://saber.ucv.ve/handle/10872/214   \n",
       "127  http://saber.ucv.ve/handle/10872/100   \n",
       "128  http://saber.ucv.ve/handle/10872/127   \n",
       "129  http://saber.ucv.ve/handle/10872/224   \n",
       "..                                    ...   \n",
       "67   http://saber.ucv.ve/handle/10872/187   \n",
       "68   http://saber.ucv.ve/handle/10872/109   \n",
       "69    http://saber.ucv.ve/handle/10872/47   \n",
       "70   http://saber.ucv.ve/handle/10872/328   \n",
       "199   http://saber.ucv.ve/handle/10872/29   \n",
       "\n",
       "                                              pdf_link                path  \\\n",
       "0    http://saber.ucv.ve/bitstream/10872/361/1/Tesi...  thesis_pdf/167.pdf   \n",
       "137  http://saber.ucv.ve/bitstream/10872/214/1/TESI...  thesis_pdf/141.pdf   \n",
       "127  http://saber.ucv.ve/bitstream/10872/100/1/Trab...   thesis_pdf/53.pdf   \n",
       "128  http://saber.ucv.ve/bitstream/10872/127/1/TESI...   thesis_pdf/91.pdf   \n",
       "129  http://saber.ucv.ve/bitstream/10872/224/1/Tesi...  thesis_pdf/127.pdf   \n",
       "..                                                 ...                 ...   \n",
       "67   http://saber.ucv.ve/bitstream/10872/187/1/TRAB...  thesis_pdf/119.pdf   \n",
       "68   http://saber.ucv.ve/bitstream/10872/109/1/Tesi...   thesis_pdf/74.pdf   \n",
       "69   http://saber.ucv.ve/bitstream/10872/47/1/Carac...   thesis_pdf/18.pdf   \n",
       "70   http://saber.ucv.ve/bitstream/10872/328/1/CAMB...  thesis_pdf/163.pdf   \n",
       "199  http://saber.ucv.ve/bitstream/10872/29/1/TL-EB...    thesis_pdf/7.pdf   \n",
       "\n",
       "     isScan  \n",
       "0     False  \n",
       "137   False  \n",
       "127   False  \n",
       "128   False  \n",
       "129   False  \n",
       "..      ...  \n",
       "67    False  \n",
       "68    False  \n",
       "69    False  \n",
       "70    False  \n",
       "199   False  \n",
       "\n",
       "[190 rows x 9 columns]"
      ]
     },
     "execution_count": 311,
     "metadata": {},
     "output_type": "execute_result"
    }
   ],
   "source": [
    "df"
   ]
  },
  {
   "cell_type": "code",
   "execution_count": 312,
   "id": "386279df",
   "metadata": {},
   "outputs": [],
   "source": [
    "import pandas as pd\n",
    "import numpy as np\n",
    "import os\n",
    "\n",
    "csv_source = \"data/url_thesis_200_with_scan.csv\"\n",
    "df = pd.read_csv(csv_source)\n",
    "df = df[df['isScan']==False]\n",
    "df = df.sort_values('isScan', ascending=False)\n"
   ]
  },
  {
   "cell_type": "code",
   "execution_count": 325,
   "id": "36a38ff0",
   "metadata": {},
   "outputs": [],
   "source": [
    "import json\n",
    "import pdfplumber\n",
    "import spacy\n",
    "import pandas as pd\n",
    "import numpy as np\n",
    "import os\n",
    "import unidecode\n",
    "from spacy.matcher import PhraseMatcher\n",
    "from spacy import displacy\n",
    "from progress_bar.progress_bar import printProgressBar\n",
    "\n",
    "class School:\n",
    "    def __init__(self, file_source):\n",
    "        file = open(file_source, \"r\")\n",
    "        file = json.load(file)\n",
    "        temp_list = []\n",
    "        for facultad in file:\n",
    "            temp_list.append(facultad['escuela'])\n",
    "        #print(facultad['escuela'])\n",
    "        self.escuelas = [item for sublist in temp_list for item in sublist] # make the list flat\n",
    "        self.escuelas_accent = self.escuelas\n",
    "        print(self.escuelas)\n",
    "        self.i = 0\n",
    "        \n",
    "    def unaccent_list(self, accent_list):\n",
    "        unaccented_schools = []\n",
    "        for sch in accent_list:\n",
    "            unaccented_schools.append(unidecode.unidecode(sch))\n",
    "        return unaccented_schools\n",
    "    \n",
    "    def set_school_to_unaccent(self):\n",
    "        self.escuelas = self.unaccent_list(self.escuelas)\n",
    "        \n",
    "    \n",
    "    def clean_spaces_text(self, text):\n",
    "        new_text = \" \".join(text.split())\n",
    "        return(new_text)\n",
    "    \n",
    "    def set_nlp(self, model):\n",
    "        self.nlp_model = spacy.load(model)\n",
    "        \n",
    "    def set_matcher(self):\n",
    "        matcher = PhraseMatcher(self.nlp_model.vocab, attr=\"LOWER\")\n",
    "        patterns = [self.nlp_model(name) for name in self.escuelas]\n",
    "        matcher.add(\"ESC\", patterns)\n",
    "        \n",
    "    def check_file(self, file_source, l):\n",
    "        self.i+=1\n",
    "        printProgressBar(self.i, l, prefix = 'Progress:', suffix = 'Complete', length = 50)\n",
    "        pages_10 = []\n",
    "        pages_10_l = []\n",
    "        school_name_of_file = \"\"\n",
    "        with pdfplumber.open(file_source) as pdf:\n",
    "            for i in range(0,10):\n",
    "                pages_10.append(self.clean_spaces_text(pdf.pages[i].extract_text()))\n",
    "            for i in reversed(range(len(pdf.pages)-10,len(pdf.pages))):\n",
    "                pages_10_l.append(self.clean_spaces_text(pdf.pages[i].extract_text()))\n",
    "        \n",
    "        #first 10 pages\n",
    "        pages_10_u = self.unaccent_list(pages_10)\n",
    "        for page in pages_10_u:\n",
    "            doc = self.nlp_model(page)\n",
    "            if len(matcher(doc)) >=1:\n",
    "                for match_id, start, end in matcher(doc):\n",
    "                    return(doc[start:end]) #returns at the first istance\n",
    "        #last 10 pages\n",
    "        pages_10_l = self.unaccent_list(pages_10_l)\n",
    "        for page in pages_10_l:\n",
    "            doc = self.nlp_model(page)\n",
    "            if len(matcher(doc)) >=1:\n",
    "                for match_id, start, end in matcher(doc):\n",
    "                    return(doc[start:end]) #returns at the first istance\n",
    "        return \"No school\"\n",
    "        \n",
    "        \n",
    "        \n",
    "    "
   ]
  },
  {
   "cell_type": "code",
   "execution_count": 334,
   "id": "388f5015",
   "metadata": {},
   "outputs": [
    {
     "name": "stdout",
     "output_type": "stream",
     "text": [
      "['Escuela de Ingeniería Civil', 'Escuela de Ingeniería Eléctrica', 'Escuela de Geología, Minas y Geofísica', 'Escuela de Ingeniería Química', 'Escuela de Ingeniería de Petroleo', 'Escuela de Ingeniería Mecanica', 'Escuela de Ingeniería Metalúrgica y Ciencias de los Materiales', 'Escuela de Agronomía', 'Escuela de Arquitectura', 'Escuela de Biología', 'Escuela de Computación', 'Escuela de Física', 'Escuela de Geoquímica', 'Escuela de Matemática', 'Escuela de Química', 'Escuela de Administración y Contaduría', 'Escuela de Antropología', 'Escuela de Estadística y Ciencias Actuariales', 'Escuela de Economía', 'Escuela de Estudios Internacionales', 'Escuela de Sociología', 'Escuela de Trabajo Social', 'Escuela de Derecho', 'Escuela de Estudios Políticos y Administrativo', 'Escuela de Ciencias Veterinarias', 'Escuela de Farmacia', 'Escuela de Artes', 'Escuela de Bibliotecología y Archivología', 'Escuela de Comunicación Social', 'Escuela de Educación', 'Escuela de Filosofía', 'Escuela de Geografía', 'Escuela de Historia', 'Escuela de Idiomas Modernos', 'Escuela de Letras', 'Escuela de Psicología', 'Escuela de Bioanálisis', 'Escuela de Enfermería', 'Escuela José M. Vargas', 'Escuela Luis Razetti', 'Escuela de Nutrición y Dietética', 'Escuela de Salud Pública', 'Escuela de Odontología']\n"
     ]
    }
   ],
   "source": [
    "schools = School(\"data/escuelas.json\")"
   ]
  },
  {
   "cell_type": "code",
   "execution_count": 335,
   "id": "34a34ee4",
   "metadata": {},
   "outputs": [],
   "source": [
    "schools.set_school_to_unaccent()"
   ]
  },
  {
   "cell_type": "code",
   "execution_count": 336,
   "id": "f7643db6",
   "metadata": {},
   "outputs": [],
   "source": [
    "schools.set_nlp('es_core_news_sm')\n",
    "schools.set_matcher()"
   ]
  },
  {
   "cell_type": "code",
   "execution_count": 337,
   "id": "76837f1e",
   "metadata": {},
   "outputs": [],
   "source": [
    "check_vec = np.vectorize(schools.check_file)"
   ]
  },
  {
   "cell_type": "code",
   "execution_count": 338,
   "id": "81743134",
   "metadata": {},
   "outputs": [
    {
     "data": {
      "text/plain": [
       "190"
      ]
     },
     "execution_count": 338,
     "metadata": {},
     "output_type": "execute_result"
    }
   ],
   "source": [
    "l = len(df.index)\n",
    "l"
   ]
  },
  {
   "cell_type": "code",
   "execution_count": 331,
   "id": "51e63f8d",
   "metadata": {},
   "outputs": [
    {
     "name": "stdout",
     "output_type": "stream",
     "text": [
      "Progress: |██████████████████████████████████████████████████| 100.0% Complete\n",
      "Progress: |██████████████████████████████████████████████████| 100.5% Complete\r"
     ]
    }
   ],
   "source": [
    "values_c = check_vec(\"../\"+df[\"path\"],l)"
   ]
  },
  {
   "cell_type": "code",
   "execution_count": 339,
   "id": "ef2090ce",
   "metadata": {},
   "outputs": [
    {
     "name": "stdout",
     "output_type": "stream",
     "text": [
      "Progress: |██████████████████████████████████████████████████| 100.0% Complete\n",
      "No school\n"
     ]
    }
   ],
   "source": [
    "print(schools.check_file(\"../thesis_pdf/182.pdf\", 1))"
   ]
  },
  {
   "cell_type": "code",
   "execution_count": 332,
   "id": "545c3a37",
   "metadata": {},
   "outputs": [],
   "source": [
    "df['school_simple'] = values_c.tolist()\n",
    "df.to_csv(\"./data/thesis_200_with_school.csv\", index=False)"
   ]
  },
  {
   "cell_type": "code",
   "execution_count": null,
   "id": "52e94c43",
   "metadata": {},
   "outputs": [],
   "source": []
  }
 ],
 "metadata": {
  "kernelspec": {
   "display_name": "env",
   "language": "python",
   "name": "env"
  },
  "language_info": {
   "codemirror_mode": {
    "name": "ipython",
    "version": 3
   },
   "file_extension": ".py",
   "mimetype": "text/x-python",
   "name": "python",
   "nbconvert_exporter": "python",
   "pygments_lexer": "ipython3",
   "version": "3.8.10"
  }
 },
 "nbformat": 4,
 "nbformat_minor": 5
}
