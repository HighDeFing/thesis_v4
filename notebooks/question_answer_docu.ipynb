{
 "cells": [
  {
   "cell_type": "markdown",
   "id": "db7f14f4",
   "metadata": {},
   "source": [
    "Estas celdas son para documentar como son los documentos etiquetados y cuales son las preguntas y las respuestas.\n",
    "\n",
    "El primer documento es el **5567**, el cual es:\n",
    "\n",
    "### 1. Aplicación para la Gestión de Proyectos en Ambientes Sociales y Colaborativos bajo el enfoque de la Web 2.0\n",
    "**Año:** 30-Mar-2017  \n",
    "**Autor:** Conesa Izquierdo, Elisa  \n",
    "**Link:** http://saber.ucv.ve/handle/10872/15575  \n",
    "**Id:** 5567  \n",
    "**Haystack ID:** 539463 "
   ]
  },
  {
   "cell_type": "markdown",
   "id": "81271532",
   "metadata": {},
   "source": [
    "La formaluacionde las preguntas sale del mismo hecho de la respuesta, es decir, se hacer preguntas a respuestas ya encontradas.\n",
    "\n",
    "Preguntas y respuestas:\n",
    "1. Que es el software open source?  \n",
    "Aquel software cuyo código pueda ser visto, editado y/o distribuido sin infligir derechos de autor es llamado software open source.\n",
    "2. Que es una herramienta?  \n",
    "Una herramienta es cualquier componente que facilita la realización de una tarea\n",
    "3. Que es un proyecto colaborativo?  \n",
    "Se define proyecto colaborativo como aquel proyecto que es elaborado utilizando el conocimiento de sus participantes de forma conjunta. \n",
    "4. Que es HTML5?  \n",
    "Por ello, la W3C lanza una quinta versión del lenguaje HTML, HTML5, a fin de estandarizar la forma de presentar el contenido en la Web (del sitio web de W3C).\n",
    "5. Que es un proyecto?  \n",
    "un proyecto es un conjunto autónomo de inversiones, actividades, políticas y medidas institucionales o de otra índole, diseñado para lograr un objetivo específico de desarrollo en un período determinado”."
   ]
  },
  {
   "cell_type": "markdown",
   "id": "67c07aa7",
   "metadata": {},
   "source": [
    "### 2. Generación procedimental de contenido en un videojuego del género MOBA\n",
    "**Año:** 29-Mar-2017  \n",
    "**Autor:** Cannizzo Stacconi, Alejandro    \n",
    "**Link:** http://saber.ucv.ve/handle/10872/15544  \n",
    "**Id:** 5541  \n",
    "**Haystack ID:** 539468"
   ]
  },
  {
   "cell_type": "markdown",
   "id": "19d37b4c",
   "metadata": {},
   "source": [
    "Preguntas y respuestas:\n",
    "1. que es la generacion procedimental de contenido?\n",
    "La Generación Procedimental de Contenido (PCG, por sus siglas en inglés) puede ser definida como la creación de contenido aleatorio o pseudoaleatorio durante la ejecución de una aplicación.\n",
    "2. Que es MOBA?\n",
    "el cual es un género llamado MOBA (Multiplayer Online Battle Arena). Este género es una composición entre estrategia y RPG. El jugador controla un único personaje que es capaz de ganar experiencia y subir de niveles, además de administrar sus recursos y actuar de manera estratégica junto con 4 jugadores aliados para poder cumplir el objetivo final del juego que consiste en vencer al equipo contrario.\n",
    "3. Que es un algortimo evolutivo multi-objeto?\n",
    "Existe un tipo de algoritmo evolutivo denominado MOEA (Multi-Objective Evolutionary Algorithm, o Algoritmo Evolutivo Multi-Objetivo) que funciona de igual manera que un algoritmo evolutivo común.\n",
    "4. Que es un sistema de red?\n",
    "El sistema de red implementado consiste en un modelo cliente-servidor, donde un servidor inicia el juego, y distintos clientes se conectan al mismo a través de la red.\n",
    "5. Que es un algoritmo evolutivo?\n",
    "Son algoritmos utilizados en su mayoría en áreas de inteligencia artificial. Funcionan imitando el comportamiento de los seres vivos en la naturaleza, donde los individuos más aptos sobreviven[16]. La supervivencia del más apto implica que las nuevas generaciones tendrán variaciones de estas mismas características, las cuales les permitirán sobrevivir y reproducirse.\n",
    "\n",
    "\n"
   ]
  },
  {
   "cell_type": "markdown",
   "id": "4f9addde",
   "metadata": {},
   "source": [
    "### 3. Sistema de información para el cálculo de la brecha de perfiles de cargos basado en ontologías\n",
    "**Año:** 28-Mar-2017   \n",
    "**Autor:** Leal Rojas, Edgar Augusto      \n",
    "**Link:** http://saber.ucv.ve/handle/10872/15444  \n",
    "**Id:** 5496  \n",
    "**Haystack ID:** 539465"
   ]
  },
  {
   "cell_type": "markdown",
   "id": "27d009ca",
   "metadata": {},
   "source": [
    "Preguntas y respuestas:\n",
    "1. Que es una ontologia?   \n",
    "Una ontología es una descripción formal y detallada de términos, abstracciones, instancias,\n",
    "propiedades, restricciones, clases, jerarquías, relaciones, características, etc., de un dominio en\n",
    "particular, que puede ser compartido y/o reutilizado; por lo que debe ser legible y libre de\n",
    "ambigüedades\n",
    "2. Que es protege?  \n",
    "Protégé1 es un editor de ontologías y bases de conocimiento gratis y abierto (actualmente se encuentra disponible la versión 4.0 en formato libre)\n",
    "3. Que es un sistema de informacion?\n",
    "Un SI puede definirse técnicamente como un conjunto de componentes interrelacionados que\n",
    "permiten capturar, procesar, almacenar y distribuir información para apoyar la toma de decisiones y el\n",
    "control en una organización\n",
    "4. Que es la web semantica?\n",
    "La Web Semántica es una extensión de la Web actual, en la cual la información tiene un significado\n",
    "bien definido para permitir que las computadoras y las personas trabajen cooperativamente.\n",
    "5. Que es una aplicacion web?\n",
    "En la ingeniería de software se denomina aplicación Web a aquellas herramientas que los\n",
    "usuarios pueden utilizar accediendo a un servidor Web a través de Internet o de una intranet mediante\n",
    "un navegador. En otras palabras, es una aplicación software que se codifica en un lenguaje soportado\n",
    "por los navegadores Web.\n"
   ]
  },
  {
   "cell_type": "markdown",
   "id": "f7ff34ec",
   "metadata": {},
   "source": [
    "### 4. Diseño e implementación de un sistema para la gestión de viáticos\n",
    "**Año:** 28-Mar-2017   \n",
    "**Autor:** Mora, César; Delgado, Viviana      \n",
    "**Link:** http://saber.ucv.ve/handle/10872/15449  \n",
    "**Id:** 5501  \n",
    "**Haystack ID:** 539466"
   ]
  },
  {
   "cell_type": "markdown",
   "id": "4880b464",
   "metadata": {},
   "source": [
    "Preguntas y respuestas:\n",
    "1. Que es la programacion extrema?\n",
    "XP es la primera metodología ágil y la que le dio conciencia al movimiento actual de metodologías ágiles.\n",
    "2. Que es ruby?\n",
    "Ruby [5] es un lenguaje de programación interpretado, reflexivo y orientado a objetos, creado por el programador japonés Yukihiro Matz Matsumoto, quien comenzó a trabajar en Ruby en 1993, y lo presentó públicamente en 1995. Combina una sintaxis inspirada en Python y Perl con características de programación orientada a objetos similares a Smalltalk.\n",
    "3. Que es postgreSQL?\n",
    "PostgreSQL es un sistema de gestión de bases de datos objeto-relacional, distribuido bajo licencia BSD y con su código fuente disponible libremente.\n",
    "4. Que es una historia de usuario?\n",
    "Las historias de usuario son la técnica utilizada en XP para especificar los requisitos del software.\n",
    "5. Que es Ruby on Rails?\n",
    "Ruby on Rails, también conocido como RoR o Rails es un framework de aplicaciones web de código abierto escrito en el lenguaje de programación Ruby, siguiendo el paradigma de la arquitectura Modelo Vista Controlador (MVC)"
   ]
  },
  {
   "cell_type": "markdown",
   "id": "aec7a2f4",
   "metadata": {},
   "source": [
    "## 5. Implementación de los módulos de adquisición y almacenamiento de un prototipo para el archivado de sitios Web en Venezuela.\n",
    "**Año:** 29-Mar-2017   \n",
    "**Autor:** Rivero Perdomo, Lorena Elisa; García Laguado, Jonathan Eduardo     \n",
    "**Link:** http://saber.ucv.ve/handle/10872/15541  \n",
    "**Id:** 5538  \n",
    "**Haystack ID:** 539467"
   ]
  },
  {
   "cell_type": "markdown",
   "id": "55adf1a3",
   "metadata": {},
   "source": [
    "Preguntas y respuestas:\n",
    "1. Que es la preservacion web?\n",
    "La preservación Web puede definirse como el proceso de recolectar información disponible en la World Wide Web, almacenarla en un formato de archivo, y garantizar que el ontenido pueda ser consultado posteriormente\n",
    "2. Que es el patrimonio web?\n",
    "El patrimonio Web es un subconjunto del patrimonio digital, incluye a los documentos Web así como los elementos que la constituyen (hojas de estilo, imágenes, scripts).\n",
    "3. Que es informacion?\n",
    "La información se define como cualquier tipo de conocimiento que se pueden\n",
    "intercambiar, y es expresada o representada por un tipo de datos, que puede incluir\n",
    "información adicional acerca de su significado. En general, se puede decir que \"los datos\n",
    "interpretados con su representación de información, proporcionan información”.\n",
    "4. Que es la web oculta?\n",
    "La parte restante fuera del alcance de los rastreadores es conocida como \"Web profunda\" o \"Web oculta\"\n",
    "5. Que es Sorl?\n",
    "Es una plataforma o motor de búsqueda de código abierto escrita en java y basada\n",
    "en el proyecto Apache Lucene, una librería que proporciona búsquedas de texto de alto endimiento haciendo uso de índices invertidos, lo que logra una mayor velocidad y lexibilidad en la búsqueda de cadenas de texto y menor dependencia del tamaño del índice."
   ]
  },
  {
   "cell_type": "markdown",
   "id": "d0d19f5e",
   "metadata": {},
   "source": [
    "## 6. Diseño y desarrollo de una aplicación móvil para georeferenciar sitios de interés el archivado de sitios Web en Venezuela. \n",
    "**Año:** 30-Mar-2017   \n",
    "**Autor:** Davis Escalona, Andrew Olivier     \n",
    "**Link:** http://saber.ucv.ve/handle/10872/15573  \n",
    "**Id:** 5576  \n",
    "**Haystack ID:** 539469\n"
   ]
  },
  {
   "cell_type": "markdown",
   "id": "fc77bfff",
   "metadata": {},
   "source": [
    "Preguntas y respuestas:\n",
    "1. Que es un dispositivo movil?\n",
    "Cuando se habla de dispositivos móviles, nos referimos a todo aquel dispositivo electrónico que es capaz de conectarse a una red móvil para transferir voz y/o datos.\n",
    "2. Que es un proveedor de contenido?\n",
    "Es la entidad encargada de generar y/o proveer el contenido suministrado a los dispositivos móviles.\n",
    "3. Que es una red de comunicacion?\n",
    "Es la red de telefonía móvil utilizada para el intercambio de información entre el dispositivo y los proveedores de contenido. Es la red que utiliza el dispositivo para comunicarse (por ejemplo, una red 3G).\n",
    "4. que es un mapa urbano\n",
    "Este mapa solo contiene información de tipo urbano, relacionada a calles, vías, áreas administrativas, líneas de transporte, etc. No posee información de tipo satelital o física.\n",
    "5. que es un servicio basado en localizacion?\n",
    "Servicio Basado en Localización (SBL) como un servicio que obtiene información relacionada a la ubicación geográfica de un dispositivo.\n",
    "\n"
   ]
  },
  {
   "cell_type": "markdown",
   "id": "1792ae2c",
   "metadata": {},
   "source": [
    "## 7. Sistema de información para la automatización del método de desarrollo de la arquitectura empresarial\n",
    "**Año:** 30-Mar-2017   \n",
    "**Autor:** Osuna Barrios, José Misael     \n",
    "**Link:** http://saber.ucv.ve/handle/10872/15574   \n",
    "**Id:** 5577    \n",
    "**Haystack ID:** 539470"
   ]
  },
  {
   "cell_type": "markdown",
   "id": "0d468310",
   "metadata": {},
   "source": [
    "Preguntas y respuestas:\n",
    "1. Que es jquery?\n",
    "jQuery es una biblioteca de JavaScript, creada inicialmente por John Resig, que permite simplificar la manera de interactuar con los documentos HTML, manipular el árbol DOM, manejar eventos, desarrollar animaciones y agregar interacción con la técnica AJAX a páginas web.\n",
    "2. Que es javascript? \n",
    "JavaScript es un lenguaje interpretado orientado a objetos, que permite crear interacciones entre los componentes de una página Web, el estado del navegador y las operaciones realizadas por los usuarios.\n",
    "3. Hojas de Estilo en Cascada, CSS?\n",
    "Las Hojas de Estilo en Cascada (Cascading Style Sheets) ó CSS, es el lenguaje usado para describir la presentación de documentos HTML o XML (CSS, 2012), Es una herramienta que proporciona al diseñador de documentos HTML un control total sobre la forma en que estos se visualizan o imprimen.\n",
    "4. que es un servidor web?\n",
    "Un servidor web, es un programa que implementa el protocolo http (hypertext transfer protocol).\n",
    "5. que son metodologias agiles?\n",
    "Las metodologías ágiles surgen como respuesta a los problemas de las metodologías tradicionales, basándose en retrasar las decisiones y en realizar planificaciones adaptativas.\n",
    "\n"
   ]
  },
  {
   "cell_type": "markdown",
   "id": "94742ea2",
   "metadata": {},
   "source": [
    "## 8. Desarrollo de un sistema de información geográfica (SIG) para la dirección de catastro de la alcaldía del municipio Bolivariano Libertador\n",
    "**Año:** 3-Apr-2017      \n",
    "**Autor:** Gorri Aguilar, Adriana Carolina; Barragán Bautista, Gonzalo Andrés        \n",
    "**Link:** http://saber.ucv.ve/handle/10872/15609   \n",
    "**Id:** 5583   \n",
    "**Haystack ID:** 539471"
   ]
  },
  {
   "cell_type": "markdown",
   "id": "fbad2926",
   "metadata": {},
   "source": [
    "Preguntas y respuestas:\n",
    "1. Que es un SIG\n",
    "un SIG es una herramienta de hardware, software, aplicaciones informáticas,\n",
    "datos y procesos interrelacionados para capturar, almacenar, analizar, transformar y presentar gráficamente los datos u objetos referenciados espacialmente.\n",
    "2. que es una red?\n",
    "Una red es una interconexión de computadoras a través de un medio alámbrico o inalámbrico, que permite al SIG establecer comunicación con otros sistemas a fin de mantener la información actualizada y evolucionar al ritmo de las nuevas tecnologías.\n",
    "3. que es UML\n",
    "Es un lenguaje grafico para visualizar, especificar, construir y documentar un sistema; incluyendo aspectos conceptuales (procesos de negocios y funciones del sistema) y aspectos concretos (expresiones de lenguajes de programación, esquemas de base de datos y componentes reutilizables).\n",
    "4. que es extreme programming?\n",
    "Es un enfoque de la ingeniería del software formulado por Kent Beck; que se diferencia de las metodologías de desarrollo tradicionales porque hace más énfasis en la adaptabilidad que en la previsibilidad\n",
    "5. Que es MVC?\n",
    "El Modelo Vista Controlador (MVC) es un patrón de arquitectura de software descrito en 1979 por Trygve Reenskaug, que a fin de mejorar el desarrollo y mantenimiento de un sistema; separa datos de aplicación, interfaz de usuario, y lógica de control en tres componentes distintos."
   ]
  },
  {
   "cell_type": "markdown",
   "id": "995f157d",
   "metadata": {},
   "source": [
    "## 9. \n",
    "**Año:**    \n",
    "**Autor:**      \n",
    "**Link:** \n",
    "**Id:**  \n",
    "**Haystack ID:** "
   ]
  },
  {
   "cell_type": "markdown",
   "id": "3d9680ed",
   "metadata": {},
   "source": [
    "Preguntas y respuestas:"
   ]
  },
  {
   "cell_type": "markdown",
   "id": "da81b3ba",
   "metadata": {},
   "source": [
    "## 10. \n",
    "**Año:**    \n",
    "**Autor:**      \n",
    "**Link:** \n",
    "**Id:**  \n",
    "**Haystack ID:** "
   ]
  },
  {
   "cell_type": "markdown",
   "id": "2a011ea4",
   "metadata": {},
   "source": [
    "Preguntas y respuestas:"
   ]
  },
  {
   "cell_type": "markdown",
   "id": "71d49417",
   "metadata": {},
   "source": [
    "## 11. \n",
    "**Año:**    \n",
    "**Autor:**      \n",
    "**Link:** \n",
    "**Id:**  \n",
    "**Haystack ID:** "
   ]
  },
  {
   "cell_type": "markdown",
   "id": "1a6cf83c",
   "metadata": {},
   "source": [
    "Preguntas y respuestas:"
   ]
  },
  {
   "cell_type": "markdown",
   "id": "a794f52d",
   "metadata": {},
   "source": [
    "## 12. \n",
    "**Año:**    \n",
    "**Autor:**      \n",
    "**Link:** \n",
    "**Id:**  \n",
    "**Haystack ID:** "
   ]
  },
  {
   "cell_type": "markdown",
   "id": "55659328",
   "metadata": {},
   "source": [
    "Preguntas y respuestas:"
   ]
  },
  {
   "cell_type": "markdown",
   "id": "fe8d5de8",
   "metadata": {},
   "source": [
    "## 13. \n",
    "**Año:**    \n",
    "**Autor:**      \n",
    "**Link:** \n",
    "**Id:**  \n",
    "**Haystack ID:** "
   ]
  },
  {
   "cell_type": "markdown",
   "id": "3a18dd01",
   "metadata": {},
   "source": [
    "Preguntas y respuestas:"
   ]
  },
  {
   "cell_type": "markdown",
   "id": "3c0eba59",
   "metadata": {},
   "source": [
    "## 14. \n",
    "**Año:**    \n",
    "**Autor:**      \n",
    "**Link:** \n",
    "**Id:**  \n",
    "**Haystack ID:** "
   ]
  },
  {
   "cell_type": "markdown",
   "id": "96ed4af8",
   "metadata": {},
   "source": [
    "Preguntas y respuestas:"
   ]
  },
  {
   "cell_type": "markdown",
   "id": "dd0c4145",
   "metadata": {},
   "source": [
    "## 15. \n",
    "**Año:**    \n",
    "**Autor:**      \n",
    "**Link:** \n",
    "**Id:**  \n",
    "**Haystack ID:** "
   ]
  },
  {
   "cell_type": "markdown",
   "id": "8989cd8a",
   "metadata": {},
   "source": [
    "Preguntas y respuestas:"
   ]
  },
  {
   "cell_type": "markdown",
   "id": "713703ef",
   "metadata": {},
   "source": [
    "## 16. \n",
    "**Año:**    \n",
    "**Autor:**      \n",
    "**Link:** \n",
    "**Id:**  \n",
    "**Haystack ID:** "
   ]
  },
  {
   "cell_type": "markdown",
   "id": "2f1b80d0",
   "metadata": {},
   "source": [
    "Preguntas y respuestas:"
   ]
  },
  {
   "cell_type": "markdown",
   "id": "f7ee48d5",
   "metadata": {},
   "source": [
    "## 17. \n",
    "**Año:**    \n",
    "**Autor:**      \n",
    "**Link:** \n",
    "**Id:**  \n",
    "**Haystack ID:** "
   ]
  },
  {
   "cell_type": "markdown",
   "id": "e686e2ad",
   "metadata": {},
   "source": [
    "Preguntas y respuestas:"
   ]
  },
  {
   "cell_type": "markdown",
   "id": "fb12cf41",
   "metadata": {},
   "source": [
    "## 18. \n",
    "**Año:**    \n",
    "**Autor:**      \n",
    "**Link:** \n",
    "**Id:**  \n",
    "**Haystack ID:** "
   ]
  },
  {
   "cell_type": "markdown",
   "id": "bc4df0ca",
   "metadata": {},
   "source": [
    "Preguntas y respuestas:"
   ]
  },
  {
   "cell_type": "markdown",
   "id": "313f6a3e",
   "metadata": {},
   "source": [
    "## 19. \n",
    "**Año:**    \n",
    "**Autor:**      \n",
    "**Link:** \n",
    "**Id:**  \n",
    "**Haystack ID:** "
   ]
  },
  {
   "cell_type": "markdown",
   "id": "617a58e8",
   "metadata": {},
   "source": [
    "Preguntas y respuestas:"
   ]
  },
  {
   "cell_type": "markdown",
   "id": "ae0985d5",
   "metadata": {},
   "source": [
    "## 20. \n",
    "**Año:**    \n",
    "**Autor:**      \n",
    "**Link:** \n",
    "**Id:**  \n",
    "**Haystack ID:** "
   ]
  },
  {
   "cell_type": "code",
   "execution_count": null,
   "id": "39bbca90",
   "metadata": {},
   "outputs": [],
   "source": [
    "Preguntas y respuestas:"
   ]
  },
  {
   "cell_type": "code",
   "execution_count": null,
   "id": "2b466bca",
   "metadata": {},
   "outputs": [],
   "source": []
  }
 ],
 "metadata": {
  "kernelspec": {
   "display_name": "env",
   "language": "python",
   "name": "env"
  },
  "language_info": {
   "codemirror_mode": {
    "name": "ipython",
    "version": 3
   },
   "file_extension": ".py",
   "mimetype": "text/x-python",
   "name": "python",
   "nbconvert_exporter": "python",
   "pygments_lexer": "ipython3",
   "version": "3.8.10"
  }
 },
 "nbformat": 4,
 "nbformat_minor": 5
}
