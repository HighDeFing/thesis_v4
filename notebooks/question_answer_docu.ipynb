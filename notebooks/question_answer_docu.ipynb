{
 "cells": [
  {
   "cell_type": "markdown",
   "id": "db7f14f4",
   "metadata": {},
   "source": [
    "Estas celdas son para documentar como son los documentos etiquetados y cuales son las preguntas y las respuestas.\n",
    "\n",
    "# Datos de entrenamiento\n",
    "\n",
    "Estos son los datos etiquetados para entrenar los modelos.\n",
    "\n"
   ]
  },
  {
   "cell_type": "markdown",
   "id": "e3174b37",
   "metadata": {},
   "source": [
    "### 1. Aplicación para la Gestión de Proyectos en Ambientes Sociales y Colaborativos bajo el enfoque de la Web 2.0\n",
    "**Año:** 30-Mar-2017  \n",
    "**Autor:** Conesa Izquierdo, Elisa  \n",
    "**Link:** http://saber.ucv.ve/handle/10872/15575  \n",
    "**Id:** 5567  \n",
    "**Haystack ID:** 539463 "
   ]
  },
  {
   "cell_type": "markdown",
   "id": "81271532",
   "metadata": {},
   "source": [
    "La formaluacionde las preguntas sale del mismo hecho de la respuesta, es decir, se hacer preguntas a respuestas ya encontradas.\n",
    "\n",
    "Preguntas y respuestas:\n",
    "1. Que es el software open source?  \n",
    "Aquel software cuyo código pueda ser visto, editado y/o distribuido sin infligir derechos de autor es llamado software open source.\n",
    "2. Que es una herramienta?  \n",
    "Una herramienta es cualquier componente que facilita la realización de una tarea\n",
    "3. Que es un proyecto colaborativo?  \n",
    "Se define proyecto colaborativo como aquel proyecto que es elaborado utilizando el conocimiento de sus participantes de forma conjunta. \n",
    "4. Que es HTML5?  \n",
    "Por ello, la W3C lanza una quinta versión del lenguaje HTML, HTML5, a fin de estandarizar la forma de presentar el contenido en la Web (del sitio web de W3C).\n",
    "5. Que es un proyecto?  \n",
    "un proyecto es un conjunto autónomo de inversiones, actividades, políticas y medidas institucionales o de otra índole, diseñado para lograr un objetivo específico de desarrollo en un período determinado”."
   ]
  },
  {
   "cell_type": "markdown",
   "id": "67c07aa7",
   "metadata": {},
   "source": [
    "### 2. Generación procedimental de contenido en un videojuego del género MOBA\n",
    "**Año:** 29-Mar-2017  \n",
    "**Autor:** Cannizzo Stacconi, Alejandro    \n",
    "**Link:** http://saber.ucv.ve/handle/10872/15544  \n",
    "**Id:** 5541  \n",
    "**Haystack ID:** 539468"
   ]
  },
  {
   "cell_type": "markdown",
   "id": "19d37b4c",
   "metadata": {},
   "source": [
    "Preguntas y respuestas:\n",
    "1. que es la generacion procedimental de contenido?   \n",
    "La Generación Procedimental de Contenido (PCG, por sus siglas en inglés) puede ser definida como la creación de contenido aleatorio o pseudoaleatorio durante la ejecución de una aplicación.\n",
    "2. Que es MOBA?   \n",
    "el cual es un género llamado MOBA (Multiplayer Online Battle Arena). Este género es una composición entre estrategia y RPG. El jugador controla un único personaje que es capaz de ganar experiencia y subir de niveles, además de administrar sus recursos y actuar de manera estratégica junto con 4 jugadores aliados para poder cumplir el objetivo final del juego que consiste en vencer al equipo contrario.\n",
    "3. Que es un algortimo evolutivo multi-objeto?   \n",
    "Existe un tipo de algoritmo evolutivo denominado MOEA (Multi-Objective Evolutionary Algorithm, o Algoritmo Evolutivo Multi-Objetivo) que funciona de igual manera que un algoritmo evolutivo común.\n",
    "4. Que es un sistema de red?   \n",
    "El sistema de red implementado consiste en un modelo cliente-servidor, donde un servidor inicia el juego, y distintos clientes se conectan al mismo a través de la red.\n",
    "5. Que es un algoritmo evolutivo?   \n",
    "Son algoritmos utilizados en su mayoría en áreas de inteligencia artificial. Funcionan imitando el comportamiento de los seres vivos en la naturaleza, donde los individuos más aptos sobreviven[16]. La supervivencia del más apto implica que las nuevas generaciones tendrán variaciones de estas mismas características, las cuales les permitirán sobrevivir y reproducirse.\n",
    "\n",
    "\n"
   ]
  },
  {
   "cell_type": "markdown",
   "id": "4f9addde",
   "metadata": {},
   "source": [
    "### 3. Sistema de información para el cálculo de la brecha de perfiles de cargos basado en ontologías\n",
    "**Año:** 28-Mar-2017   \n",
    "**Autor:** Leal Rojas, Edgar Augusto      \n",
    "**Link:** http://saber.ucv.ve/handle/10872/15444  \n",
    "**Id:** 5496  \n",
    "**Haystack ID:** 539465"
   ]
  },
  {
   "cell_type": "markdown",
   "id": "27d009ca",
   "metadata": {},
   "source": [
    "Preguntas y respuestas:\n",
    "1. Que es una ontologia?   \n",
    "Una ontología es una descripción formal y detallada de términos, abstracciones, instancias,\n",
    "propiedades, restricciones, clases, jerarquías, relaciones, características, etc., de un dominio en\n",
    "particular, que puede ser compartido y/o reutilizado; por lo que debe ser legible y libre de\n",
    "ambigüedades\n",
    "2. Que es protege?   \n",
    "Protégé1 es un editor de ontologías y bases de conocimiento gratis y abierto (actualmente se encuentra disponible la versión 4.0 en formato libre)\n",
    "3. Que es un sistema de informacion?   \n",
    "Un SI puede definirse técnicamente como un conjunto de componentes interrelacionados que\n",
    "permiten capturar, procesar, almacenar y distribuir información para apoyar la toma de decisiones y el\n",
    "control en una organización\n",
    "4. Que es la web semantica?   \n",
    "La Web Semántica es una extensión de la Web actual, en la cual la información tiene un significado\n",
    "bien definido para permitir que las computadoras y las personas trabajen cooperativamente.\n",
    "5. Que es una aplicacion web?   \n",
    "En la ingeniería de software se denomina aplicación Web a aquellas herramientas que los\n",
    "usuarios pueden utilizar accediendo a un servidor Web a través de Internet o de una intranet mediante\n",
    "un navegador. En otras palabras, es una aplicación software que se codifica en un lenguaje soportado\n",
    "por los navegadores Web.\n"
   ]
  },
  {
   "cell_type": "markdown",
   "id": "f7ff34ec",
   "metadata": {},
   "source": [
    "### 4. Diseño e implementación de un sistema para la gestión de viáticos\n",
    "**Año:** 28-Mar-2017   \n",
    "**Autor:** Mora, César; Delgado, Viviana      \n",
    "**Link:** http://saber.ucv.ve/handle/10872/15449  \n",
    "**Id:** 5501  \n",
    "**Haystack ID:** 539466"
   ]
  },
  {
   "cell_type": "markdown",
   "id": "4880b464",
   "metadata": {},
   "source": [
    "Preguntas y respuestas:\n",
    "1. Que es la programacion extrema?    \n",
    "XP es la primera metodología ágil y la que le dio conciencia al movimiento actual de metodologías ágiles.\n",
    "2. Que es ruby?   \n",
    "Ruby [5] es un lenguaje de programación interpretado, reflexivo y orientado a objetos, creado por el programador japonés Yukihiro Matz Matsumoto, quien comenzó a trabajar en Ruby en 1993, y lo presentó públicamente en 1995. Combina una sintaxis inspirada en Python y Perl con características de programación orientada a objetos similares a Smalltalk.\n",
    "3. Que es postgreSQL?   \n",
    "PostgreSQL es un sistema de gestión de bases de datos objeto-relacional, distribuido bajo licencia BSD y con su código fuente disponible libremente.\n",
    "4. Que es una historia de usuario?   \n",
    "Las historias de usuario son la técnica utilizada en XP para especificar los requisitos del software.\n",
    "5. Que es Ruby on Rails?   \n",
    "Ruby on Rails, también conocido como RoR o Rails es un framework de aplicaciones web de código abierto escrito en el lenguaje de programación Ruby, siguiendo el paradigma de la arquitectura Modelo Vista Controlador (MVC)"
   ]
  },
  {
   "cell_type": "markdown",
   "id": "aec7a2f4",
   "metadata": {},
   "source": [
    "## 5. Implementación de los módulos de adquisición y almacenamiento de un prototipo para el archivado de sitios Web en Venezuela.\n",
    "**Año:** 29-Mar-2017   \n",
    "**Autor:** Rivero Perdomo, Lorena Elisa; García Laguado, Jonathan Eduardo     \n",
    "**Link:** http://saber.ucv.ve/handle/10872/15541  \n",
    "**Id:** 5538  \n",
    "**Haystack ID:** 539467"
   ]
  },
  {
   "cell_type": "markdown",
   "id": "55adf1a3",
   "metadata": {},
   "source": [
    "Preguntas y respuestas:\n",
    "1. Que es la preservacion web?   \n",
    "La preservación Web puede definirse como el proceso de recolectar información disponible en la World Wide Web, almacenarla en un formato de archivo, y garantizar que el ontenido pueda ser consultado posteriormente\n",
    "2. Que es el patrimonio web?   \n",
    "El patrimonio Web es un subconjunto del patrimonio digital, incluye a los documentos Web así como los elementos que la constituyen (hojas de estilo, imágenes, scripts).\n",
    "3. Que es informacion?   \n",
    "La información se define como cualquier tipo de conocimiento que se pueden\n",
    "intercambiar, y es expresada o representada por un tipo de datos, que puede incluir\n",
    "información adicional acerca de su significado. En general, se puede decir que \"los datos\n",
    "interpretados con su representación de información, proporcionan información”.\n",
    "4. Que es la web oculta?  \n",
    "La parte restante fuera del alcance de los rastreadores es conocida como \"Web profunda\" o \"Web oculta\"\n",
    "5. Que es Sorl?   \n",
    "Es una plataforma o motor de búsqueda de código abierto escrita en java y basada\n",
    "en el proyecto Apache Lucene, una librería que proporciona búsquedas de texto de alto endimiento haciendo uso de índices invertidos, lo que logra una mayor velocidad y lexibilidad en la búsqueda de cadenas de texto y menor dependencia del tamaño del índice."
   ]
  },
  {
   "cell_type": "markdown",
   "id": "d0d19f5e",
   "metadata": {},
   "source": [
    "## 6. Diseño y desarrollo de una aplicación móvil para georeferenciar sitios de interés el archivado de sitios Web en Venezuela. \n",
    "**Año:** 30-Mar-2017   \n",
    "**Autor:** Davis Escalona, Andrew Olivier     \n",
    "**Link:** http://saber.ucv.ve/handle/10872/15573  \n",
    "**Id:** 5576  \n",
    "**Haystack ID:** 539469\n"
   ]
  },
  {
   "cell_type": "markdown",
   "id": "fc77bfff",
   "metadata": {},
   "source": [
    "Preguntas y respuestas:\n",
    "1. Que es un dispositivo movil?   \n",
    "Cuando se habla de dispositivos móviles, nos referimos a todo aquel dispositivo electrónico que es capaz de conectarse a una red móvil para transferir voz y/o datos.\n",
    "2. Que es un proveedor de contenido?   \n",
    "Es la entidad encargada de generar y/o proveer el contenido suministrado a los dispositivos móviles.\n",
    "3. Que es una red de comunicacion?   \n",
    "Es la red de telefonía móvil utilizada para el intercambio de información entre el dispositivo y los proveedores de contenido. Es la red que utiliza el dispositivo para comunicarse (por ejemplo, una red 3G).\n",
    "4. que es un mapa urbano   \n",
    "Este mapa solo contiene información de tipo urbano, relacionada a calles, vías, áreas administrativas, líneas de transporte, etc. No posee información de tipo satelital o física.\n",
    "5. que es un servicio basado en localizacion?   \n",
    "Servicio Basado en Localización (SBL) como un servicio que obtiene información relacionada a la ubicación geográfica de un dispositivo.\n",
    "\n"
   ]
  },
  {
   "cell_type": "markdown",
   "id": "1792ae2c",
   "metadata": {},
   "source": [
    "## 7. Sistema de información para la automatización del método de desarrollo de la arquitectura empresarial\n",
    "**Año:** 30-Mar-2017   \n",
    "**Autor:** Osuna Barrios, José Misael     \n",
    "**Link:** http://saber.ucv.ve/handle/10872/15574   \n",
    "**Id:** 5577    \n",
    "**Haystack ID:** 539470"
   ]
  },
  {
   "cell_type": "markdown",
   "id": "0d468310",
   "metadata": {},
   "source": [
    "Preguntas y respuestas:\n",
    "1. Que es jquery?   \n",
    "jQuery es una biblioteca de JavaScript, creada inicialmente por John Resig, que permite simplificar la manera de interactuar con los documentos HTML, manipular el árbol DOM, manejar eventos, desarrollar animaciones y agregar interacción con la técnica AJAX a páginas web.\n",
    "2. Que es javascript?    \n",
    "JavaScript es un lenguaje interpretado orientado a objetos, que permite crear interacciones entre los componentes de una página Web, el estado del navegador y las operaciones realizadas por los usuarios.\n",
    "3. Hojas de Estilo en Cascada, CSS?   \n",
    "Las Hojas de Estilo en Cascada (Cascading Style Sheets) ó CSS, es el lenguaje usado para describir la presentación de documentos HTML o XML (CSS, 2012), Es una herramienta que proporciona al diseñador de documentos HTML un control total sobre la forma en que estos se visualizan o imprimen.\n",
    "4. que es un servidor web?   \n",
    "Un servidor web, es un programa que implementa el protocolo http (hypertext transfer protocol).\n",
    "5. que son metodologias agiles?   \n",
    "Las metodologías ágiles surgen como respuesta a los problemas de las metodologías tradicionales, basándose en retrasar las decisiones y en realizar planificaciones adaptativas.\n",
    "\n"
   ]
  },
  {
   "cell_type": "markdown",
   "id": "94742ea2",
   "metadata": {},
   "source": [
    "## 8. Desarrollo de un sistema de información geográfica (SIG) para la dirección de catastro de la alcaldía del municipio Bolivariano Libertador\n",
    "**Año:** 3-Apr-2017      \n",
    "**Autor:** Gorri Aguilar, Adriana Carolina; Barragán Bautista, Gonzalo Andrés        \n",
    "**Link:** http://saber.ucv.ve/handle/10872/15609   \n",
    "**Id:** 5583   \n",
    "**Haystack ID:** 539471"
   ]
  },
  {
   "cell_type": "markdown",
   "id": "fbad2926",
   "metadata": {},
   "source": [
    "Preguntas y respuestas:\n",
    "1. Que es un SIG   \n",
    "un SIG es una herramienta de hardware, software, aplicaciones informáticas,\n",
    "datos y procesos interrelacionados para capturar, almacenar, analizar, transformar y presentar gráficamente los datos u objetos referenciados espacialmente.\n",
    "2. que es una red?   \n",
    "Una red es una interconexión de computadoras a través de un medio alámbrico o inalámbrico, que permite al SIG establecer comunicación con otros sistemas a fin de mantener la información actualizada y evolucionar al ritmo de las nuevas tecnologías.\n",
    "3. que es UML   \n",
    "Es un lenguaje grafico para visualizar, especificar, construir y documentar un sistema; incluyendo aspectos conceptuales (procesos de negocios y funciones del sistema) y aspectos concretos (expresiones de lenguajes de programación, esquemas de base de datos y componentes reutilizables).\n",
    "4. que es extreme programming?   \n",
    "Es un enfoque de la ingeniería del software formulado por Kent Beck; que se diferencia de las metodologías de desarrollo tradiciona les porque hace más énfasis en la adaptabilidad que en la previsibilidad\n",
    "5. Que es MVC?   \n",
    "El Modelo Vista Controlador (MVC) es un patrón de arquitectura de software descrito en 1979 por Trygve Reenskaug, que a fin de mejorar el desarrollo y mantenimiento de un sistema; separa datos de aplicación, interfaz de usuario, y lógica de control en tres componentes distintos."
   ]
  },
  {
   "cell_type": "markdown",
   "id": "995f157d",
   "metadata": {},
   "source": [
    "## 9. Desarrollo de un sistema de alquiler de canchas de tenis usando elementos de aplicaciones web enriquecidas\n",
    "**Año:** 3-Apr-2017    \n",
    "**Autor:** Blanco R., Andrés E.      \n",
    "**Link:** http://saber.ucv.ve/handle/10872/15614  \n",
    "**Id:** 5589   \n",
    "**Haystack ID:** 539472"
   ]
  },
  {
   "cell_type": "markdown",
   "id": "3d9680ed",
   "metadata": {},
   "source": [
    "Preguntas y respuestas:\n",
    "1. Que es RIA?   \n",
    "RIA (Rich Internet Application, o Aplicación de Internet Enriquecida) es un tipo de aplicación Web que provee una mayor riqueza interactiva que las aplicaciones Web tradicionales, incorporando características muy similares a las que poseen las aplicaciones de escritorio, las cuales proveen una interacción dinámica y rica en elementos de interfaz.\n",
    "2. Que es laszlo?   \n",
    "Laszlo es una plataforma de código abierto para el desarrollo de RIAs basada en Flash y XML. Esta tecnología utiliza como motor del lado del cliente el FlashPlayer 6.x o una versión superior (éste es incorporado al navegador en forma de plugin); \n",
    "3. Que son los xforms?   \n",
    "XForms (www.w3.org/TR/xforms/) Es un nuevo lenguaje de marcado para formularios Web, diseñado para ser el sustituto de los formularios tradicionales HTML. Este lenguaje permite a los desarrolladores de formularios Web distinguir entre el propósito del formulario y su presentación\n",
    "4. Que es DOM?   \n",
    "Modelo de Objetos del Documento (DOM) provee una estructura de árbol que representa al documento, donde las distintas etiquetas HTML y los cuerpos de las mismas son los nodos del árbol, que a su vez pueden tener nodos hijos según como se encuentre estructurado el documento. El DOM expone la estructura del documento al motor JavaScript, el cual puede modificar sus elementos dinámicamente según se requiera.\n",
    "5. Que es ORM?   \n",
    "ORM (Object-Relational Mapping, o Mapeo Objeto-Relacional) es una técnica de programación que permite integrar lenguajes de programación orientados a objetos con sistemas de bases de datos relacionales; es decir, permite enlazar, o mapear, los objetos del lenguaje de programación con las tablas de una base de datos, procurando resolver el problema de la diferencia de impedancia (Amber, 2006).\n"
   ]
  },
  {
   "cell_type": "markdown",
   "id": "da81b3ba",
   "metadata": {},
   "source": [
    "## 10. Sistema de recolección de estadísticas y generación de reportes web como una extensión del navegador Mozilla Firefox\n",
    "**Año:**  3-Apr-2017    \n",
    "**Autor:** Sánchez Ponte, José Javier; Gil Ramírez, Ángel David      \n",
    "**Link:** http://saber.ucv.ve/handle/10872/15613  \n",
    "**Id:**  5590   \n",
    "**Haystack ID:** 539473"
   ]
  },
  {
   "cell_type": "markdown",
   "id": "2a011ea4",
   "metadata": {},
   "source": [
    "Preguntas y respuestas:\n",
    "1. Que es firefox?   \n",
    "Es un navegador Web de código abierto desarrollado en el lenguaje de programaciónC++ que tiene la capacidad de incorporar cualquier número de aplicaciones comple-mentarias que pueden ejecutarse en máquinas que utilicen la mayoría de los sistemasoperativos de escritorios existentes, tales como: Microsoft Windows, OS X, Linux, Ma-cOS, entre otros [Feldt, 2007].\n",
    "\n",
    "2. Que es CSS?   \n",
    "CSS (Cascading Style Sheets): es el lenguaje utilizado para describir la pre-sentación de documentos HTML o XML. Esto incluye varios lenguajes basados en XMLcomo son XHTML o SVG. \n",
    "3. que es javascript?   \n",
    "JavaScript: es un lenguaje de scripts, interpretado, multiplataforma y parcialmenteorientado a objetos. \n",
    "4. que es XUL   \n",
    "XUL (XML User Interface Language): es el lenguaje XML para interfaces deusuario de Mozilla. Permite crear potentes aplicaciones multiplataforma que puedenejecutarse con conexión a Internet o sin ella; así como permitir que las aplicacionespuedan ser personalizadas con facilidad con texto alternativo, grá�cos, y diseños; \n",
    "5. que son servicios web?   \n",
    "Son un conjunto de aplicaciones o tecnologías con capacidad para interoperar enla Web. Estas aplicaciones o tecnologías intercambian datos entre sí con el objetivode ofrecer unos servicios."
   ]
  },
  {
   "cell_type": "markdown",
   "id": "71d49417",
   "metadata": {},
   "source": [
    "## 11. Simulación microscópica de tráfico vehícular basada en agentes inteligentes\n",
    "**Año:**    4-Apr-2017   \n",
    "**Autor:** Ampuero Anca, Daniel Alejandro; Gómez Ortiz, Jesús Francisco        \n",
    "**Link:** http://saber.ucv.ve/handle/10872/15615   \n",
    "**Id:**  5592  \n",
    "**Haystack ID:** 539474"
   ]
  },
  {
   "cell_type": "markdown",
   "id": "1a6cf83c",
   "metadata": {},
   "source": [
    "Preguntas y respuestas:\n",
    "1. que es una simulacion   \n",
    "Es una técnica numérica para llevar a cabo experimentos en una compu- tadora digital, la cual involucra ciertos tipos de modelos matemáticos y lógicos que describen el comportamiento de un sistema (o subsistema) económico, de negocios, mecánico o f́ısico a través del tiempo\n",
    "2. Que es un agente?   \n",
    "Un agente es todo aquello que puede considerarse que percibe su ambiente mediante sensores y que responde o actúa en tal ambiente por medio de efectores.\n",
    "3. que es un sistema multiagente?   \n",
    "En general, los sistemas multiagentes son sistemas computacionales en los cuales varios agentes semi-autónomos interactúan o trabajan juntos para realizar algún conjunto de tareas o satisfacer algún conjunto de metas. Estos sistemas pueden involucrar agentes computacionales que sean homogéneos o heterogéneos y cuyas metas pueden ser comunes o no comunes.\n",
    "4. Que es maven?   \n",
    "Maven es una herramienta de software para la administración y construcción de proyectos. Aún cuando es usado primordialmente para proyectos en Java, puede ser usado también para construir y administrar proyectos escritos en C#, Ruby y Scala, entre otros.\n",
    "5. que es mercurial   \n",
    "Mercurial es una herramienta de control de versiones gratuita y distribuida. Ésta permite manipular proyectos de cualquier tamaño a la vez que se usa una interfaz intuitiva. Es fácil de usar y dif́ıcil de dañar, haciéndola ideal para cualquiera que trabaje con archivos versionados. \n"
   ]
  },
  {
   "cell_type": "markdown",
   "id": "a794f52d",
   "metadata": {},
   "source": [
    "## 12. Automatización de trazado cefalométrico lateral para el diagnóstico en ortodoncia\n",
    "**Año:** 4-Apr-2017      \n",
    "**Autor:** Piña, Jhonattan David        \n",
    "**Link:** http://saber.ucv.ve/handle/10872/15616  \n",
    "**Id:** 5593    \n",
    "**Haystack ID:** 539475"
   ]
  },
  {
   "cell_type": "markdown",
   "id": "55659328",
   "metadata": {},
   "source": [
    "Preguntas y respuestas:\n",
    "1. que es la cefalometría   \n",
    "Se conoce como cefalometŕıa al proceso de obtención, análisis y procesamiento, de medidas del cráneo humano. Los estudios cefalométricos tienen aplicación práctica en la evaluación de las v́ıas aéreas superiores.\n",
    "2. que es cefalometrico de ricketts?   \n",
    "El análisis cefalométrico de Ricketts se inició en 1957, y desde esa fecha hasta nues- tros d́ıas ha experimentado un gran desarrollo, convirtiendose en un metodo complejo que utiliza varias incidencias y decenas de puntos cefalométricos.\n",
    "3. que es la cefalometria lateral de mcnamara?   \n",
    "Cefalometŕıa lateral de McNamara James McNamara utilizó medidas obtenidas de otros analisis cefalométricos, prin- cipalmente de Ricketts y Harvold [17]. Su análisis mejora los métodos de ciruǵıa or- tognática y terapia funcional, en el que no solamente son posibles los cambios a nivel dentario, sino tambien a nivel óseo.\n",
    "4. que es Cephx   \n",
    "CephX El sistema CephX 1 permite el almacenaje y retiro de todas las historias relacionadas con tratamientos ortodónticos, que pueden ser accedidos en cualquier momento, en cualquier lugar donde se disponga de conexión a Internet.\n",
    "5. Que es Quick Ceph Systems   \n",
    "Quick Ceph Systems fue fundada por el ortodoncista y especialista en software Gunther Blaseio D.M.D., M.S. en 1986. Desde su concepción, la compañ́ıa ha producido software de diagnóstico y tratamiento de pacientes para ortodoncistas y cirujanos maxilo-faciales."
   ]
  },
  {
   "cell_type": "markdown",
   "id": "fe8d5de8",
   "metadata": {},
   "source": [
    "## 13. Prototipo para un archivo de documentos digitales provenientes de la Web. panel de control, virtualización y programación en la nube\n",
    "**Año:** 4-Apr-2017      \n",
    "**Autor:** Arévalo S., Vanessa C.     \n",
    "**Link:** http://saber.ucv.ve/handle/10872/15617   \n",
    "**Id:**  5594   \n",
    "**Haystack ID:** 539476"
   ]
  },
  {
   "cell_type": "markdown",
   "id": "3a18dd01",
   "metadata": {},
   "source": [
    "Preguntas y respuestas:\n",
    "1. que es la preservacion digital   \n",
    "Preservación Digital Se puede entender por preservación digital la preservación de los artefactos f́ısicos mediante su digitalización, pero también la preservación de los propios re- cursos digitale\n",
    "2. Que es el patrimonio digital   \n",
    "El patrimonio digital se compone de elementos informáticos de valor per- durable, dignos de ser conservados para las generaciones futuras, y que proceden de comunidades, industrias, sectores y regiones diferentes\n",
    "3. que es el archivo de internet   \n",
    "Internet Archive El Archivo de Internet fue fundado en 1996 con el intento de preservar lo que es posiblemente el archivo de crecimiento más rápido que en la expresión de la humanidad se haya creado. El estado actual de la tecnoloǵıa digital y el internet hace factible para el Archivo alcanzar la misión declarada de acceso universal para el conocimiento de la humanidad\n",
    "4. que es the weyback machine   \n",
    "The Wayback Machine Es un archivo histórico que almacena páginas web desde hace más de una década. Rastrea y guarda sitios web completos, imágenes, documentos y todo lo que pueda ser tomado en cuenta para mantener en el tiempo.\n",
    "5. que es Ruby on Rails?   \n",
    "Ruby on Rails es un framework de desarrollo de aplicaciones Web el cual fue constrúıdo usando el lenguaje de programación Ruby. Se dice que por sus caracteŕısticas únicas y filosof́ıa de diseño permite la simplificación e integración de funcionalidad aśı como un fácil desarrollo y mantenimiento.\n",
    "\n"
   ]
  },
  {
   "cell_type": "markdown",
   "id": "3c0eba59",
   "metadata": {},
   "source": [
    "## 14. Diseño e implementación de un sistema automatizado de modelaje meteorológico interactivo\n",
    "**Año:**  4-Apr-2017    \n",
    "**Autor:** Urrea F., Jonathan E.       \n",
    "**Link:** http://saber.ucv.ve/handle/10872/15618   \n",
    "**Id:**  5595   \n",
    "**Haystack ID:** 539477"
   ]
  },
  {
   "cell_type": "markdown",
   "id": "96ed4af8",
   "metadata": {},
   "source": [
    "Preguntas y respuestas:\n",
    "1. que es temperatura   \n",
    "Es el grado de calor y de frío del ambiente, como se indica en una escala determinada. En observaciones de la superficie, se refiere principalmente al aire libre o temperatura ambiental cerca a la superficie de la tierra. Los valores válidos que puede reportar una estación meteorológica están entre -60 ºF (-51 ºC) hasta 130 ºF (54.4 ºC). \n",
    "2. que es punto de rocio?   \n",
    "Punto de Rocío Es la temperatura a partir de la cual empieza a condensarse el vapor de agua contenido en el aire produciendo rocío, neblina, o en el caso de que la temperatura sea inferior a 0ºC, escarcha. \n",
    "3. que es la direccion del viento?   \n",
    "Dirección del Viento La dirección se mide en grados, de la cual el viento sopla con dirección al norte. La dirección del viento será determinada calculando el promedio de la dirección durante un período de 2 minutos. Los valores estarían entre 0º y 359º.\n",
    "4. que son modelos meteorologicos   \n",
    "Modelos meteorológicos Son programas informáticos que producen información meteorológica correspondiente a un momento en el futuro para determinados puntos del planeta y ciertas altitudes\n",
    "5. que es el modelo WRF   \n",
    "Modelo WRF El Modelo WRF (Weather Research and Forecasting) es un modelo de predicción numérica del tiempo a mesoescala diseñado para servir tanto a la predicción operativa y las necesidades de la investigación atmosférica."
   ]
  },
  {
   "cell_type": "markdown",
   "id": "dd0c4145",
   "metadata": {},
   "source": [
    "## 15. Modelo de cortes volumétricos para la simulación de cirugía de huesos\n",
    "**Año:**    4-Apr-2017   \n",
    "**Autor:**     Guía, Carlos  \n",
    "**Link:** http://saber.ucv.ve/handle/10872/15621   \n",
    "**Id:**  5598  \n",
    "**Haystack ID:** 539478"
   ]
  },
  {
   "cell_type": "markdown",
   "id": "8989cd8a",
   "metadata": {},
   "source": [
    "Preguntas y respuestas:\n",
    "1. que es CUDA   \n",
    "CUDA En Noviembre de 2006, NVIDIA introdujo una arquitectura de propósito general para cómputo paralelo denominada CUDATM. En ella se incluyó un nuevo modelo de programación y conjunto de instrucciones, que permiten utilizar las capacidades de paralelismo de los GPUs de NVIDIA para resolver problemas computacionales complejos de forma eficiente \n",
    "2. que es un warp   \n",
    "El término warp (urdimbre) recibe el nombre de la tejeduŕıa, considerada la primera tecnoloǵıa paralela de hilos. Se decidió utilizar el término en inglés por su amplia aceptación en la documentación, mientras que el término urdimbre no es muy utilizado en el área de cómputo paralelo. \n",
    "3. que es el despliegue volumetrico   \n",
    "Despliegue Volumétrico El término, despliegue volumétrico (volume rendering), se refiere a un conjunto de técnicas que permiten generar imágenes bidimensionales a partir de datos tridimensio- nales, llamados volúmenes. De forma teórica, un volumen es un campo escalar sobre el espacio eucĺıdeo tridimensional,\n",
    "4. que es kernel   \n",
    "Kernel en español significa núcleo, se decidió utilizar el término en inglés para evitar posibles confusiones con los núcleos de ejecución (execution core), manteniendo a su vez, la mayor consistencia posible con la documentación existente.\n",
    "5. que es un SIMT   \n",
    "El término SIMT es un acrónimo de Single-Instruction Multiple-Thread."
   ]
  },
  {
   "cell_type": "markdown",
   "id": "713703ef",
   "metadata": {},
   "source": [
    "## 16. Plataforma de envío, recepción y gestión de mensajes multimedia sobre ambiente Web, Tecnologías de Código Abierto y Módems GSM.\n",
    "**Año:**   4-Apr-2017   \n",
    "**Autor:**  Izquierdo Sánchez, Carlos Alberto      \n",
    "**Link:** http://saber.ucv.ve/handle/10872/15622  \n",
    "**Id:**  5599  \n",
    "**Haystack ID:** 539479"
   ]
  },
  {
   "cell_type": "markdown",
   "id": "2f1b80d0",
   "metadata": {},
   "source": [
    "Preguntas y respuestas:\n",
    "1. que es GSM?   \n",
    "GSM es un estándar mundial para la comunicación mediante teléfonos móviles que incorporan tecnología digital. “Groupe Special Mobile” fue creada dentro de la Conferencia Europea de Administradores de Correos y Telecomunicaciones (CEPT, siglas de su nombre en francés “Conférence Européenne des administrations des Postes et des Télécommunications”) cuyo propósito era desarrollar un único sistema de radio comunicación digital para Europa \n",
    "2. que es una tarjeta SIM?   \n",
    "Tarjeta SIM La Tarjeta SIM (SIM, Subscriber Identity Module) o tarjeta de Módulo de Identificación del Suscriptor, es una tarjeta que se utiliza en los teléfonos móviles en la que se almacena de forma segura la información del usuario del teléfono necesaria para identificarse en la red (clave de autenticación e identificación del área local).\n",
    "3. que es un SMS?   \n",
    "Sistema de Mensajes Cortos (SMS, Short Message Service) El sistema de mensajes cortos de GSM provee de un medio único para enviar mensajes cortos alfanuméricos u otro tipo de información a un usuario de un teléfono móvil. GSM distingue dos tipos de mensajes cortos\n",
    "4. que es GPRS?   \n",
    "Definición GPRS Es una extensión del Sistema Global para Comunicaciones Móviles ó GSM para la transmisión de datos no conmutada (o por paquetes). Es una solución para datos móviles que ofrece eficiencia espectral para nuevos y más veloces servicios de datos, así como para roaming internacional. Por tratarse de una tecnología de datos inalámbricos, \n",
    "5. que es MMS?   \n",
    "La mensajería multimedia móvil o MMS (Multimedia Messaging Service) es un estándar universalmente aceptado como parte de las especificaciones técnicas del 3GPP, que permite a los usuarios de teléfonos móviles con capacidades de MMS enviar y recibir en un mismo mensaje texto con formato, sonido, imágenes, animaciones y vídeo clips."
   ]
  },
  {
   "cell_type": "markdown",
   "id": "f7ee48d5",
   "metadata": {},
   "source": [
    "## 17. Incorporación de la evaluación de la experiencia del usuario en el desarrollo de software a través del Método AgilUs\n",
    "**Año:**   4-Apr-2017     \n",
    "**Autor:** Bonilla de la Concepción, Adriana; Freites Hernández, María de Lourdes       \n",
    "**Link:** http://saber.ucv.ve/handle/10872/15623   \n",
    "**Id:**  5600   \n",
    "**Haystack ID:** 539480"
   ]
  },
  {
   "cell_type": "markdown",
   "id": "e686e2ad",
   "metadata": {},
   "source": [
    "Preguntas y respuestas:\n",
    "1. que es un Proceso de Desarrollo de Software    \n",
    "Proceso de Desarrollo de Software Jacaboson, I., Booch, G., Rumbaugh J (2000) expresan que un proceso de desarrollo de software tiene como propósito la producción eficaz y eficiente de un producto de software que reúna los requisitos del cliente. \n",
    "2. que es un ciclo de vida de software   \n",
    "Ciclo de Vida Del software El ciclo de vida de software es una vista del orden de las actividades realizadas y los criterios de transición asociados entre éstas. El primer ciclo de vida del software, \"Cascada\", fue definido por Winston Royce a finales del 70. \n",
    "3. que es la usabilidad   \n",
    " Usabilidad La usabilidad se define como el grado en el que un producto puede ser utilizado por usuarios específicos para conseguir objetivos específicos con efectividad, eficiencia y satisfacción en un determinado contexto de uso (ISO 9241). \n",
    "4. que es el diseño centrado al usuario   \n",
    "Diseño Centrado en el Usuario Shneiderman, B. (1998) define el Diseño Centrado en el Usuario (DCU) como una “filosofía de diseño y un proceso en el que las necesidades, requerimientos y limitaciones del usuario final de un producto constituye el foco de cada etapa del proceso de diseño. Involucrando al usuario en cada fase del proceso de desarrollo se garantiza que el producto final responde a sus necesidades y características”.\n",
    "5. que es UX   \n",
    "A continuación se citarán definiciones de diversos autores sobre la Experiencia del Usuario (UX): Arhippainen y Tähti (2003) definen la UX como la experiencia que se obtiene cuando un usuario interactúa con un producto en condiciones particulares. En otro trabajo, Arhippainen (2003) la define como las emociones y expectativas del usuario y su relación con otras personas y el contexto de uso. KnappBjerén (2003) es más específico al definirla como \"el conjunto de ideas, sensaciones y valoraciones del usuario resultado de la interacción con un producto; es el resultado de los objetivos del usuario, las variables culturales y el diseño de la interfaz\", "
   ]
  },
  {
   "cell_type": "markdown",
   "id": "fb12cf41",
   "metadata": {},
   "source": [
    "## 18. rototipo de un reconocedor de voz para el idioma español\n",
    "**Año:**  4-Apr-2017     \n",
    "**Autor:**   Castro Briceño, David Alejandro     \n",
    "**Link:** http://saber.ucv.ve/handle/10872/15624   \n",
    "**Id:**  5601   \n",
    "**Haystack ID:** 539481"
   ]
  },
  {
   "cell_type": "markdown",
   "id": "bc4df0ca",
   "metadata": {},
   "source": [
    "Preguntas y respuestas:\n",
    "1. que es el reconocimiento de voz  \n",
    "el reconocimiento automático de voz se entiende como el proceso en el cual un sistema computacional recibe como entrada una señal de audio, que puede ser una frase o bien una palabra, de la cual se extrae la información acústica, y produce como salida un texto, que se corresponde con la señal original.\n",
    "2. que son los modelos ocultos de markov   \n",
    "Modelos ocultos de Markov Un modelo oculto de Markov (HMM) es una máquina de estados finitos, donde las secuencias de estados quedan ocultas y las transiciones vienen dadas por una función de probabilidad del estado.\n",
    "3. que es el modelo acustico?   \n",
    "Modelo Acústico El modelo acústico cumple la función de filtro que contiene las distintas variaciones de una lengua, de acuerdo a una unidad de reconocimiento previamente definida (palabras, fonemas, etc). Dependiendo de las técnicas y del alcance del modelo y de una señal acústica de entrada se obtiene la hipótesis de lo que ha dicho el hablante. \n",
    "4. que es un Modelo del Lenguaje  \n",
    "Modelo del Lenguaje Un modelo de lenguaje restringe el número de palabras que se puedan producir en el reconocimiento, estas restricciones pueden ser de carácter sintáctico o semántico y van a permitir reducir el espacio de búsqueda\n",
    "5. que es la produccion de la voz   \n",
    "Producción de la Voz Para la producción del sonido, el aparato fonador compuesto por la lengua, mandíbula, labios, etc (Figura 2) modula la presión del aire que fluye a través de las cuerdas vocales para producir una secuencia reconocida de sonidos (Deller, Hansen, y Proakis 1993)."
   ]
  },
  {
   "cell_type": "markdown",
   "id": "313f6a3e",
   "metadata": {},
   "source": [
    "## 19. Modelo de sistema de gestión y monitoreo para los puntos de acceso inalámbricos heterogéneos multifabricante. Caso de estudio: Facultad de Ciencias de la Universidad Central de Venezuela\n",
    "\n",
    "**Año:** 4-Apr-2017      \n",
    "**Autor:** Navarro Urbina, Kendall Rober      \n",
    "**Link:** http://saber.ucv.ve/handle/10872/15625   \n",
    "**Id:** 5602    \n",
    "**Haystack ID:** 539482"
   ]
  },
  {
   "cell_type": "markdown",
   "id": "617a58e8",
   "metadata": {},
   "source": [
    "Preguntas y respuestas:\n",
    "1. que es una aplicacion web  \n",
    "Se denomina Aplicación Web a aquellas aplicaciones que los usuarios pueden utilizar accediendo a un servidor Web a través de Internet o de una Intranet mediante un navegador. En otras palabras, es una aplicación software que se codifica en un lenguaje soportado por los navegadores Web en la que se confía la ejecución al navegador \n",
    "2. que es una arquitectura cliente servidor    \n",
    "Arquitectura Cliente/Servidor El modelo arquitectónico cliente-servidor es un modelo de sistema en el que dicho sistema se organiza como un conjunto de servicios y servidores asociados\n",
    "3. que es MVC   \n",
    "El Patrón de Diseño MVC (Modelo-Vista-Controlador). Es un patrón de arquitectura de software que separa los datos de una aplicación, la interfaz de usuario, y la lógica de control en tres componentes distintos. El patrón de llamada y retorno MVC se ve frecuentemente en aplicaciones Web, donde la vista es la página HTML y el código que provee de datos dinámicos a la página. El modelo es el Sistema de Gestión de Base de Datos y la lógica de negocio, y el controlador es el responsable de recibir los eventos de entrada desde la vista \n",
    "4. que es html    \n",
    "HTML o Lenguaje de Marcado de hipertexto, es un estándar reconocido en todo el mundo y cuyas normas define el World Wide Web Consortium, más conocido como W3C. Como se trata de un estándar reconocido por todas las empresas relacionadas con el mundo de Internet, una misma página HTML se visualiza de forma muy similar en cualquier navegador de cualquier sistema operativo [5].\n",
    "5. que es javascript   \n",
    "JavaScript es un lenguaje interpretado orientado a las páginas web, con una sintaxis semejante a la del lenguaje Java\n"
   ]
  },
  {
   "cell_type": "markdown",
   "id": "ae0985d5",
   "metadata": {},
   "source": [
    "## 20. Sistema para la gestión de censos, encuestas y estudios (SIGECENE))\n",
    "**Año:**   4-Apr-2017    \n",
    "**Autor:** Pereira de Melo, Fábio Roberto        \n",
    "**Link:** http://saber.ucv.ve/handle/10872/15626   \n",
    "**Id:**  5603   \n",
    "**Haystack ID:** 539483"
   ]
  },
  {
   "cell_type": "markdown",
   "id": "e105929e",
   "metadata": {},
   "source": [
    "Preguntas y respuestas:\n",
    "1. que es un censo  \n",
    "Censo. Tomando la definición dada por el Diccionario de la Real Academia Española de la Lengua: “Padrón o lista de la población o riqueza de una nación o pueblo” [8]. Es una enumeración exhaustiva de todos los habitantes de una región con el fin de recolectar la mayor cantidad de datos, entre ellos, de tipo demográfico, económico, social, cultural, etc.\n",
    "2. que es una encuesta    \n",
    "Encuesta. “Conjunto de preguntas tipificadas dirigidas a una muestra representativa, para averiguar estados de opinión o diversas cuestiones de hecho”.\n",
    "3. que es un cuestionario   \n",
    "Cuestionario. “Lista de preguntas que se proponen con cualquier fin.” [9]. Tenemos entonces que el cuestionario es la herramienta que se usa para recoger los datos en la encuesta. \n",
    "4. que es un estudio   \n",
    "Estudio. “Esfuerzo que pone el entendimiento aplicándose a conocer algo.” [11]. “Es el resultado de una investigación donde se han aplicado métodos y conocimiento.\"\n",
    "5. que es el SISOV   \n",
    "Sistema integrado de indicadores sociales para Venezuela (SISOV). El Sistema Integrado de Indicadores Sociales de Venezuela, (SISOV) es un conjunto de información sistemática e integrada, para la conceptualización, operacionalización y medición, mediante un grupo de indicadores sociales, de la multiplicidad de aspectos que conforman la calidad de vida. Además, permite un manejo interactivo y consultas georefenciales de datos provenientes del Censo Indígena y del Censo de Población y Vivienda del año 2001. "
   ]
  },
  {
   "cell_type": "markdown",
   "id": "0315effd",
   "metadata": {},
   "source": [
    "# Datos de validacion\n",
    "Estos son los datos etiquetados para evaluar el modelo"
   ]
  },
  {
   "cell_type": "markdown",
   "id": "50df1b01",
   "metadata": {},
   "source": [
    "## 1. Implantación de una plataforma de software colaborativo que permita integrar servicios ofertados por la Facultad de Ciencias\n",
    "**Año:** 25-May-2017       \n",
    "**Autor:**  González A., Jessica; Camacho G., Carlos         \n",
    "**Link:** http://saber.ucv.ve/handle/10872/15894   \n",
    "**Id:** 5725    \n",
    "**Haystack ID:** 539581"
   ]
  },
  {
   "cell_type": "markdown",
   "id": "ef53c1f7",
   "metadata": {},
   "source": [
    "Preguntas y respuestas:\n",
    "1. que son las Las tecnoloǵıas de información y comunicación     \n",
    "Las tecnoloǵıas de información y comunicación (TICS), son un conjunto de sistemas de comunicación, programas de aplicación y dispositivos de cómputo, que en conjunto facilitan el desarrollo de las tareas asociadas a los usuarios, permitiéndoles realizar actividades diarias de forma fácil y rápida.\n",
    "2. que es el internet    \n",
    "nternet La Internet es un sistema global de interconexión de redes de computadoras, que utilizan la familia de protocolos TCP/IP para poder, de manera efectiva, intercambiar información, y aśı garantizar que las distintas redes f́ısicamente unidas, puedan funcionar como una red lógica única. Esta red de redes esta compuesta por un gran número de redes de tipo públicas, privadas, académicas y gubernamentales de contexto global o local, interconectadas por medio de enlaces alámbricos o inalámbricos.\n",
    "3. que es el world wide web      \n",
    "World Wide Web El World Wide Web es un conjunto de reglas y convenciones para acceder a documentos referenciables, a través de millones de computadores en la Internet.\n",
    "4. que es HTML?   \n",
    "HTML El Lenguaje de Marcas de Hipertexto (HyperText Markup Language - HTML) es una implementación del sistema estándar de demarcación general, el cual es un sistema que permite definir y estructurar un conjunto de documentos por medio de marcas o etiquetas.\n",
    "5. que es HTTP   \n",
    "HTTP El protocolo HTTP (HyperText Transfer Protocol) es el protocolo encargado de normar el proceso de comunicación través del Web. Define la sintaxis y la semántica para los mensajes que cualquier elemento de software deba seguir, para implementar este protocolo y aśı poder efectuar de manera correcta la transmisión de datos."
   ]
  },
  {
   "cell_type": "markdown",
   "id": "2f439990",
   "metadata": {},
   "source": [
    "## 2. Implementación de un sistema de recomendación de frases basado en el algoritmo Slope One \n",
    "**Año:** 25-May-2017         \n",
    "**Autor:**  Riveros Balbi, Norman        \n",
    "**Link:**  http://saber.ucv.ve/handle/10872/15890   \n",
    "**Id:** 5726  \n",
    "**Haystack ID:** 539582"
   ]
  },
  {
   "cell_type": "markdown",
   "id": "5fa19b17",
   "metadata": {},
   "source": [
    "Preguntas y respuestas:\n",
    "1. que es un sistema de recomendacion    \n",
    "Un sistema de recomendación (en adelante SR) se define como un sistema de filtrado de información que intenta recomendar ítems o elementos sociales significativos a un conjunto de usuarios. Se denota comúnmente como ítem el elemento específico que el sistema recomiende a los usuarios.\n",
    "2. que es confianza?   \n",
    "La métrica de confianza más común es la probabilidad de que el valor predicho sea correcto, o el intervalo de confianza alrededor del valor predicho donde se encuentra una porción predefinida de los valores correctos, como el 95%.\n",
    "3. que es slope one   \n",
    "El algoritmo de predicción para filtrado colaborativo en línea Slope One (pendiente uno) se basa en el principio intuitivo de un diferencial de popularidad entre ítems para usuarios. El algoritmo determina, de par en par, cuanto más agradable es un ítem que otro y utiliza esa diferencia para predecir calificaciones. Slope One trata de proveer planes robustos que cumplan con las siguientes cinco metas (Lemire & Maclachlan, 2005):\n",
    "4. que son SRS  \n",
    "Boyd y Ellison (2007) definen los SRS como servicios basados en la web que permiten a los individuos construir un perfil público, o semi-público, dentro de un sistema, articular una lista de usuarios con los que el usuario comparte una conexión, y ver y recorrer su lista de conexiones y las de otros usuarios dentro del sistema, variando la naturaleza y la nomenclatura de estas conexiones entre varios sitios. \n",
    "5. que son indices de similitud   \n",
    "Cálculo de índices de similitud Los índices de similitud juegan un rol doble en los métodos basados en vecindario: permiten la selección de vecinos confiables, cuyas calificaciones son usadas en la predicción, y proveen los medios para dar mayor o menor importancia a estos vecinos en la misma. \n"
   ]
  },
  {
   "cell_type": "markdown",
   "id": "2d466f02",
   "metadata": {},
   "source": [
    "## 3. Gestor de objetos de aprendizaje de contenidos abiertos de tipo práctico para el apoyo a la asignatura algoritmos y programación\n",
    "\n",
    "**Año:**  25-May-2017       \n",
    "**Autor:** Rebete Guillermo, Osner           \n",
    "**Link:**  http://saber.ucv.ve/handle/10872/15891   \n",
    "**Id:**  5727    \n",
    "**Haystack ID:** 539583"
   ]
  },
  {
   "cell_type": "markdown",
   "id": "ad65c579",
   "metadata": {},
   "source": [
    "Preguntas y respuestas:\n",
    "1. que son los objetos de aprendizaje   \n",
    "Los Objetos de Aprendizaje (OA) son contenidos informativos que se encuentran organizados con un fin formativo, su diseño se encuentra orientado a la educación virtual u otros entornos virtuales para el aprendizaje y, además, se encuentran sujetos a estándares de catalogación para facilitar su almacenamiento, ubicación y distribución digitalmente (Castillo Cortés, 2009)\n",
    "2. que son los objetos de instruccion  \n",
    "Objetos de Instrucción: Son objetos principalmente destinados al apoyo del aprendizaje, el aprendiz juega un rol más bien pasivo.\n",
    "3. que son objetos de colaboracion     \n",
    "Objetos de colaboración: Son objetos que son desarrollados para la comunicación en ambientes de aprendizaje de tipo colaborativo. \n",
    "4. que es un patron pedagogico  \n",
    " Patrón Pedagógico Según Rodríguez (2009) describe un problema que se presenta con frecuencia en el proceso de enseñanza-aprendizaje, tiene como finalidad proponer una solución a ese problema, ya que ha sido demostrada su efectividad en contextos similares, de forma que la solución propuesta puede ser puede ser adoptada para problemas que sean semejantes. \n",
    "5. que es jquery  \n",
    "jQuery Es un framework para el lenguaje JavaScript, que permite programar sin preocuparse por la distinta variedad de navegadores existentes en el mercado, debido a que funciona con las plataformas más comunes. \n",
    "6. que es javascript   \n",
    "JavaScript Según Sánchez (2012) es un lenguaje para el desarrollo de aplicaciones cliente/servidor a través de Internet. Posee la característica de que es insertado dentro del mismo documento HTML, y no en un programa aparte. \n"
   ]
  },
  {
   "cell_type": "markdown",
   "id": "bac89b2f",
   "metadata": {},
   "source": [
    "## 4. Diseño y desarrollo de un módulo de comunicación entre el framework ruby on rails y la central telefónica por software asterisk, para el mercadeo de productos y servicios empresariales\n",
    "**Año:**  25-May-2017       \n",
    "**Autor:** García Mujica, Carlos Augusto   \n",
    "**Link:**   http://saber.ucv.ve/handle/10872/15892   \n",
    "**Id:**  5728     \n",
    "**Haystack ID:**  539584"
   ]
  },
  {
   "cell_type": "markdown",
   "id": "704a9f9e",
   "metadata": {},
   "source": [
    "Preguntas y respuestas:\n",
    "1. que es el desarollo agil  \n",
    "Desarrollo Ágil Explicar el concepto de Desarrollo Ágil no es sencillo, ya que existe una definición clara, pero según [Agile Alliance (2001)] se plantea como un término que comprende distintas metodologías de desarrollo de software, cuyas premisas buscan satisfacer los requerimientos cambiantes de los clientes,\n",
    "2. que es la programacion extrema   \n",
    "Programación Extrema La Programación Extrema, mejor conocida por su nombre en inglés eXtreme Programming, de allí sus siglas (XP), es una de las llamadas Metodologías Ágiles de desarrollo. [Beck (1999-b)] explica que en este tipo programación el término “extrema” viene de tomar los principios y prácticas a niveles extremos. Señala que esta metodología ha evolucionado de los distintos problemas causados por los largos ciclos de desarrollo de los modelos tradicionales.\n",
    "3. que es asterik   \n",
    "Según [MJS (2005)], Asterisk es una aplicación, multiplataforma, distribuida y desarrollada libremente, de una central telefónica PBX (Private Branch Exchange), liberada bajo la Licencia GPL de GNU (General Public License). \n",
    "4. que es ruby on rails   \n",
    "Ruby on Rails Ruby on Rails, conocido también como RoR o Rails, es un framework de aplicaciones Web escrito en el lenguaje de programación Ruby, que como se afirma en la página Web Wikipedia (2007), se apega al paradigma de la arquitectura Modelo Vista Controlador (MVC).\n",
    "5. que es una gema   \n",
    " Gemas Según el sitio Web [RubyGems Manual (2007)], una gema es una aplicación Ruby empaquetada, o biblioteca de Ruby, que tiene un nombre y una versión definida. RubyGems es el nombre del proyecto que fue responsable del desarrollo de esta herramienta, su proceso de instalación es muy sencillo y se resume simplemente en descargar el paquete de un sitio Web en Internet y ejecutar el comando Ruby setup.rb cuando se está parado en el directorio de la descarga."
   ]
  },
  {
   "cell_type": "markdown",
   "id": "aab8f544",
   "metadata": {},
   "source": [
    "## 5. Desarrollo de una solución SOA-BPM para optimizar el proceso de orden de compras de una empresa del sector construcción\n",
    "**Año:**  18-Apr-2017      \n",
    "**Autor:** Sánchez Canache, Jonatán Israel          \n",
    "**Link:** http://saber.ucv.ve/handle/10872/15685     \n",
    "**Id:**  5628     \n",
    "**Haystack ID:** 539590"
   ]
  },
  {
   "cell_type": "markdown",
   "id": "d46d86a4",
   "metadata": {},
   "source": [
    "Preguntas y respuestas:\n",
    "1. que es la arquitectura de software\n",
    "Shaw M., y Garlan D. (1994) detallan “la arquitectura de software define al sistema en términos de componentes de cómputo y las interacciones entre esos componentes.” \n",
    "2. que es un componente\n",
    "un componente es un artefacto de software autocontenido y claramente identificable que describe ó ejecuta funciones específicas; que tiene, además, una 17 interfaz claramente establecida, una documentación apropiada y un estatus de uso recurrente bien definido\n",
    "3. que es arquitectura cliente servidor\n",
    "Arquitectura Cliente-Servidor El estilo de arquitectura cliente-servidor describe la arquitectura de sistemas distribuidos conectados a través de una red, como se puede ver en la figura 1. Describe la relación entre múltiples clientes y uno o más servidores, donde los clientes inician la comunicación a través de solicitudes y esperan por la respuesta, el servidor usualmente verifica la autenticidad del usuario, procesa el requerimiento y genera el resultado enviándolo al nodo que hizo la solicitud. \n",
    "4. que es un SOA\n",
    "Una arquitectura de aplicación en la cual todas las funciones se definen como servicios independientes con interfaces invocables bien definidas, que pueden ser llamadas en secuencias definidas para formar procesos de negocios”.\n",
    "5. que es BPM\n",
    "La Gestión de Procesos de Negocios es una disciplina que busca la automatización y optimización de los procesos de negocios, para lograrlo se vale de la identificación, diseño, ejecución, monitoreo, documentación y medición de los procesos de negocio que la organización implementa. "
   ]
  },
  {
   "cell_type": "markdown",
   "id": "c7c45217",
   "metadata": {},
   "source": [
    "# Datos de prueba\n",
    "Estos son los datos etiquetados para probar el modelo"
   ]
  },
  {
   "cell_type": "markdown",
   "id": "8e4c2d58",
   "metadata": {},
   "source": [
    "## 1. Implementación de un sistema del protocolo de configuración dinámica de Hosts con mensajes de autenticación\n",
    "**Año:** 18-Apr-2017  \n",
    "**Autor:** Rubel Salas, David           \n",
    "**Link:**  http://saber.ucv.ve/handle/10872/15687    \n",
    "**Id:** 5629   \n",
    "**Haystack ID:** 539585"
   ]
  },
  {
   "cell_type": "markdown",
   "id": "a6fb13d3",
   "metadata": {},
   "source": [
    "Preguntas y respuestas:\n",
    "1. que es DHCP    \n",
    "DHCP es un protocolo definido en el RFC 2131 [1] que le permite a los equipos pertenecientes a una cierta red TCP/IP obtener parámetros de configuración en forma automática tales como dirección IP, máscara de subred, puerta de enlace predeterminada, servidores de sistemas de nombres de dominio o Domain Name System (DNS), entre otros. \n",
    "2. que es debian\n",
    "Debian GNU/Linux: Debian [16] es una distribución del sistema operativo Linux y está compuesto de varios paquetes de software siguiendo la filosofía de software libre bajo la licencia GNU GPL.\n",
    "3. que es GCC\n",
    "GCC (GNU Compiler Collection): Es un sistema de compilación producido por el Proyecto GNU y usado como el compilador estándar por la mayoría de los sistemas operativos derivados de Unix, entre ellos Linux. Mayormente utilizado para compilar programas en lenguaje C/C++, pero también posee soporte para manejar otros lenguajes de programación como Objective-C, Fortran, entre otros \n",
    "4. que es wireshark\n",
    "Wireshark: Es un analizador de paquetes y protocolos de red usado para capturar y analizar el tráfico en una red de computadoras. Comúnmente usado para solucionar problemas en redes y en el desarrollo de protocolos de software y protocolos de comunicación\n",
    "5. que es ubuntu\n",
    "Ubuntu: Ubuntu [17] es una distribución del sistema operativo Linux y basada en \"Debian\". Ubuntu se destaca por ser una de las más populares distribuciones de Linux usadas en computadores personales. Internet Systems Consortium (ISC) "
   ]
  },
  {
   "cell_type": "markdown",
   "id": "539891d2",
   "metadata": {},
   "source": [
    "## 2. Iluminación global en tiempo real basada en la voxelización de escenas con superficies difusas\n",
    "**Año:**  18-Apr-2017      \n",
    "**Autor:**   Sans Palacios, Francisco Javier      \n",
    "**Link:**  http://saber.ucv.ve/handle/10872/15692   \n",
    "**Id:** 5630   \n",
    "**Haystack ID:** 539586  "
   ]
  },
  {
   "cell_type": "markdown",
   "id": "9d6437ec",
   "metadata": {},
   "source": [
    "Preguntas y respuestas:\n",
    "1. que es la computacion grafica  \n",
    "La computación gráfica es una rama de las ciencias de la computación que se encarga del estudio, diseño y modificación de imágenes en la pantalla de un computador utilizando he- rramientas proporcionadas por diferentes ciencias como la física, la térmica, la geometría, la óptica, etc.\n",
    "2. que son superficies difusas   \n",
    "Superficies difusas Son superficies que reflejan la luz de manera uniforme en todas las direcciones posibles\n",
    "3. que son superficies especulares   \n",
    "Superficies especulares Las superficies especulares perfectas son aquellas que reflejan y refractan la luz en una dirección específica.\n",
    "4. que es ray tracing  \n",
    "Trazado de rayos El trazado de rayos (ray tracing) fue uno de los primeros esfuerzos para lograr la ilumina- ción global, introducida por Whitted [8]. En su trabajo se describe una extensión al algoritmo de lanzado de rayos (ray casting) para poder determinar la visibilidad de las superficies e incluir el efecto de refracción y reflección de superficies especulares perfectas. La técnica original presenta una alta recursividad, por lo que termina siendo ineficiente. \n",
    "5. que es la radiosidad   \n",
    "La técnica de radiosidad (radiosity) fue propuesta por Goral et al. [13] para resolver la interacción de la luz para superficies difusas. Por lo tanto, solo resuelve parcialmente el pro- blema de la iluminación global. Su idea principal es calcular el promedio de radiosidad Bi en cada elemento de superficie o parche i para una escena tridimensional. Esta técnica presenta la ventaja de que una vez realizado el cálculo de la iluminación, es posible el despliegue de manera interactiva, ya que no depende del punto de visión. "
   ]
  },
  {
   "cell_type": "markdown",
   "id": "aa85a317",
   "metadata": {},
   "source": [
    "## 3. Desarrollo de Un Módulo Web Para la Gestión de Planes de Estudio en el Sistema de Gestión Académica CONEST\n",
    "**Año:** 18-Apr-2017         \n",
    "**Autor:** Hernández C., José T.      \n",
    "**Link:** http://saber.ucv.ve/handle/10872/15691   \n",
    "**Id:** 5631      \n",
    "**Haystack ID:** 539587"
   ]
  },
  {
   "cell_type": "markdown",
   "id": "4ea8fdf9",
   "metadata": {},
   "source": [
    "Preguntas y respuestas:\n",
    "1. que es html5  \n",
    "HTML5 HTML5 (Hickson, 2010) es la quinta revisión del estándar HTML, actualmente en desarrollo. Como sus predecesores inmediatos (HTML 4.01 y XHTML 1.1), HTML5 es un estándar para estructurar y presentar contenido en la WWW.\n",
    "2. que es css3  \n",
    "CSS3 CSS3 (Bos, 2005) es la tercera especificación del estándar CSS, actualmente en desarrollo. CSS es un lenguaje de hojas de estilo que se utiliza para describir la presentación (el aspecto y el formato) de un documento escrito en un lenguaje de marcado. Su aplicación más común es para estilizar páginas web escritas en HTML y XHTML.\n",
    "3. que es jquery     \n",
    "jQuery jQuery (The jQuery Project, 2010) es una librería de JavaScript que simplifica la manera de interactuar con los documentos HTML, seleccionar elementos DOM, desarrollar animaciones, manejar eventos y agregar interacción de manera asíncrona con el servidor a páginas web.\n",
    "4. que es ruby on rails   \n",
    "Ruby on Rails Ruby on Rails (RoR) (Ruby on Rails, 2011) es un framework para desarrollar aplicaciones web escrito en el lenguaje de programación Ruby que esta optimizado para mejorar la productividad y con un mínimo de configuración. RoR incluye herramientas que facilitan las tareas más comunes de desarrollo, como generadores que pueden construir automáticamente algunas de las clases y páginas necesarias para un sitio web básico.\n",
    "5. que es haml   \n",
    "Haml Haml (Haml, 2011) es un lenguaje de enmarcado liviano que se utiliza para describir el XHTML de cualquier documento web sin el uso de codificación en línea tradicional. Está diseñado para resolver muchas de las fallas en los motores de plantillas, a la vez que hace el enmarcado tan limpio como se pueda. \n",
    " "
   ]
  },
  {
   "cell_type": "markdown",
   "id": "0ef019ba",
   "metadata": {},
   "source": [
    "## 4.  Modelo de Gestión de Información, de un Instituto de Investigación, basado en ITIL. Caso de estudio: INABIO\n",
    "\n",
    "**Año:**  22-Mar-2017       \n",
    "**Autor:** Aguiar Adamez, María Josefina            \n",
    "**Link:**  http://saber.ucv.ve/handle/10872/15302    \n",
    "**Id:**  5341     \n",
    "**Haystack ID:** 539591"
   ]
  },
  {
   "cell_type": "markdown",
   "id": "2f0e2eca",
   "metadata": {},
   "source": [
    "Preguntas y respuestas:\n",
    "1. que son las tecnologias de la informacion   \n",
    "Tecnologías de la Información y su historia Bologna y Walsh definen las Tecnologías de la Información (TI) como aquellas herramientas y métodos empleados para recabar, retener, manipular o distribuir información. Como su nombre lo dice se encuentra generalmente asociada con las computadoras y tecnologías afines aplicadas a la toma de decisiones\n",
    "2. que es un proceso     \n",
    "Proceso Es un conjunto estructurado de actividades diseñado para cumplir un objetivo concreto. Los procesos dan como resultado un cambio orientado hacía un objetivo y utilizan la retroalimentación para efectuar acciones de automejora y autocorrección\n",
    "3.  que es GSTI    \n",
    "Gestión de servicios de TI La gestión de servicios de TI (GSTI) es una disciplina basada en procesos, enfocada en alinear los servicios de TI proporcionados con las necesidades de la empresa u organización, haciendo énfasis en los beneficios que puede percibir el cliente final. Propone cambiar el paradigma de gestión de TI, por una colección de componentes enfocados en servicios de punta, usando distintos marcos de trabajo con las mejores prácticas  \n",
    "4. que es gestion de la informacion   \n",
    "Gestión de la información La gestión de la información (GI) es un proceso mediatizado por un conjunto de actividades que permiten la obtención de la información\n",
    "5. que es ITIL    \n",
    "ITIL La Biblioteca de Infraestructura de Tecnologías de la Información, es un estándar utilizado para la definición de todos los procesos relacionados con la administración y gestión de TI\n"
   ]
  },
  {
   "cell_type": "markdown",
   "id": "5f129cae",
   "metadata": {},
   "source": [
    "## 5. Prototipo de un archivo de documentos digitales provenientes de la Web. Contenido Web y almacenes de datos\n",
    "\n",
    "**Año:** 18-Apr-2017        \n",
    "**Autor:** Blanco Bustos, Carlos Alberto          \n",
    "**Link:**  http://saber.ucv.ve/handle/10872/15689     \n",
    "**Id:** 5633  \n",
    "**Haystack ID:**  539589"
   ]
  },
  {
   "cell_type": "markdown",
   "id": "80b58e63",
   "metadata": {},
   "source": [
    "Preguntas y respuestas:\n",
    "1. que es la preservacion digital   \n",
    "Preservación Digital La preservación digital es el conjunto de medidas, que se establecen con el fin de asegurar la perdurabilidad de la capacidad de visualizar, recuperar y utilizar colecciones digitales frente a las infraestructuras, elementos tecnológicos y de organización que cambian con mucha rapidez. \n",
    "2. que es el internet archive   \n",
    "Internet Archive El Internet Archive Wayback Machine es un servicio que permite a la gente a visitar las versiones archivadas de sitios Web.\n",
    "3. que es the wayback machine   \n",
    "The Wayback Machine Wayback Machine es un sitio que se dedica a archivar Internet. Es decir, rastrea Internet cada cierto tiempo, como lo hacen los buscadores tipo Google, y copia todas las webs que encuentra y que son públicamente accesibles, formando una gigantesca biblioteca de webs, permitiendo su acceso de manera gratuita.\n",
    "4. que son almacenes de datos   \n",
    "Almacenes de Datos El término Almacenes de Datos fue introducido por Bill Inmon a principios de la década de los ´90, quien lo definió como: “Es una colección de datos orientado a temas, integrado, variable en el tiempo y no volátil para ayudar al proceso de toma de decisiones gerenciales”. \n",
    "5. que es ETL   \n",
    "Proceso ETL (Extracción, Transformación y Carga) Se define como el proceso a través del cual se gestionan datos obtenidos de múltiples fuentes, con el fin de recolectarlos, limpiarlos y cargarlos en Bases de Datos Especializadas, denominadas Almacenes de Datos, para analizar y apoyar una determinada Línea de Producto o Unidad de Negocios (Inteligencias de Negocios, 2009)."
   ]
  },
  {
   "cell_type": "code",
   "execution_count": null,
   "id": "09c4a8dc",
   "metadata": {},
   "outputs": [],
   "source": []
  }
 ],
 "metadata": {
  "kernelspec": {
   "display_name": "env",
   "language": "python",
   "name": "env"
  },
  "language_info": {
   "codemirror_mode": {
    "name": "ipython",
    "version": 3
   },
   "file_extension": ".py",
   "mimetype": "text/x-python",
   "name": "python",
   "nbconvert_exporter": "python",
   "pygments_lexer": "ipython3",
   "version": "3.8.10"
  }
 },
 "nbformat": 4,
 "nbformat_minor": 5
}
